{
 "cells": [
  {
   "cell_type": "markdown",
   "metadata": {},
   "source": [
    "# old 方法: YOLOv4"
   ]
  },
  {
   "cell_type": "code",
   "execution_count": null,
   "metadata": {},
   "outputs": [],
   "source": [
    "import sys\n",
    "sys.path.append(\"..\")\n",
    "\n",
    "import pandas as pd\n",
    "from models import Yolov4\n",
    "from tensorflow import keras\n",
    "from config import yolo_config\n",
    "from iou import get_iou, calculate_ciou\n",
    "from utils import DataGenerator, read_annotation_lines\n",
    "\n",
    "import numpy as np\n",
    "from glob import glob\n",
    "from tqdm.notebook import tqdm\n",
    "\n",
    "import seaborn as sns\n",
    "from turtle import color\n",
    "from matplotlib import style\n",
    "import matplotlib.pylab as pl\n",
    "import matplotlib.pyplot as plt\n",
    "\n",
    "from sklearn.metrics import precision_recall_curve\n",
    "from sklearn.metrics import average_precision_score\n",
    "from sklearn.metrics import PrecisionRecallDisplay\n",
    "from sklearn.metrics import confusion_matrix\n",
    "from sklearn.metrics import ConfusionMatrixDisplay\n",
    "\n",
    "import math\n",
    "import cv2 as cv\n",
    "import xml.etree.ElementTree as ET\n",
    "\n",
    "import os\n",
    "# 使用第二張 GPU 卡\n",
    "os.environ[\"CUDA_VISIBLE_DEVICES\"] = \"1\""
   ]
  },
  {
   "cell_type": "markdown",
   "metadata": {},
   "source": [
    "# 載入模型"
   ]
  },
  {
   "cell_type": "code",
   "execution_count": null,
   "metadata": {},
   "outputs": [],
   "source": [
    "# yolo_config['score_threshold']=0.7\n",
    "# print(yolo_config)"
   ]
  },
  {
   "cell_type": "code",
   "execution_count": null,
   "metadata": {},
   "outputs": [],
   "source": [
    "\n",
    "class_name_path = '../class_names/classes.txt'\n",
    "model = Yolov4(\n",
    "               weight_path    = None, \n",
    "               config         = yolo_config,\n",
    "               class_name_path= class_name_path, \n",
    "               )\n",
    "model.load_weights(path=\"../model/202303/20230331_sopbox_0.weights\")"
   ]
  },
  {
   "cell_type": "code",
   "execution_count": null,
   "metadata": {},
   "outputs": [],
   "source": []
  },
  {
   "cell_type": "markdown",
   "metadata": {},
   "source": [
    "# 使用 stage1 分類預測結果的 \"真值\""
   ]
  },
  {
   "cell_type": "code",
   "execution_count": null,
   "metadata": {},
   "outputs": [],
   "source": [
    "stage1_pred_result = pd.read_pickle(\"../../classification/result/stage1_pred_result_test_20230323.pickle\")\n",
    "# stage1_pred_result = pd.read_pickle(\"../../classification/result/stage1_pred_result_train.pickle\")   # 這邊換stage1結果!!!!!!!!!!!!!!!!!!!!!!!!!!!!\n",
    "# stage1_pred_result = pd.read_pickle(\"../../classification/result/stage1_pred_result_test.pickle\")   # 這邊換stage1結果!!!!!!!!!!!!!!!!!!!!!!!!!!!!\n",
    "# stage1_pred_result = pd.read_pickle(\"../../classification/result/stage1_pred_result_validation.pickle\")   # 這邊換stage1結果!!!!!!!!!!!!!!!!!!!!!!!!!!!!\n",
    "# stage1_pred_result = pd.read_pickle(\"../../classification/result/stage1_pred_result_test_nosmooth.pickle\")   # 這邊換stage1結果!!!!!!!!!!!!!!!!!!!!!!!!!!!!"
   ]
  },
  {
   "cell_type": "code",
   "execution_count": null,
   "metadata": {},
   "outputs": [],
   "source": [
    "stage1_pred_result = stage1_pred_result.drop(columns=['stage1_test_pred'])\n",
    "stage1_pred_result"
   ]
  },
  {
   "cell_type": "code",
   "execution_count": null,
   "metadata": {},
   "outputs": [],
   "source": []
  },
  {
   "cell_type": "markdown",
   "metadata": {},
   "source": [
    "# 每一個test image \"True\" bounding box"
   ]
  },
  {
   "cell_type": "code",
   "execution_count": null,
   "metadata": {},
   "outputs": [],
   "source": [
    "true_box_PATH = '../test_dataset/txt/20230330_anno_test_lines_0.txt'\n",
    "# true_box_PATH = '../test_dataset/txt/20221102_anno_test_lines_0.txt'       # 這邊要修改train/test 的路徑!!!!!!!!\n",
    "# true_box_PATH = '../dataset/txt/20221102_anno_train_lines_0.txt'\n",
    "# true_box_PATH = '../dataset/txt/20221102_anno_val_lines_0.txt'\n",
    "\n",
    "\n",
    "true_bboxes_names = []\n",
    "true_bboxes_list  = []\n",
    "with open(true_box_PATH) as f:\n",
    "    for line in f.readlines():\n",
    "        true_bboxes_list.append(tuple([int(i) for i in line.split(' ')[1].split(',')[:4]]))\n",
    "        true_bboxes_names.append(line.split(' ')[0])\n",
    "        "
   ]
  },
  {
   "cell_type": "code",
   "execution_count": null,
   "metadata": {},
   "outputs": [],
   "source": [
    "true_bboxes = pd.DataFrame({'test_name':true_bboxes_names, \n",
    "                            'true_bbox':true_bboxes_list\n",
    "                          })\n",
    "true_bboxes"
   ]
  },
  {
   "cell_type": "code",
   "execution_count": null,
   "metadata": {},
   "outputs": [],
   "source": [
    "result_table = stage1_pred_result.merge(true_bboxes, on=['test_name'], how='left')\n",
    "result_table = result_table.fillna('NO')\n",
    "result_table"
   ]
  },
  {
   "cell_type": "code",
   "execution_count": null,
   "metadata": {},
   "outputs": [],
   "source": []
  },
  {
   "cell_type": "markdown",
   "metadata": {},
   "source": [
    "# 每一個test image \"Pred\" bounding box"
   ]
  },
  {
   "cell_type": "code",
   "execution_count": null,
   "metadata": {},
   "outputs": [],
   "source": [
    "# PATH = '../../classification/dataset_smooth_186video_20230323/test/0/'\n",
    "PATH = '../../classification/dataset_186video_20230323/test/0/'\n",
    "# PATH = '../../classification/dataset_22video_20221031/test/0/'\n",
    "# PATH = '../../classification/dataset_smooth_22video_20221031/test/0/'\n",
    "# PATH = '../../classification/dataset_smooth_22video_20221031/test/0/'\n",
    "# PATH = '../dataset/img/20221024_train_vali_img_sopbox_0/'                        # 這邊要修改train/test 的路徑!!!!!!!!\n",
    "\n",
    "pred_bboxes_names  = []  # all image names\n",
    "pred_bboxes_scores = []  # all bboxes scores\n",
    "pred_bboxes_list   = []  # all bboxes\n",
    "for test_img_name in result_table[result_table['test_true']==0]['test_name']:  # glob(os.path.join(PATH, '*.png')):\n",
    "    test_img_path = PATH + test_img_name\n",
    "    output_img, detections = model.predict(img_path=test_img_path, \n",
    "                                            random_color=False, # 框顏色\n",
    "                                            plot_img=False, # 顯示出框選圖片\n",
    "                                            show_text=True, # 框上面加上類別文字\n",
    "                                            box_num=1,      # 顯示框的數量\n",
    "                                            return_output=True)\n",
    "    \n",
    "\n",
    "    pred_box_num = len(detections['score'])  \n",
    "    if pred_box_num > 0:       # 有預測出box\n",
    "        score = detections[0:1]['score'].to_numpy()[0]\n",
    "        pred_bboxes_names.append(test_img_name)\n",
    "        pred_bboxes_scores.append(score)\n",
    "        pred_bboxes_list.append(tuple(detections[0:1][['x1','y1','x2','y2']].to_numpy()[0]))\n",
    "\n",
    "    else:\n",
    "        pred_bboxes_names.append(test_img_name)\n",
    "        pred_bboxes_scores.append(0.0)\n",
    "        pred_bboxes_list.append('NO')\n",
    "        print('沒有預測出來有box(label)')\n",
    "\n",
    "PATH = '../../classification/dataset_186video_20230323/test/1/'  #!!!!!!!!!!!!!!!!!!!!!!!!!!!!!!!!!!!!!!!!!!!!!!!!!!!!!!!!!!!!!!!!!!!!!!  要記得換\n",
    "# PATH = '../../classification/dataset_smooth_186video_20230323/test/1/'  #!!!!!!!!!!!!!!!!!!!!!!!!!!!!!!!!!!!!!!!!!!!!!!!!!!!!!!!!!!!!!!!!!!!!!!  要記得換\n",
    "# PATH = '../../classification/dataset_22video_20221031/test/1/'  #!!!!!!!!!!!!!!!!!!!!!!!!!!!!!!!!!!!!!!!!!!!!!!!!!!!!!!!!!!!!!!!!!!!!!!  要記得換\n",
    "# PATH = '../../classification/dataset_smooth_22video_20221031/test/1/'\n",
    "for test_img_name in result_table[result_table['test_true']==1]['test_name']:  # glob(os.path.join(PATH, '*.png')):\n",
    "    test_img_path = PATH + test_img_name\n",
    "    output_img, detections = model.predict(img_path=test_img_path, \n",
    "                                            random_color=False, # 框顏色\n",
    "                                            plot_img=False, # 顯示出框選圖片\n",
    "                                            show_text=True, # 框上面加上類別文字\n",
    "                                            box_num=1,      # 顯示框的數量\n",
    "                                            return_output=True)\n",
    "    \n",
    "    pred_box_num = len(detections['score'])                    \n",
    "    if pred_box_num > 0:       # 有預測出box\n",
    "        score = detections[0:1]['score'].to_numpy()[0]\n",
    "        pred_bboxes_names.append(test_img_name)\n",
    "        pred_bboxes_scores.append(score)\n",
    "        pred_bboxes_list.append(tuple(detections[0:1][['x1','y1','x2','y2']].to_numpy()[0]))\n",
    "\n",
    "    else:\n",
    "        pred_bboxes_names.append(test_img_name)\n",
    "        pred_bboxes_scores.append(0.0)\n",
    "        pred_bboxes_list.append('NO')\n",
    "        print('沒有預測出來有box(label)')"
   ]
  },
  {
   "cell_type": "code",
   "execution_count": null,
   "metadata": {},
   "outputs": [],
   "source": [
    "pred_bboxes = pd.DataFrame({'test_name':pred_bboxes_names, \n",
    "                            'pred_bbox':pred_bboxes_list,\n",
    "                            'score':pred_bboxes_scores\n",
    "               })\n",
    "pred_bboxes"
   ]
  },
  {
   "cell_type": "code",
   "execution_count": null,
   "metadata": {},
   "outputs": [],
   "source": []
  },
  {
   "cell_type": "markdown",
   "metadata": {},
   "source": [
    "# Left join table"
   ]
  },
  {
   "cell_type": "code",
   "execution_count": null,
   "metadata": {},
   "outputs": [],
   "source": [
    "result_table          = result_table.merge(pred_bboxes, on=['test_name'], how='left')\n",
    "result_table['score'] = result_table['score'].fillna(0)  # 分數補0\n",
    "result_table          = result_table.fillna('NO')       # bbox補'NO'\n",
    "result_table"
   ]
  },
  {
   "cell_type": "code",
   "execution_count": null,
   "metadata": {},
   "outputs": [],
   "source": []
  },
  {
   "cell_type": "markdown",
   "metadata": {},
   "source": [
    "# 計算iou\n",
    "參數:\n",
    "\n",
    "iou_threshold = 0.7    \"iou大於0.7才是有框選到\""
   ]
  },
  {
   "cell_type": "code",
   "execution_count": null,
   "metadata": {},
   "outputs": [],
   "source": [
    "def valid(TP, FN, FP, TN):\n",
    "    \n",
    "    precision = 0 if (TP+FP)==0 else TP/(TP+FP)\n",
    "    recall    = 0 if (TP+FN)==0 else TP/(TP+FN)\n",
    "    f1        = 0 if (precision+recall)==0 else 2*precision*recall/(precision+recall)\n",
    "\n",
    "    print('precision={:.2f}, recall={:.2f}, f1={:.2f}'.format(precision, recall, f1))\n",
    "    print(TP,\"|\",FN,\"\\n\",\n",
    "          FP,\"|\",TN)\n",
    "\n",
    "    return precision, recall, f1"
   ]
  },
  {
   "cell_type": "code",
   "execution_count": null,
   "metadata": {},
   "outputs": [],
   "source": [
    "def plt_precision_recall_curve_1(y_true, y_scores):\n",
    "    precision, recall, thresholds = precision_recall_curve(y_true, y_scores)\n",
    "    average_precision             = average_precision_score(y_true, y_scores)\n",
    "    # 用套件畫\n",
    "    # disp = PrecisionRecallDisplay(precision=precision, recall=recall, average_precision=average_precision)\n",
    "    # disp.plot()\n",
    "    # plt.ylim([0.0, 1.05])\n",
    "    # plt.xlim([0.0, 1.0])\n",
    "    # plt.show()\n",
    "\n",
    "    # 自己畫\n",
    "    plt.plot(recall, precision, 'b-')   \n",
    "    plt.ylim([0.0, 1.05])\n",
    "    plt.xlim([0.0, 1.0])  \n",
    "    plt.xlabel('recall')\n",
    "    plt.ylabel('precision')\n",
    "    plt.title('precision_recall_curve')\n",
    "    plt.legend(['AP={}'.format(round(average_precision,2))])\n",
    "    plt.show()\n",
    "\n",
    "    # print('precision = ', precision)\n",
    "    # print('recall = ', recall)\n",
    "    # print('thresholds = ',thresholds)\n",
    "    print('AP={:.2f}'.format(average_precision))"
   ]
  },
  {
   "cell_type": "code",
   "execution_count": null,
   "metadata": {},
   "outputs": [],
   "source": [
    "def plt_heatmap(con_ma):\n",
    "    '''\n",
    "    :input: con_ma:[[TP,FN],[FP,TN]]\n",
    "    '''\n",
    "    sns.set(font_scale=1.5)\n",
    "    f,ax=plt.subplots()\n",
    "    sns.heatmap(con_ma, annot=True, ax=ax, fmt='d', cmap='YlGnBu', vmax=200, vmin=0) # 畫熱力圖\n",
    "    ax.set_title('confusion matrix') # 標題\n",
    "    ax.set_xlabel('predict')         # x軸\n",
    "    ax.set_ylabel('true')            # y軸\n",
    "    ax.xaxis.set_ticklabels(['Papilla', 'No Papilla'])\n",
    "    ax.yaxis.set_ticklabels(['Papilla', 'No Papilla'])\n",
    "    plt.show()"
   ]
  },
  {
   "cell_type": "code",
   "execution_count": null,
   "metadata": {},
   "outputs": [],
   "source": []
  },
  {
   "attachments": {},
   "cell_type": "markdown",
   "metadata": {},
   "source": [
    "# old測試集結果 ciou_threshold=0.5:0.05:0.95"
   ]
  },
  {
   "cell_type": "code",
   "execution_count": null,
   "metadata": {},
   "outputs": [],
   "source": [
    "row, column = result_table.shape\n",
    "result_table"
   ]
  },
  {
   "cell_type": "code",
   "execution_count": null,
   "metadata": {},
   "outputs": [],
   "source": [
    "def plt_precision_recall_curve_2(iou_thresholds, y_trues, y_scores):\n",
    "    n      = len(y_trues)\n",
    "    colors = pl.cm.jet(np.linspace(0,1,n))\n",
    "    plt.ylim([0.0, 1.05])\n",
    "    plt.xlim([0.0, 1.0])  \n",
    "    plt.xlabel('recall')\n",
    "    plt.ylabel('precision')\n",
    "    plt.title('precision_recall_curve')\n",
    "\n",
    "    total_average_precision = 0\n",
    "    for i in range(n):\n",
    "        iou_threshold = round(iou_thresholds[i],4)\n",
    "        y_true        = y_trues[i]\n",
    "        y_score       = y_scores[i]\n",
    "        average_precision = round(average_precision_score(y_true, y_score), 4)\n",
    "        if average_precision<=0 or math.isnan(average_precision):\n",
    "            total_average_precision += 0\n",
    "            plt.plot([0], [0], color=colors[i], label = \"IoU={} => AP={}\".format(iou_threshold, 0))\n",
    "        else:\n",
    "            total_average_precision += average_precision\n",
    "            precision, recall, thresholds = precision_recall_curve(y_true, y_score)\n",
    "            # 自己畫\n",
    "            plt.plot(recall, precision, color=colors[i], label = \"IoU={} => AP={}\".format(iou_threshold, average_precision))   \n",
    "        \n",
    "        # print('precision = ', precision)\n",
    "        # print('recall = ', recall)\n",
    "        # print('thresholds = ',thresholds)\n",
    "        # print('AP={:.2f}'.format(average_precision))\n",
    "\n",
    "    averaged_AP = round(total_average_precision/n, 4)\n",
    "    print(\"Averaged_AP= \", averaged_AP)\n",
    "    plt.legend(loc='upper left',bbox_to_anchor=(0.0, -0.3))\n",
    "    plt.show()"
   ]
  },
  {
   "cell_type": "code",
   "execution_count": null,
   "metadata": {},
   "outputs": [],
   "source": [
    "iou_thresholds = np.arange(0.5, 1.0, 0.05)      \n",
    "\n",
    "precisions, recalls, f1s = [], [], []\n",
    "y_trues  = []\n",
    "y_scores = []\n",
    "for iou_threshold in iou_thresholds:\n",
    "    y_true   = []                # 0:無壺腹乳頭 1:有壺腹乳頭\n",
    "    y_score  = []                # confidence分數\n",
    "    for r in range(row):         # row: 列數\n",
    "        test_img_name = result_table.iloc[r:r+1]['test_name'][r]\n",
    "        true_bbox     = result_table.iloc[r:r+1]['true_bbox'][r]\n",
    "        pred_bbox     = result_table.iloc[r:r+1]['pred_bbox'][r]\n",
    "        score         = result_table.iloc[r:r+1]['score'][r]\n",
    "\n",
    "        if true_bbox != 'NO' and pred_bbox != 'NO':\n",
    "            iou = get_iou(true_bbox, pred_bbox)           # 找出真實box和預測box的iou\n",
    "            # ciou = calculate_ciou(true_bbox, pred_bbox)                     # 找出真實box和預測box的ciou\n",
    "            \n",
    "            if iou >= (iou_threshold+0.05):   # 如果>=iou，才是有預測到，TP會增加\n",
    "                y_true.append(1)\n",
    "                y_score.append(score)\n",
    "            else:\n",
    "                y_true.append(0)\n",
    "                y_score.append(score)\n",
    "        elif true_bbox != 'NO' and pred_bbox == 'NO':   # FN\n",
    "            y_true.append(1)\n",
    "            y_score.append(0)\n",
    "        elif true_bbox == 'NO' and pred_bbox != 'NO':   # FP\n",
    "            \n",
    "            y_true.append(0)\n",
    "            y_score.append(score)\n",
    "\n",
    "    y_trues.append(y_true)\n",
    "    y_scores.append(y_score)\n",
    "\n",
    "plt_precision_recall_curve_2(iou_thresholds, y_trues, y_scores)     # 畫PR curve"
   ]
  },
  {
   "cell_type": "code",
   "execution_count": null,
   "metadata": {},
   "outputs": [],
   "source": []
  },
  {
   "cell_type": "code",
   "execution_count": null,
   "metadata": {},
   "outputs": [],
   "source": []
  },
  {
   "cell_type": "code",
   "execution_count": null,
   "metadata": {},
   "outputs": [],
   "source": []
  },
  {
   "cell_type": "code",
   "execution_count": null,
   "metadata": {},
   "outputs": [],
   "source": []
  }
 ],
 "metadata": {
  "kernelspec": {
   "display_name": "Python 3.9.15 ('myenv')",
   "language": "python",
   "name": "python3"
  },
  "language_info": {
   "codemirror_mode": {
    "name": "ipython",
    "version": 3
   },
   "file_extension": ".py",
   "mimetype": "text/x-python",
   "name": "python",
   "nbconvert_exporter": "python",
   "pygments_lexer": "ipython3",
   "version": "3.9.13"
  },
  "orig_nbformat": 4,
  "vscode": {
   "interpreter": {
    "hash": "e60de47cb3857121f9ee587fa65ec3e886692403f703077c3e6fd7aef069122f"
   }
  }
 },
 "nbformat": 4,
 "nbformat_minor": 2
}
