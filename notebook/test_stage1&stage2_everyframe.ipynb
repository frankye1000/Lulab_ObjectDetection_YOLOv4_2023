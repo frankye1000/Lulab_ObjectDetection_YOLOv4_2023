{
 "cells": [
  {
   "cell_type": "markdown",
   "metadata": {},
   "source": [
    "# new 方法: stage1 & stage2"
   ]
  },
  {
   "cell_type": "code",
   "execution_count": null,
   "metadata": {},
   "outputs": [],
   "source": [
    "import sys\n",
    "sys.path.append(\"..\")\n",
    "\n",
    "import time\n",
    "import pandas as pd\n",
    "from models import Yolov4\n",
    "from tensorflow import keras\n",
    "from config import yolo_config\n",
    "from iou import get_iou, calculate_ciou\n",
    "from utils import DataGenerator, read_annotation_lines\n",
    "\n",
    "import numpy as np\n",
    "from glob import glob\n",
    "from tqdm.notebook import tqdm\n",
    "\n",
    "import seaborn as sns\n",
    "from turtle import color\n",
    "from matplotlib import style\n",
    "import matplotlib.pylab as pl\n",
    "import matplotlib.pyplot as plt\n",
    "\n",
    "from sklearn.metrics import precision_recall_curve\n",
    "from sklearn.metrics import average_precision_score\n",
    "from sklearn.metrics import PrecisionRecallDisplay\n",
    "from sklearn.metrics import confusion_matrix\n",
    "from sklearn.metrics import ConfusionMatrixDisplay\n",
    "\n",
    "import math\n",
    "import cv2 as cv\n",
    "import xml.etree.ElementTree as ET\n",
    "\n",
    "import pickle\n",
    "\n",
    "import os\n",
    "# 使用第二張 GPU 卡\n",
    "os.environ[\"CUDA_VISIBLE_DEVICES\"] = \"1\""
   ]
  },
  {
   "cell_type": "markdown",
   "metadata": {},
   "source": [
    "# 載入模型"
   ]
  },
  {
   "cell_type": "code",
   "execution_count": null,
   "metadata": {},
   "outputs": [],
   "source": [
    "# yolo_config['score_threshold']=0.7\n",
    "# print(yolo_config)"
   ]
  },
  {
   "cell_type": "code",
   "execution_count": null,
   "metadata": {},
   "outputs": [],
   "source": [
    "import warnings\n",
    "warnings.filterwarnings('ignore')\n",
    "class_name_path = '../class_names/classes.txt'\n",
    "model = Yolov4(\n",
    "               weight_path    =None, \n",
    "               config         =yolo_config,\n",
    "               class_name_path=class_name_path, \n",
    "               )\n",
    "model.load_weights(path=\"../model/202303/20230403_sopbox_0.weights\")            # 換stage2模型"
   ]
  },
  {
   "cell_type": "code",
   "execution_count": null,
   "metadata": {},
   "outputs": [],
   "source": [
    "import pickle\n",
    "testdata = \"test_20220802\"\n",
    "\n",
    "with open('../../classification/dataset_test_everyframes/{}_stage1_everyframes_result_20230430.pk'.format(testdata), 'rb') as f:\n",
    "    stage1_result = pickle.load(f)"
   ]
  },
  {
   "cell_type": "code",
   "execution_count": null,
   "metadata": {},
   "outputs": [],
   "source": [
    "stage1_result.head()"
   ]
  },
  {
   "cell_type": "code",
   "execution_count": null,
   "metadata": {},
   "outputs": [],
   "source": [
    "row,col = stage1_result.shape\n",
    "print(row,col)"
   ]
  },
  {
   "cell_type": "code",
   "execution_count": null,
   "metadata": {},
   "outputs": [],
   "source": [
    "test_img_paths = \"../../classification/dataset_test_everyframes/{}/\".format(testdata)\n",
    "\n",
    "'''\n",
    "output_img: image array\n",
    "detections: DataFram of box(x1,y1,x2,y2)\n",
    "'''\n",
    "pred_box = []\n",
    "pred_box_num = 0  # 有預測框的圖像數量\n",
    "\n",
    "start_time = time.time()\n",
    "s_time     = time.time()\n",
    "loop_times = []\n",
    "for r in range(row):\n",
    "    test_img_name = stage1_result.iloc[r:r+1]['img_name'].values[0]\n",
    "    \n",
    "    output_img, detections = model.predict(img_path=test_img_paths+test_img_name, \n",
    "                                           random_color=False, # 框顏色\n",
    "                                            plot_img=False, # 顯示出框選圖片\n",
    "                                            show_text=True, # 框上面加上類別文字\n",
    "                                            box_num=1,      # 顯示框的數量\n",
    "                                            return_output=True)\n",
    "    if len(detections) == 1:\n",
    "        pred_box_num += 1\n",
    "        # 要把bbox存起來給 stage 3 用\n",
    "        pred_box.extend([[test_img_name]+detections.values[0].tolist()])\n",
    "    \n",
    "    # 計算每張圖片計算時間\n",
    "    temp_time = time.time()\n",
    "    loop_times.append(temp_time-s_time)\n",
    "    s_time = temp_time\n",
    "\n",
    "    # 畫上bbox的影像\n",
    "    # plt.imsave('../result_img/test_h_stage2_everyframes_result_20230110/test_{}'.format(test_img_name), output_img)\n",
    "    # imgplot = plt.imshow(output_img)\n",
    "    # plt.show()\n",
    "\n",
    "end_time = time.time()\n",
    "print(end_time-start_time)\n",
    "print('有預測框的圖像數量=', pred_box_num)"
   ]
  },
  {
   "cell_type": "code",
   "execution_count": null,
   "metadata": {},
   "outputs": [],
   "source": [
    "pd.DataFrame(pred_box,columns=['img_name','x1','y1','x2','y2','class_name','score','w','h']).to_pickle(\"../result_img/{}_stage2_everyframes_result_20230430/{}_stage2_everyframes_result_20230430.pickle\".format(testdata,testdata))\n"
   ]
  },
  {
   "cell_type": "code",
   "execution_count": null,
   "metadata": {},
   "outputs": [],
   "source": [
    "print(\"Best time on = {:.6f}\".format(min(loop_times)))\n",
    "print(\"Worst time on = {:.6f}\".format(max(loop_times)))\n",
    "print(\"Avg time on = {:.6f}\".format(sum(loop_times)/len(loop_times)))"
   ]
  },
  {
   "cell_type": "code",
   "execution_count": null,
   "metadata": {},
   "outputs": [],
   "source": []
  },
  {
   "cell_type": "code",
   "execution_count": null,
   "metadata": {},
   "outputs": [],
   "source": []
  }
 ],
 "metadata": {
  "kernelspec": {
   "display_name": "Python 3.9.15 ('myenv')",
   "language": "python",
   "name": "python3"
  },
  "language_info": {
   "codemirror_mode": {
    "name": "ipython",
    "version": 3
   },
   "file_extension": ".py",
   "mimetype": "text/x-python",
   "name": "python",
   "nbconvert_exporter": "python",
   "pygments_lexer": "ipython3",
   "version": "3.9.13"
  },
  "orig_nbformat": 4,
  "vscode": {
   "interpreter": {
    "hash": "e60de47cb3857121f9ee587fa65ec3e886692403f703077c3e6fd7aef069122f"
   }
  }
 },
 "nbformat": 4,
 "nbformat_minor": 2
}
