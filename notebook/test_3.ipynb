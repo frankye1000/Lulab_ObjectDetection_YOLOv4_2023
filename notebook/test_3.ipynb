{
 "cells": [
  {
   "cell_type": "markdown",
   "metadata": {},
   "source": [
    "# smallBox and bigBox 合併"
   ]
  },
  {
   "cell_type": "code",
   "execution_count": 1,
   "metadata": {},
   "outputs": [],
   "source": [
    "import sys\n",
    "sys.path.append(\"..\")\n",
    "\n",
    "import pandas as pd\n",
    "from models import Yolov4\n",
    "from tensorflow import keras\n",
    "from config import yolo_config\n",
    "from utils import DataGenerator, read_annotation_lines\n",
    "\n",
    "import cv2 as cv\n",
    "import numpy as np\n",
    "from glob import glob\n",
    "from tqdm.notebook import tqdm\n",
    "\n",
    "import matplotlib.pyplot as plt\n",
    "from sklearn.metrics import precision_recall_curve\n",
    "from sklearn.metrics import average_precision_score\n",
    "from sklearn.metrics import PrecisionRecallDisplay\n",
    "\n",
    "import math\n",
    "# import torch\n",
    "import xml.etree.ElementTree as ET\n",
    "import os\n",
    "\n",
    "# 使用第二張 GPU 卡\n",
    "os.environ[\"CUDA_VISIBLE_DEVICES\"] = \"1\""
   ]
  },
  {
   "cell_type": "code",
   "execution_count": 2,
   "metadata": {},
   "outputs": [],
   "source": [
    "def get_iou(bbox_ai, bbox_gt):\n",
    "    iou_x = max(bbox_ai[0], bbox_gt[0]) # x\n",
    "    iou_y = max(bbox_ai[1], bbox_gt[1]) # y\n",
    "    iou_w = min(bbox_ai[2]+bbox_ai[0], bbox_gt[2]+bbox_gt[0]) - iou_x # w\n",
    "    iou_w = max(iou_w, 0)\n",
    "    # print(f'{iou_w=}')\n",
    "    iou_h = min(bbox_ai[3]+bbox_ai[1], bbox_gt[3]+bbox_gt[1]) - iou_y # h\n",
    "    iou_h = max(iou_h, 0)\n",
    "    # print(f'{iou_h=}')\n",
    "\n",
    "    iou_area = iou_w * iou_h\n",
    "    # print(f'{iou_area=}')\n",
    "    all_area = bbox_ai[2]*bbox_ai[3] + bbox_gt[2]*bbox_gt[3] - iou_area\n",
    "    # print(f'{all_area=}')\n",
    "\n",
    "    if all_area == 0:  # 有可能雙方皆沒有重疊，或是一開始就沒有label\n",
    "        return 0\n",
    "    return max(iou_area/all_area, 0)"
   ]
  },
  {
   "cell_type": "code",
   "execution_count": 3,
   "metadata": {},
   "outputs": [],
   "source": [
    "def calculate_ciou(box_1, box_2):\n",
    "    \"\"\"\n",
    "    calculate ciou\n",
    "    :param box_1: (x0, y0, x1, y1)\n",
    "    :param box_2: (x0, y0, x1, y1)\n",
    "    :return: value of ciou\n",
    "    \"\"\"\n",
    "    # perfect\n",
    "    if box_1==box_2:  \n",
    "        return 1.0\n",
    "\n",
    "    # calculate area of each box\n",
    "    width_1 = box_1[2] - box_1[0]\n",
    "    height_1 = box_1[3] - box_1[1]\n",
    "    area_1 = width_1 * height_1\n",
    "\n",
    "    width_2 = box_2[2] - box_2[0]\n",
    "    height_2 = box_2[3] - box_2[1]\n",
    "    area_2 = width_2 * height_2\n",
    "\n",
    "    # calculate center point of each box\n",
    "    center_x1 = (box_1[2] - box_1[0]) / 2\n",
    "    center_y1 = (box_1[3] - box_1[1]) / 2\n",
    "    center_x2 = (box_2[2] - box_2[0]) / 2\n",
    "    center_y2 = (box_2[3] - box_2[1]) / 2\n",
    "\n",
    "    # calculate square of center point distance\n",
    "    p2 = (center_x2 - center_x1) ** 2 + (center_y2 - center_y1) ** 2\n",
    "\n",
    "    # calculate square of the diagonal length\n",
    "    width_c = max(box_1[2], box_2[2]) - min(box_1[0], box_2[0])\n",
    "    height_c = max(box_1[3], box_2[3]) - min(box_1[1], box_2[1])\n",
    "    c2 = width_c ** 2 + height_c ** 2\n",
    "\n",
    "    # find the edge of intersect box\n",
    "    left = max(box_1[0], box_2[0])\n",
    "    top = max(box_1[1], box_2[1])\n",
    "    bottom = min(box_1[3], box_2[3])\n",
    "    right = min(box_1[2], box_2[2])\n",
    "\n",
    "    # calculate the intersect area\n",
    "    area_intersection = (right - left) * (bottom - top)\n",
    "\n",
    "    # calculate the union area\n",
    "    area_union = area_1 + area_2 - area_intersection\n",
    "\n",
    "    # calculate iou\n",
    "    iou = float(area_intersection) / area_union\n",
    "\n",
    "    # calculate v\n",
    "    arctan = math.atan(float(width_2) / height_2) - math.atan(float(width_1) / height_1)\n",
    "    v = (4.0 / math.pi ** 2) * (arctan ** 2)\n",
    "\n",
    "    # calculate alpha\n",
    "    alpha = float(v) / (1 - iou + v)\n",
    "\n",
    "    # calculate ciou(iou - p2 / c2 - alpha * v)\n",
    "    ciou = iou - float(p2) / c2 - alpha * v\n",
    "\n",
    "    return ciou"
   ]
  },
  {
   "cell_type": "code",
   "execution_count": 4,
   "metadata": {},
   "outputs": [],
   "source": [
    "def plt_precision_recall_curve(y_true, y_scores):\n",
    "    precision, recall, thresholds = precision_recall_curve(y_true, y_scores)\n",
    "    average_precision             = average_precision_score(y_true, y_scores)\n",
    "    # 用套件畫\n",
    "    # disp = PrecisionRecallDisplay(precision=precision, recall=recall, average_precision=average_precision)\n",
    "    # disp.plot()\n",
    "    # plt.ylim([0.0, 1.05])\n",
    "    # plt.xlim([0.0, 1.0])\n",
    "    # plt.show()\n",
    "\n",
    "    # 自己畫\n",
    "    plt.plot(recall, precision, 'b-o')     \n",
    "    plt.xlabel('recall')\n",
    "    plt.ylabel('precision')\n",
    "    plt.title('precision_recall_curve')\n",
    "    plt.legend(['AP={}'.format(round(average_precision))])\n",
    "    plt.show()\n",
    "\n",
    "    print('precision = ', precision)\n",
    "    print('recall = ', recall)\n",
    "    print('thresholds = ',thresholds)\n",
    "    print('AP={:.2f}'.format(average_precision))"
   ]
  },
  {
   "cell_type": "code",
   "execution_count": 5,
   "metadata": {},
   "outputs": [],
   "source": [
    "def pltText(x_, y_, clas):\n",
    "    for x, y in zip(x_, y_):\n",
    "        if clas == 'big':\n",
    "            plt.text(x,y,str(round(y,2)),ha='left',va='top',fontsize=10, color='r',rotation=45,)\n",
    "        elif clas == 'union':\n",
    "            plt.text(x,y,str(round(y,2)),ha='left',va='bottom',fontsize=10, color='b',rotation=45,)"
   ]
  },
  {
   "cell_type": "markdown",
   "metadata": {},
   "source": [
    "# 載入模型"
   ]
  },
  {
   "cell_type": "code",
   "execution_count": 6,
   "metadata": {},
   "outputs": [],
   "source": [
    "# yolo_config['score_threshold']=0.7\n",
    "# print(yolo_config)"
   ]
  },
  {
   "cell_type": "code",
   "execution_count": 7,
   "metadata": {},
   "outputs": [
    {
     "name": "stdout",
     "output_type": "stream",
     "text": [
      "nms iou: 0.2 score: 0.5\n",
      "nms iou: 0.2 score: 0.5\n"
     ]
    }
   ],
   "source": [
    "import warnings\n",
    "warnings.filterwarnings('ignore')\n",
    "class_name_path = '../class_names/classes.txt'\n",
    "\n",
    "##bigBox \n",
    "model_Bigbox = Yolov4(weight_path=None, class_name_path=class_name_path, config=yolo_config)\n",
    "model_Bigbox.load_weights(path=\"../model/20220628_big.weights\")\n",
    "\n",
    "##smallBox\n",
    "model_Smallbox = Yolov4(weight_path=None, class_name_path=class_name_path, config=yolo_config)\n",
    "model_Smallbox.load_weights(path=\"../model/20220610.weights\")"
   ]
  },
  {
   "cell_type": "markdown",
   "metadata": {},
   "source": [
    "# 影片"
   ]
  },
  {
   "cell_type": "code",
   "execution_count": 8,
   "metadata": {},
   "outputs": [],
   "source": [
    "# test_dir = 'test_i'\n",
    "# test_img_paths = glob(\"../test_img/{}/*.png\".format(test_dir))\n",
    "# test_img_paths[0].split('\\\\')[1]\n",
    "\n",
    "\n",
    "# '''\n",
    "# output_img: image array\n",
    "# detections: DataFram of box(x1,y1,x2,y2)\n",
    "# '''\n",
    "# pred_box_num = 0  # 有預測框的圖像數量\n",
    "# for test_img_path in tqdm(test_img_paths):\n",
    "#     test_img_no = test_img_path.split('\\\\')[1]\n",
    "#     output_img, detections = model.predict(img_path=test_img_path, \n",
    "#                          random_color=False, # 框顏色\n",
    "#                          plot_img=False, # 顯示出框選圖片\n",
    "#                          show_text=True, # 框上面加上類別文字\n",
    "#                          box_num=1,      # 顯示框的數量\n",
    "#                          return_output=True)\n",
    "#     if len(detections) == 1:\n",
    "#         pred_box_num += 1\n",
    "#     plt.imsave('../result_img/{}/test_{}'.format('test_i_big_box',test_img_no),output_img)\n",
    "\n",
    "# print('有預測框的圖像數量=', pred_box_num)"
   ]
  },
  {
   "cell_type": "markdown",
   "metadata": {},
   "source": [
    "# 每一個test 真實box數值"
   ]
  },
  {
   "cell_type": "code",
   "execution_count": 9,
   "metadata": {},
   "outputs": [],
   "source": [
    "PATH = '../test_img/X_test_bigbox_56/'\n",
    "\n",
    "true_bbox = {}\n",
    "\n",
    "for test_img_path in glob(os.path.join(PATH, '*.png')):\n",
    "    XML_PATH = test_img_path.split('.p')[0] + '.xml'\n",
    "    test_img_name = test_img_path.split('\\\\')[1]\n",
    "\n",
    "    try:\n",
    "        in_file = open(XML_PATH)\n",
    "\n",
    "        # Parse .xml file\n",
    "        tree = ET.parse(in_file)\n",
    "        root = tree.getroot()\n",
    "\n",
    "        for obj in root.iter('object'):\n",
    "\n",
    "            xmlbox = obj.find('bndbox')\n",
    "            b = (int(xmlbox.find('xmin').text), \n",
    "                int(xmlbox.find('ymin').text), \n",
    "                int(xmlbox.find('xmax').text), \n",
    "                int(xmlbox.find('ymax').text))\n",
    "            true_bbox[test_img_name] = b\n",
    "\n",
    "    except:\n",
    "        true_bbox[test_img_name] = 'nan'\n",
    "        print('因為沒有label 所以\"nan\"')\n",
    "        "
   ]
  },
  {
   "cell_type": "markdown",
   "metadata": {},
   "source": [
    "# 每一個預測的box數值"
   ]
  },
  {
   "cell_type": "code",
   "execution_count": 10,
   "metadata": {},
   "outputs": [
    {
     "name": "stdout",
     "output_type": "stream",
     "text": [
      "# of bboxes: 1\n",
      "# of bboxes: 1\n",
      "# of bboxes: 1\n",
      "# of bboxes: 1\n",
      "# of bboxes: 1\n",
      "# of bboxes: 1\n",
      "# of bboxes: 0\n",
      "沒有預測出來有box(label)\n",
      "# of bboxes: 1\n",
      "# of bboxes: 1\n",
      "# of bboxes: 0\n",
      "沒有預測出來有box(label)\n",
      "# of bboxes: 1\n",
      "# of bboxes: 1\n",
      "# of bboxes: 1\n",
      "# of bboxes: 1\n",
      "# of bboxes: 1\n",
      "# of bboxes: 1\n",
      "# of bboxes: 1\n",
      "# of bboxes: 1\n",
      "# of bboxes: 1\n",
      "# of bboxes: 1\n",
      "# of bboxes: 1\n",
      "# of bboxes: 1\n",
      "# of bboxes: 1\n",
      "# of bboxes: 1\n",
      "# of bboxes: 1\n",
      "# of bboxes: 0\n",
      "沒有預測出來有box(label)\n",
      "# of bboxes: 1\n",
      "# of bboxes: 1\n",
      "# of bboxes: 2\n",
      "# of bboxes: 1\n",
      "# of bboxes: 1\n",
      "# of bboxes: 1\n",
      "# of bboxes: 1\n",
      "# of bboxes: 1\n",
      "# of bboxes: 2\n",
      "# of bboxes: 1\n",
      "# of bboxes: 1\n",
      "# of bboxes: 1\n",
      "# of bboxes: 1\n",
      "# of bboxes: 1\n",
      "# of bboxes: 1\n",
      "# of bboxes: 1\n",
      "# of bboxes: 1\n",
      "# of bboxes: 1\n",
      "# of bboxes: 1\n",
      "# of bboxes: 1\n",
      "# of bboxes: 1\n",
      "# of bboxes: 1\n",
      "# of bboxes: 1\n",
      "# of bboxes: 1\n",
      "# of bboxes: 1\n",
      "# of bboxes: 1\n",
      "# of bboxes: 2\n",
      "# of bboxes: 1\n",
      "# of bboxes: 1\n",
      "# of bboxes: 1\n"
     ]
    }
   ],
   "source": [
    "pred_Big_bbox = {}\n",
    "for test_img_path in glob(os.path.join(PATH, '*.png')):\n",
    "    test_img_name = test_img_path.split('\\\\')[1]\n",
    "    output_img, detections = model_Bigbox.predict(img_path=test_img_path,              # model_Bigbox\n",
    "                                                  random_color=False,  # 框顏色\n",
    "                                                  plot_img=False,      # 顯示出框選圖片\n",
    "                                                  show_text=True,      # 框上面加上類別文字\n",
    "                                                  box_num=1,           # 顯示框的數量\n",
    "                                                  return_output=True)\n",
    "\n",
    "    try:\n",
    "        pred_Big_bbox[test_img_name] = tuple(detections[['x1','y1','x2','y2']].to_numpy()[0])\n",
    "    except:\n",
    "        print('沒有預測出來有box(label)')\n",
    "        pred_Big_bbox[test_img_name] = 'nan' "
   ]
  },
  {
   "cell_type": "code",
   "execution_count": 11,
   "metadata": {},
   "outputs": [
    {
     "name": "stdout",
     "output_type": "stream",
     "text": [
      "# of bboxes: 1\n",
      "# of bboxes: 0\n",
      "沒有預測出來有box(label)\n",
      "# of bboxes: 0\n",
      "沒有預測出來有box(label)\n",
      "# of bboxes: 1\n",
      "# of bboxes: 1\n",
      "# of bboxes: 1\n",
      "# of bboxes: 1\n",
      "# of bboxes: 0\n",
      "沒有預測出來有box(label)\n",
      "# of bboxes: 1\n",
      "# of bboxes: 0\n",
      "沒有預測出來有box(label)\n",
      "# of bboxes: 1\n",
      "# of bboxes: 1\n",
      "# of bboxes: 1\n",
      "# of bboxes: 1\n",
      "# of bboxes: 1\n",
      "# of bboxes: 1\n",
      "# of bboxes: 1\n",
      "# of bboxes: 1\n",
      "# of bboxes: 0\n",
      "沒有預測出來有box(label)\n",
      "# of bboxes: 1\n",
      "# of bboxes: 1\n",
      "# of bboxes: 1\n",
      "# of bboxes: 1\n",
      "# of bboxes: 1\n",
      "# of bboxes: 0\n",
      "沒有預測出來有box(label)\n",
      "# of bboxes: 1\n",
      "# of bboxes: 1\n",
      "# of bboxes: 1\n",
      "# of bboxes: 1\n",
      "# of bboxes: 1\n",
      "# of bboxes: 0\n",
      "沒有預測出來有box(label)\n",
      "# of bboxes: 1\n",
      "# of bboxes: 1\n",
      "# of bboxes: 1\n",
      "# of bboxes: 1\n",
      "# of bboxes: 1\n",
      "# of bboxes: 1\n",
      "# of bboxes: 1\n",
      "# of bboxes: 1\n",
      "# of bboxes: 1\n",
      "# of bboxes: 2\n",
      "# of bboxes: 0\n",
      "沒有預測出來有box(label)\n",
      "# of bboxes: 1\n",
      "# of bboxes: 1\n",
      "# of bboxes: 1\n",
      "# of bboxes: 1\n",
      "# of bboxes: 1\n",
      "# of bboxes: 1\n",
      "# of bboxes: 1\n",
      "# of bboxes: 1\n",
      "# of bboxes: 1\n",
      "# of bboxes: 1\n",
      "# of bboxes: 1\n",
      "# of bboxes: 1\n",
      "# of bboxes: 1\n",
      "# of bboxes: 1\n"
     ]
    }
   ],
   "source": [
    "pred_Small_bbox = {}\n",
    "for test_img_path in glob(os.path.join(PATH, '*.png')):\n",
    "    test_img_name = test_img_path.split('\\\\')[1]\n",
    "    output_img, detections = model_Smallbox.predict(img_path=test_img_path,        # model_Smallbox\n",
    "                                               random_color=False,  # 框顏色\n",
    "                                               plot_img=False,      # 顯示出框選圖片\n",
    "                                               show_text=True,      # 框上面加上類別文字\n",
    "                                               box_num=1,           # 顯示框的數量\n",
    "                                               return_output=True)\n",
    "\n",
    "    try:\n",
    "        pred_Small_bbox[test_img_name] = tuple(detections[['x1','y1','x2','y2']].to_numpy()[0])\n",
    "    except:\n",
    "        print('沒有預測出來有box(label)')\n",
    "        pred_Small_bbox[test_img_name] = 'nan' "
   ]
  },
  {
   "cell_type": "markdown",
   "metadata": {},
   "source": [
    "# Union 大框&小框\n",
    "1. 兩個框重疊，以大框為主\n",
    "2. 兩個框部分重疊，放大範圍\n",
    "3. 兩個框無重疊，以大框為主"
   ]
  },
  {
   "cell_type": "code",
   "execution_count": 45,
   "metadata": {},
   "outputs": [],
   "source": [
    "from matplotlib import style\n",
    "\n",
    "\n",
    "def draw_rectangle_And_Union(img, pred_Big_bbox, pred_Small_bbox):\n",
    "    Bigbox   = pred_Big_bbox\n",
    "    Smallbox = pred_Small_bbox\n",
    "    \n",
    "    # 如果大(小)框沒有預測出來，就採用小(大)框\n",
    "    if Bigbox=='nan' and Smallbox!='nan':\n",
    "        cv.rectangle(img, (Smallbox[0], Smallbox[1]), (Smallbox[2], Smallbox[3]), (0, 0, 255), 2)  # small\n",
    "        return img,Smallbox\n",
    "    elif Smallbox=='nan' and Bigbox!='nan':\n",
    "        cv.rectangle(img, (Bigbox[0], Bigbox[1]), (Bigbox[2], Bigbox[3]), (255, 0, 0), 2)          # big\n",
    "        return img,Bigbox\n",
    "    # 如果大、小框都沒有預測出來，就回傳'nan'\n",
    "    elif Smallbox=='nan' and Bigbox=='nan':\n",
    "        return img, 'nan'\n",
    "        \n",
    "    else:\n",
    "        ## 畫圖\n",
    "        # cv.rectangle(img, (Bigbox[0], Bigbox[1]), (Bigbox[2], Bigbox[3]), (255, 0, 0), 2)          # big\n",
    "        # cv.rectangle(img, (Smallbox[0], Smallbox[1]), (Smallbox[2], Smallbox[3]), (0, 0, 255), 2)  # small\n",
    "        # plt.imshow(cv.cvtColor(img, cv.COLOR_BGR2RGB))\n",
    "        # plt.show()\n",
    "\n",
    "        ## union邏輯\n",
    "        ciou = get_iou(Bigbox,Smallbox)\n",
    "        # 1. 兩個框重疊，以大框為主、 2. 兩個框部分重疊，放大範圍\n",
    "        if ciou>0:\n",
    "            a = min(Bigbox[0],Smallbox[0])\n",
    "            b = min(Bigbox[1],Smallbox[1])\n",
    "            c = max(Bigbox[2],Smallbox[2])\n",
    "            d = max(Bigbox[3],Smallbox[3])\n",
    "            Unionbox = (a,b,c,d)\n",
    "            cv.rectangle(img, (a, b), (c, d), (0, 0, 0), 2)\n",
    "            return img, Unionbox\n",
    "        # 3. 兩個框無重疊，以大框為主\n",
    "        else:\n",
    "            cv.rectangle(img, (Bigbox[0], Bigbox[1]), (Bigbox[2], Bigbox[3]), (0, 0, 0), 2)\n",
    "            return img, Bigbox"
   ]
  },
  {
   "cell_type": "code",
   "execution_count": 46,
   "metadata": {},
   "outputs": [],
   "source": [
    "Union_box={}\n",
    "for img_name in pred_Big_bbox:\n",
    "    path = PATH + img_name\n",
    "    img_array = cv.imread(path)\n",
    "    img, Unionbox = draw_rectangle_And_Union(img_array, pred_Big_bbox[img_name], pred_Small_bbox[img_name])\n",
    "\n",
    "    # print(\"img_name= \",img_name,\", Unionbox= \", Unionbox)\n",
    "    Union_box[img_name] = Unionbox\n",
    "    # plt.imshow(cv.cvtColor(img, cv.COLOR_BGR2RGB))\n",
    "    # plt.show()"
   ]
  },
  {
   "cell_type": "code",
   "execution_count": 41,
   "metadata": {},
   "outputs": [
    {
     "data": {
      "text/plain": [
       "56"
      ]
     },
     "execution_count": 41,
     "metadata": {},
     "output_type": "execute_result"
    }
   ],
   "source": [
    "len(pred_Big_bbox)"
   ]
  },
  {
   "cell_type": "code",
   "execution_count": 42,
   "metadata": {},
   "outputs": [
    {
     "data": {
      "text/plain": [
       "56"
      ]
     },
     "execution_count": 42,
     "metadata": {},
     "output_type": "execute_result"
    }
   ],
   "source": [
    "len(pred_Small_bbox)"
   ]
  },
  {
   "cell_type": "code",
   "execution_count": 43,
   "metadata": {},
   "outputs": [
    {
     "data": {
      "text/plain": [
       "56"
      ]
     },
     "execution_count": 43,
     "metadata": {},
     "output_type": "execute_result"
    }
   ],
   "source": [
    "len(true_bbox)"
   ]
  },
  {
   "cell_type": "markdown",
   "metadata": {},
   "source": [
    "# 計算iou\n",
    "參數:\n",
    "\n",
    "iou_threshold = 0.7    \"iou大於0.7才是有框選到\""
   ]
  },
  {
   "cell_type": "code",
   "execution_count": 47,
   "metadata": {},
   "outputs": [],
   "source": [
    "def valid(TP, FN, FP, TN):\n",
    "    precision = TP/(TP+FP)\n",
    "    recall    = TP/(TP+FN)\n",
    "    f1        = 2*precision*recall/(precision+recall)\n",
    "\n",
    "    print('precision={:.2f}, recall={:.2f}, f1={:.2f}'.format(precision, recall, f1))\n",
    "    print(TP,\"|\",FN,\"\\n\"\n",
    "         ,FP,\"|\",TN)\n",
    "\n",
    "    return precision, recall, f1"
   ]
  },
  {
   "cell_type": "markdown",
   "metadata": {},
   "source": [
    "# Union_Box結果"
   ]
  },
  {
   "cell_type": "code",
   "execution_count": 48,
   "metadata": {},
   "outputs": [
    {
     "name": "stdout",
     "output_type": "stream",
     "text": [
      "precision=1.00, recall=0.96, f1=0.98\n",
      "54 | 2 \n",
      " 0 | 0\n",
      "precision=1.00, recall=0.96, f1=0.98\n",
      "54 | 2 \n",
      " 0 | 0\n",
      "precision=1.00, recall=0.96, f1=0.98\n",
      "54 | 2 \n",
      " 0 | 0\n",
      "precision=1.00, recall=0.96, f1=0.98\n",
      "54 | 2 \n",
      " 0 | 0\n",
      "precision=1.00, recall=0.89, f1=0.94\n",
      "50 | 6 \n",
      " 0 | 0\n",
      "precision=1.00, recall=0.80, f1=0.89\n",
      "45 | 11 \n",
      " 0 | 0\n",
      "precision=1.00, recall=0.50, f1=0.67\n",
      "28 | 28 \n",
      " 0 | 0\n",
      "precision=1.00, recall=0.21, f1=0.35\n",
      "12 | 44 \n",
      " 0 | 0\n"
     ]
    }
   ],
   "source": [
    "ciou_thresholds = np.arange(0.1, 0.9, 0.1)\n",
    "test_img_names = true_bbox.keys()\n",
    "precisions, recalls, f1s = [], [], []\n",
    "for iou_threshold in ciou_thresholds:\n",
    "    TP,FP,FN,TN = 0,0,0,0\n",
    "    y_true   = []  # 0:無壺腹乳頭 1:有壺腹乳頭\n",
    "    y_scores = []  # ciou分數\n",
    "    for test_img_name in test_img_names:\n",
    "        if true_bbox[test_img_name] != 'nan' and Union_box[test_img_name] != 'nan':\n",
    "            ciou = calculate_ciou(true_bbox[test_img_name], Union_box[test_img_name])  # 找出真實box和預測box的iou\n",
    "            \n",
    "            if ciou>=iou_threshold:   # 如果>=iou，才是有預測到，TP會增加\n",
    "                y_true.append(1)\n",
    "                y_scores.append(ciou)\n",
    "                TP += 1\n",
    "            else:\n",
    "                y_true.append(1)\n",
    "                y_scores.append(0)\n",
    "                FN += 1               # 如果<iou，FN也會增加\n",
    "        elif true_bbox[test_img_name] != 'nan' and Union_box[test_img_name] == 'nan':\n",
    "            y_true.append(1)\n",
    "            y_scores.append(0)\n",
    "            FN += 1\n",
    "        elif true_bbox[test_img_name] == 'nan' and Union_box[test_img_name] != 'nan':\n",
    "            y_true.append(0)\n",
    "            y_scores.append(1)\n",
    "            FP += 1\n",
    "        else:\n",
    "            y_true.append(0)\n",
    "            y_scores.append(0)\n",
    "            TN += 1\n",
    "\n",
    "    \n",
    "    # plt_precision_recall_curve(y_true, y_scores)\n",
    "    precision, recall, f1 = valid(TP, FN, FP, TN)\n",
    "    # print('ciou_threshold={}'.format(iou_threshold))\n",
    "    # print(\"------------------------------------------------------------------------------------\")\n",
    "    precisions.append(precision)\n",
    "    recalls.append(recall)\n",
    "    f1s.append(f1)"
   ]
  },
  {
   "cell_type": "markdown",
   "metadata": {},
   "source": [
    "# Big_Box結果"
   ]
  },
  {
   "cell_type": "code",
   "execution_count": 26,
   "metadata": {},
   "outputs": [
    {
     "name": "stdout",
     "output_type": "stream",
     "text": [
      "precision=1.00, recall=0.95, f1=0.97\n",
      "53 | 3 \n",
      " 0 | 0\n",
      "precision=1.00, recall=0.95, f1=0.97\n",
      "53 | 3 \n",
      " 0 | 0\n",
      "precision=1.00, recall=0.93, f1=0.96\n",
      "52 | 4 \n",
      " 0 | 0\n",
      "precision=1.00, recall=0.91, f1=0.95\n",
      "51 | 5 \n",
      " 0 | 0\n",
      "precision=1.00, recall=0.88, f1=0.93\n",
      "49 | 7 \n",
      " 0 | 0\n",
      "precision=1.00, recall=0.79, f1=0.88\n",
      "44 | 12 \n",
      " 0 | 0\n",
      "precision=1.00, recall=0.50, f1=0.67\n",
      "28 | 28 \n",
      " 0 | 0\n",
      "precision=1.00, recall=0.23, f1=0.38\n",
      "13 | 43 \n",
      " 0 | 0\n"
     ]
    }
   ],
   "source": [
    "ciou_thresholds = np.arange(0.1, 0.9, 0.1)\n",
    "test_img_names = true_bbox.keys()\n",
    "precisions, recalls, f1s = [], [], []\n",
    "for iou_threshold in ciou_thresholds:\n",
    "    TP,FP,FN,TN = 0,0,0,0\n",
    "    y_true   = []  # 0:無壺腹乳頭 1:有壺腹乳頭\n",
    "    y_scores = []  # ciou分數\n",
    "    for test_img_name in test_img_names:\n",
    "        if true_bbox[test_img_name] != 'nan' and pred_Big_bbox[test_img_name] != 'nan':\n",
    "            ciou = calculate_ciou(true_bbox[test_img_name], pred_Big_bbox[test_img_name])  # 找出真實box和預測box的iou\n",
    "            \n",
    "            if ciou>=iou_threshold:   # 如果>=iou，才是有預測到，TP會增加\n",
    "                y_true.append(1)\n",
    "                y_scores.append(ciou)\n",
    "                TP += 1\n",
    "            else:\n",
    "                y_true.append(1)\n",
    "                y_scores.append(0)\n",
    "                FN += 1               # 如果<iou，FN也會增加\n",
    "        elif true_bbox[test_img_name] != 'nan' and pred_Big_bbox[test_img_name] == 'nan':\n",
    "            y_true.append(1)\n",
    "            y_scores.append(0)\n",
    "            FN += 1\n",
    "        elif true_bbox[test_img_name] == 'nan' and pred_Big_bbox[test_img_name] != 'nan':\n",
    "            y_true.append(0)\n",
    "            y_scores.append(1)\n",
    "            FP += 1\n",
    "        else:\n",
    "            y_true.append(0)\n",
    "            y_scores.append(0)\n",
    "            TN += 1\n",
    "\n",
    "    \n",
    "    # plt_precision_recall_curve(y_true, y_scores)\n",
    "    precision, recall, f1 = valid(TP, FN, FP, TN)\n",
    "    # print('ciou_threshold={}'.format(iou_threshold))\n",
    "    # print(\"------------------------------------------------------------------------------------\")\n",
    "    precisions.append(precision)\n",
    "    recalls.append(recall)\n",
    "    f1s.append(f1)"
   ]
  },
  {
   "cell_type": "code",
   "execution_count": null,
   "metadata": {},
   "outputs": [],
   "source": []
  },
  {
   "cell_type": "markdown",
   "metadata": {},
   "source": [
    "# 劃出圖"
   ]
  },
  {
   "cell_type": "code",
   "execution_count": 25,
   "metadata": {},
   "outputs": [
    {
     "data": {
      "image/png": "[encoded data removed]",
      "text/plain": [
       "<Figure size 432x288 with 1 Axes>"
      ]
     },
     "metadata": {
      "needs_background": "light"
     },
     "output_type": "display_data"
    }
   ],
   "source": [
    "x  = ciou_thresholds\n",
    "y1_union = precisions\n",
    "y2_union = recalls\n",
    "y3_union = f1s\n",
    "\n",
    "plt.plot(x, y1_union, 'r--*')\n",
    "plt.xlabel('ciou_threshold')   \n",
    "# plt.ylabel('accuracy')  \n",
    "plt.plot(x, y2_union, 'b--x')     \n",
    "plt.plot(x, y3_union, 'g--.')     \n",
    "plt.legend(['precision','recall','f1'])\n",
    "plt.show()"
   ]
  },
  {
   "cell_type": "code",
   "execution_count": 27,
   "metadata": {},
   "outputs": [
    {
     "data": {
      "image/png": "[encoded data removed]",
      "text/plain": [
       "<Figure size 432x288 with 1 Axes>"
      ]
     },
     "metadata": {
      "needs_background": "light"
     },
     "output_type": "display_data"
    }
   ],
   "source": [
    "x  = ciou_thresholds\n",
    "y1_big = precisions\n",
    "y2_big = recalls\n",
    "y3_big = f1s\n",
    "\n",
    "plt.plot(x, y1_big, 'r--*')\n",
    "plt.xlabel('ciou_threshold')   \n",
    "# plt.ylabel('accuracy')  \n",
    "plt.plot(x, y2_big, 'b--x')     \n",
    "plt.plot(x, y3_big, 'g--.')     \n",
    "plt.legend(['precision','recall','f1'])\n",
    "plt.show()"
   ]
  },
  {
   "cell_type": "code",
   "execution_count": null,
   "metadata": {},
   "outputs": [],
   "source": []
  },
  {
   "cell_type": "markdown",
   "metadata": {},
   "source": [
    "# big_box v.s Union_box"
   ]
  },
  {
   "cell_type": "code",
   "execution_count": 28,
   "metadata": {},
   "outputs": [
    {
     "data": {
      "image/png": "[encoded data removed]",
      "text/plain": [
       "<Figure size 432x288 with 1 Axes>"
      ]
     },
     "metadata": {
      "needs_background": "light"
     },
     "output_type": "display_data"
    }
   ],
   "source": [
    "x  = ciou_thresholds\n",
    "\n",
    "plt.plot(x, y1_big, 'r-x')  \n",
    "plt.plot(x, y1_union, 'b-o') \n",
    "\n",
    "plt.xlabel('ciou_threshold') \n",
    "plt.ylabel('precision')  \n",
    "plt.legend(['big_box','union_box'])\n",
    "\n",
    "pltText(x, y1_big,'big')\n",
    "pltText(x, y1_union,'union')\n",
    "plt.show()"
   ]
  },
  {
   "cell_type": "code",
   "execution_count": 29,
   "metadata": {},
   "outputs": [
    {
     "data": {
      "image/png": "[encoded data removed]",
      "text/plain": [
       "<Figure size 432x288 with 1 Axes>"
      ]
     },
     "metadata": {
      "needs_background": "light"
     },
     "output_type": "display_data"
    }
   ],
   "source": [
    "x  = ciou_thresholds\n",
    "\n",
    "plt.plot(x, y2_big, 'r-x')  \n",
    "plt.plot(x, y2_union, 'b-o') \n",
    "\n",
    "plt.xlabel('ciou_threshold') \n",
    "plt.ylabel('precision')  \n",
    "plt.legend(['big_box','union_box'],loc='lower left')\n",
    "\n",
    "pltText(x, y2_big,'big')\n",
    "pltText(x, y2_union,'union')\n",
    "plt.show()"
   ]
  },
  {
   "cell_type": "code",
   "execution_count": 30,
   "metadata": {},
   "outputs": [
    {
     "data": {
      "image/png": "[encoded data removed]",
      "text/plain": [
       "<Figure size 432x288 with 1 Axes>"
      ]
     },
     "metadata": {
      "needs_background": "light"
     },
     "output_type": "display_data"
    }
   ],
   "source": [
    "x  = ciou_thresholds\n",
    "\n",
    "plt.plot(x, y3_big, 'r-x')  \n",
    "plt.plot(x, y3_union, 'b-o') \n",
    "\n",
    "plt.xlabel('ciou_threshold') \n",
    "plt.ylabel('precision')  \n",
    "plt.legend(['big_box','union_box'], loc='lower left')\n",
    "\n",
    "pltText(x, y3_big,'big')\n",
    "pltText(x, y3_union,'union')\n",
    "plt.show()"
   ]
  },
  {
   "cell_type": "code",
   "execution_count": null,
   "metadata": {},
   "outputs": [],
   "source": []
  }
 ],
 "metadata": {
  "interpreter": {
   "hash": "3d0b3230cba0d6cbfd99760ee6674b1181db07b2579171d1aa41779f5a406caf"
  },
  "kernelspec": {
   "display_name": "Python 3.9.7 ('frank_env')",
   "language": "python",
   "name": "python3"
  },
  "language_info": {
   "codemirror_mode": {
    "name": "ipython",
    "version": 3
   },
   "file_extension": ".py",
   "mimetype": "text/x-python",
   "name": "python",
   "nbconvert_exporter": "python",
   "pygments_lexer": "ipython3",
   "version": "3.9.7"
  },
  "orig_nbformat": 4
 },
 "nbformat": 4,
 "nbformat_minor": 2
}
