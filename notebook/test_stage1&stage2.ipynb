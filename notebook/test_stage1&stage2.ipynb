{
 "cells": [
  {
   "cell_type": "markdown",
   "metadata": {},
   "source": [
    "# new 方法: stage1 & stage2"
   ]
  },
  {
   "cell_type": "code",
   "execution_count": null,
   "metadata": {},
   "outputs": [],
   "source": [
    "import sys\n",
    "sys.path.append(\"..\")\n",
    "\n",
    "import pandas as pd\n",
    "from models import Yolov4\n",
    "from tensorflow import keras\n",
    "from config import yolo_config\n",
    "from iou import get_iou, calculate_ciou\n",
    "\n",
    "import numpy as np\n",
    "import seaborn as sns\n",
    "import matplotlib.pylab as pl\n",
    "import matplotlib.pyplot as plt\n",
    "\n",
    "from sklearn.metrics import precision_recall_curve\n",
    "from sklearn.metrics import average_precision_score\n",
    "# from sklearn.metrics import PrecisionRecallDisplay\n",
    "# from sklearn.metrics import confusion_matrix\n",
    "# from sklearn.metrics import ConfusionMatrixDisplay\n",
    "\n",
    "import math\n",
    "import cv2 as cv\n",
    "\n",
    "# import pickle\n",
    "\n",
    "import os\n",
    "# 使用第二張 GPU 卡\n",
    "os.environ[\"CUDA_VISIBLE_DEVICES\"] = \"1\""
   ]
  },
  {
   "cell_type": "markdown",
   "metadata": {},
   "source": [
    "# 載入模型"
   ]
  },
  {
   "cell_type": "code",
   "execution_count": null,
   "metadata": {},
   "outputs": [],
   "source": [
    "# yolo_config['score_threshold']=0.7\n",
    "# print(yolo_config)"
   ]
  },
  {
   "cell_type": "code",
   "execution_count": null,
   "metadata": {},
   "outputs": [],
   "source": [
    "import warnings\n",
    "warnings.filterwarnings('ignore')\n",
    "class_name_path = '../class_names/classes.txt'\n",
    "model = Yolov4(\n",
    "               weight_path    =None, \n",
    "               config         =yolo_config,\n",
    "               class_name_path=class_name_path, \n",
    "               )\n",
    "model.load_weights(path=\"../model/202303/20230403_sopbox_0.weights\")            # 換stage2模型!!!!!!!!!!!!!!!!!!!!!!!!!!!!!!!!!!!!!!!!!!!!!!!!!!!!!!\n",
    "\n",
    "#22 1102是沒有10%背\n",
    "#22 1104是有10%背景\n",
    "#22 0104目前表現最佳\n",
    "\n",
    "#186 0330是沒有10%背\n",
    "#186 0331是有10%背景"
   ]
  },
  {
   "cell_type": "code",
   "execution_count": null,
   "metadata": {},
   "outputs": [],
   "source": []
  },
  {
   "cell_type": "markdown",
   "metadata": {},
   "source": [
    "# 每一個test image \"True\" bounding box"
   ]
  },
  {
   "cell_type": "code",
   "execution_count": null,
   "metadata": {},
   "outputs": [],
   "source": [
    "true_box_PATH = '../test_dataset/txt/20230330_anno_test_lines_0.txt'\n",
    "# true_box_PATH = '../test_dataset/txt/20221102_anno_test_lines_0.txt'       # 這邊要修改train/test 的路徑!!!!!!!!\n",
    "# true_box_PATH = '../dataset/txt/20221102_anno_train_lines_0.txt'\n",
    "# true_box_PATH = '../dataset/txt/20221102_anno_val_lines_0.txt'\n",
    "\n",
    "\n",
    "true_bboxes_names = []\n",
    "true_bboxes_list  = []\n",
    "with open(true_box_PATH) as f:\n",
    "    for line in f.readlines():\n",
    "        true_bboxes_list.append(tuple([int(i) for i in line.split(' ')[1].split(',')[:4]]))\n",
    "        true_bboxes_names.append(line.split(' ')[0])\n",
    "\n",
    "## 整理成Dataframe\n",
    "true_bboxes = pd.DataFrame({'test_name':true_bboxes_names, \n",
    "                            'true_bbox':true_bboxes_list\n",
    "                            })\n",
    "true_bboxes   "
   ]
  },
  {
   "cell_type": "code",
   "execution_count": null,
   "metadata": {},
   "outputs": [],
   "source": []
  },
  {
   "cell_type": "code",
   "execution_count": null,
   "metadata": {},
   "outputs": [],
   "source": []
  },
  {
   "cell_type": "markdown",
   "metadata": {},
   "source": [
    "# 每一個test image \"Pred\" bounding box"
   ]
  },
  {
   "cell_type": "code",
   "execution_count": null,
   "metadata": {},
   "outputs": [],
   "source": [
    "# train = ['a', 'b', 'c', 'e', 'f', 'g', 'j', 'm', 'n', 'p', 'r', 's', 't', 'u']\n",
    "# val   = ['d', 'i', 'k', 'o']\n",
    "# test  = ['h', 'l', 'q', 'z']\n",
    "\n",
    "\n",
    "PATH = '../../classification/dataset_smooth_186video_20230323/test/1/'\n",
    "# PATH = '../../classification/dataset_186video_20230323/test/1/'\n",
    "\n",
    "# PATH = '../../classification/dataset_smooth_22video_20221031/test/1/'                #!!!!!!!!!!!!!!!!!!!!!!\n",
    "# PATH = '../../classification/dataset_22video_20221031/test/1/'\n",
    "# PATH = '../../classification/dataset_smooth_22video_20221031/train/1/'            # 這邊要修改train/test 的路徑!!!!!!!!\n",
    "# PATH = '../../classification/dataset_smooth_22video_20221031/validation/1/'       # 這邊要修改train/test 的路徑!!!!!!!!\n",
    "\n",
    "pred_bboxes_names  = []  # all image names\n",
    "pred_bboxes_scores = []  # all bboxes scores\n",
    "pred_bboxes_list   = []  # all bboxes\n",
    "for test_img_name in true_bboxes['test_name']:  # glob(os.path.join(PATH, '*.png')):\n",
    "    test_img_path = PATH + test_img_name\n",
    "    output_img, detections = model.predict(img_path=test_img_path, \n",
    "                                        random_color=False, # 框顏色\n",
    "                                        plot_img=False, # 顯示出框選圖片\n",
    "                                        show_text=True, # 框上面加上類別文字\n",
    "                                        box_num=1,      # 顯示框的數量\n",
    "                                        return_output=True)\n",
    "    \n",
    "    pred_box_num = len(detections['score'])                \n",
    "    if pred_box_num > 0:       # 有預測出box\n",
    "        \n",
    "        score = detections[0:1]['score'].to_numpy()[0]\n",
    "        pred_bboxes_names.append(test_img_name)\n",
    "        pred_bboxes_scores.append(score)\n",
    "        pred_bboxes_list.append(tuple(detections[0:1][['x1','y1','x2','y2']].to_numpy()[0]))\n",
    "    else:\n",
    "        pred_bboxes_names.append(test_img_name)\n",
    "        pred_bboxes_scores.append(0.0)\n",
    "        pred_bboxes_list.append('NO')\n",
    "        print('沒有預測出來有box(label)')"
   ]
  },
  {
   "cell_type": "code",
   "execution_count": null,
   "metadata": {},
   "outputs": [],
   "source": [
    "pred_bboxes = pd.DataFrame({'test_name':pred_bboxes_names, \n",
    "                            'pred_bbox':pred_bboxes_list,\n",
    "                            'score':pred_bboxes_scores\n",
    "               })\n",
    "pred_bboxes"
   ]
  },
  {
   "cell_type": "markdown",
   "metadata": {},
   "source": [
    "# perfect stage2 prediction result"
   ]
  },
  {
   "cell_type": "code",
   "execution_count": null,
   "metadata": {},
   "outputs": [],
   "source": [
    "stage2_pred_result = true_bboxes.merge(pred_bboxes, on=['test_name'], how='left')"
   ]
  },
  {
   "cell_type": "code",
   "execution_count": null,
   "metadata": {},
   "outputs": [],
   "source": [
    "# stage2_pred_result.to_csv(\"../result_df/test_perfectstage1_stage2_result_20230331.csv\", index=False) #!!!!!!!!!!!!!!!!!! stage 3 會用到\n",
    "stage2_pred_result"
   ]
  },
  {
   "cell_type": "code",
   "execution_count": null,
   "metadata": {},
   "outputs": [],
   "source": []
  },
  {
   "cell_type": "markdown",
   "metadata": {},
   "source": [
    "# 計算iou 繪圖\n",
    "參數:\n",
    "iou_threshold = 0.7    \"iou大於0.7才是有框選到\""
   ]
  },
  {
   "cell_type": "code",
   "execution_count": null,
   "metadata": {},
   "outputs": [],
   "source": [
    "def valid(TP, FN, FP, TN):\n",
    "    \n",
    "    precision = 0 if (TP+FP)==0 else TP/(TP+FP)\n",
    "    recall    = 0 if (TP+FN)==0 else TP/(TP+FN)\n",
    "    f1        = 0 if (precision+recall)==0 else 2*precision*recall/(precision+recall)\n",
    "\n",
    "    print('precision={:.2f}, recall={:.2f}, f1={:.2f}'.format(precision, recall, f1))\n",
    "    print(TP,\"|\",FN,\"\\n\",\n",
    "          FP,\"|\",TN)\n",
    "\n",
    "    return precision, recall, f1"
   ]
  },
  {
   "cell_type": "code",
   "execution_count": null,
   "metadata": {},
   "outputs": [],
   "source": [
    "def plt_precision_recall_curve_1(y_true, y_scores):\n",
    "    precision, recall, thresholds = precision_recall_curve(y_true, y_scores)\n",
    "    average_precision             = average_precision_score(y_true, y_scores)\n",
    "    # 用套件畫\n",
    "    # disp = PrecisionRecallDisplay(precision=precision, recall=recall, average_precision=average_precision)\n",
    "    # disp.plot()\n",
    "    # plt.ylim([0.0, 1.05])\n",
    "    # plt.xlim([0.0, 1.0])\n",
    "    # plt.show()\n",
    "\n",
    "    # 自己畫\n",
    "    plt.plot(recall, precision, 'b-')   \n",
    "    plt.ylim([0.0, 1.05])\n",
    "    plt.xlim([0.0, 1.0])  \n",
    "    plt.xlabel('recall')\n",
    "    plt.ylabel('precision')\n",
    "    plt.title('precision_recall_curve')\n",
    "    plt.legend(['AP={}'.format(round(average_precision,2))])\n",
    "    plt.show()\n",
    "\n",
    "    # print('precision = ', precision)\n",
    "    # print('recall = ', recall)\n",
    "    # print('thresholds = ',thresholds)\n",
    "    print('AP={:.2f}'.format(average_precision))"
   ]
  },
  {
   "cell_type": "code",
   "execution_count": null,
   "metadata": {},
   "outputs": [],
   "source": [
    "def plt_heatmap(con_ma):\n",
    "    '''\n",
    "    :input: con_ma:[[TP,FN],[FP,TN]]\n",
    "    '''\n",
    "    sns.set(font_scale=1.5)\n",
    "    f,ax=plt.subplots()\n",
    "    sns.heatmap(con_ma, annot=True, ax=ax, fmt='d', cmap='YlGnBu', vmax=200, vmin=0) # 畫熱力圖\n",
    "    ax.set_title('confusion matrix') # 標題\n",
    "    ax.set_xlabel('predict')         # x軸\n",
    "    ax.set_ylabel('true')            # y軸\n",
    "    ax.xaxis.set_ticklabels(['Papilla', 'No Papilla'])\n",
    "    ax.yaxis.set_ticklabels(['Papilla', 'No Papilla'])\n",
    "    plt.show()"
   ]
  },
  {
   "attachments": {},
   "cell_type": "markdown",
   "metadata": {},
   "source": [
    "perfect stage2 測試集結果 固定iou_threshold=0.5\n",
    "這沒有參考價值，因為要限制score"
   ]
  },
  {
   "cell_type": "code",
   "execution_count": null,
   "metadata": {},
   "outputs": [],
   "source": [
    "# row, col = stage2_pred_result.shape\n",
    "# iou_thresholds = np.arange(0.5, 0.6, 0.1)      # 固定ciou_threshold=0.5\n",
    "# # test_img_names = true_bbox.keys()\n",
    "# precisions, recalls, f1s = [], [], []\n",
    "# for iou_threshold in iou_thresholds:\n",
    "#     TP,FP,FN,TN = 0,0,0,0\n",
    "#     y_true  = []                 # 0:無壺腹乳頭 1:有壺腹乳頭\n",
    "#     y_score = []                 # confidence分數\n",
    "#     for r in range(row):                # row: 列數\n",
    "#         test_img_name = stage2_pred_result.iloc[r:r+1]['test_name'][r]\n",
    "#         true_bbox     = stage2_pred_result.iloc[r:r+1]['true_bbox'][r]\n",
    "#         pred_bbox     = stage2_pred_result.iloc[r:r+1]['pred_bbox'][r]\n",
    "#         score         = stage2_pred_result.iloc[r:r+1]['score'][r]\n",
    "\n",
    "#         # 限制score<0.5沒有bbox #\n",
    "#         # if score<0.5:\n",
    "#         #     pred_bbox = 'NO'\n",
    "#         ########################\n",
    "\n",
    "\n",
    "        \n",
    "#         if true_bbox != 'nan' and pred_bbox != 'NO':\n",
    "#             ciou = get_iou(true_bbox, pred_bbox)           # 找出真實box和預測box的iou\n",
    "#             # ciou = calculate_ciou(true_bbox, pred_bbox)                                    # 找出真實box和預測box的ciou\n",
    "            \n",
    "#             if ciou >= iou_threshold:   # 如果>=iou，才是有預測到，TP會增加\n",
    "#                 y_true.append(1)\n",
    "#                 y_score.append(score)\n",
    "#                 TP += 1\n",
    "#             else:\n",
    "#                 y_true.append(0)\n",
    "#                 y_score.append(score)\n",
    "#                 FP += 1                 # 如果<iou，FP也會增加\n",
    "\n",
    "#         elif true_bbox != 'NO' and pred_bbox == 'NO':\n",
    "#             y_true.append(1)\n",
    "#             y_score.append(0)\n",
    "#             FN += 1\n",
    "\n",
    "#         elif true_bbox == 'NO' and pred_bbox != 'NO':\n",
    "#             y_true.append(0)\n",
    "#             y_score.append(score)\n",
    "#             FP += 1\n",
    "\n",
    "#         else:\n",
    "#             # y_true.append(0)\n",
    "#             # y_scores.append(0)\n",
    "#             TN += 1\n",
    "    \n",
    "    \n",
    "#     con_ma = [[TP, FN],[FP, TN]]\n",
    "#     plt_heatmap(con_ma)                               # 畫熱力圖\n",
    "#     plt_precision_recall_curve_1(y_true, y_score)     # 畫PR curve\n",
    "#     precision, recall, f1 = valid(TP, FN, FP, TN)      # P R f1 資訊\n",
    "#     print('iou_threshold={}'.format(iou_threshold))\n",
    "#     print(\"------------------------------------------------------------------------------------\")\n",
    "#     precisions.append(precision)\n",
    "#     recalls.append(recall)\n",
    "#     f1s.append(f1)"
   ]
  },
  {
   "cell_type": "code",
   "execution_count": null,
   "metadata": {},
   "outputs": [],
   "source": []
  },
  {
   "cell_type": "code",
   "execution_count": null,
   "metadata": {},
   "outputs": [],
   "source": [
    "def plt_precision_recall_curve_2(iou_thresholds, y_trues, y_scores):\n",
    "    \n",
    "    n      = len(y_trues)\n",
    "    colors = pl.cm.jet(np.linspace(0,1,n))\n",
    "    plt.ylim([0.0, 1.05])\n",
    "    plt.xlim([0.0, 1.0])  \n",
    "    plt.xlabel('recall')\n",
    "    plt.ylabel('precision')\n",
    "    plt.title('precision_recall_curve')\n",
    "\n",
    "    total_average_precision = 0\n",
    "    for i in range(n):\n",
    "        iou_threshold = round(iou_thresholds[i],4)\n",
    "        y_true        = y_trues[i]\n",
    "        y_score       = y_scores[i]\n",
    "        average_precision = round(average_precision_score(y_true, y_score), 4)\n",
    "        print(\"AP====\",average_precision_score(y_true, y_score))\n",
    "        if average_precision<=0 or math.isnan(average_precision):\n",
    "            total_average_precision += 0\n",
    "            plt.plot([0], [0], color=colors[i], label = \"IoU={} => AP={}\".format(iou_threshold, 0))\n",
    "        else:\n",
    "            total_average_precision += average_precision\n",
    "            precision, recall, thresholds = precision_recall_curve(y_true, y_score)\n",
    "            # 自己畫\n",
    "            plt.plot(recall, precision, color=colors[i], label = \"IoU={} => AP={}\".format(iou_threshold, average_precision))   \n",
    "        \n",
    "        # print('precision = ', precision)\n",
    "        # print('recall = ', recall)\n",
    "        # print('thresholds = ',thresholds)\n",
    "        # print('AP={:.2f}'.format(average_precision))\n",
    "\n",
    "    averaged_AP = round(total_average_precision/n, 4)\n",
    "    print(\"Averaged_AP= \", averaged_AP)\n",
    "    plt.legend(loc='upper left',bbox_to_anchor=(0.0, -0.3))\n",
    "    plt.show()"
   ]
  },
  {
   "cell_type": "code",
   "execution_count": null,
   "metadata": {},
   "outputs": [],
   "source": []
  },
  {
   "attachments": {},
   "cell_type": "markdown",
   "metadata": {},
   "source": [
    "# [perfect stage 1] & stage2 \n",
    "測試集結果 iou_threshold=[0.5:0.05:0.95]"
   ]
  },
  {
   "cell_type": "code",
   "execution_count": null,
   "metadata": {},
   "outputs": [],
   "source": [
    "row, col = stage2_pred_result.shape\n",
    "iou_thresholds = np.arange(0.5, 1.0, 0.05)      \n",
    "\n",
    "precisions, recalls, f1s = [], [], []\n",
    "y_trues  = []\n",
    "y_scores = []\n",
    "for iou_threshold in iou_thresholds:\n",
    "    y_true   = []                # 0:無壺腹乳頭 1:有壺腹乳頭\n",
    "    y_score  = []                # confidence分數\n",
    "    for r in range(row):         # row: 列數\n",
    "        test_img_name = stage2_pred_result.iloc[r:r+1]['test_name'][r]\n",
    "        true_bbox     = stage2_pred_result.iloc[r:r+1]['true_bbox'][r]\n",
    "        pred_bbox     = stage2_pred_result.iloc[r:r+1]['pred_bbox'][r]\n",
    "        score         = stage2_pred_result.iloc[r:r+1]['score'][r]\n",
    "\n",
    "        if true_bbox != 'NO' and pred_bbox != 'NO':\n",
    "            ciou = get_iou(true_bbox, pred_bbox)           # 找出真實box和預測box的iou\n",
    "            # ciou = calculate_ciou(true_bbox, pred_bbox)                     # 找出真實box和預測box的ciou\n",
    "            \n",
    "            if ciou >= iou_threshold:   # 如果>=iou，才是有預測到，TP會增加\n",
    "                y_true.append(1)\n",
    "                y_score.append(score)   # TP\n",
    "            else:\n",
    "                y_true.append(0)\n",
    "                y_score.append(score)   # FP\n",
    "        elif true_bbox != 'NO' and pred_bbox == 'NO':   # FN\n",
    "            y_true.append(1)\n",
    "            y_score.append(score)\n",
    "        elif true_bbox == 'NO' and pred_bbox != 'NO':  # FP   因為stage 1 完美，所以不會有這裡的FP\n",
    "            y_true.append(0)\n",
    "            y_score.append(score)\n",
    "\n",
    "    y_trues.append(y_true)\n",
    "    y_scores.append(y_score)\n",
    "\n",
    "plt_precision_recall_curve_2(iou_thresholds, y_trues, y_scores)     # 畫PR curve"
   ]
  },
  {
   "cell_type": "code",
   "execution_count": null,
   "metadata": {},
   "outputs": [],
   "source": [
    "stage2_pred_result.head()"
   ]
  },
  {
   "cell_type": "code",
   "execution_count": null,
   "metadata": {},
   "outputs": [],
   "source": []
  },
  {
   "cell_type": "code",
   "execution_count": null,
   "metadata": {},
   "outputs": [],
   "source": []
  },
  {
   "cell_type": "code",
   "execution_count": null,
   "metadata": {},
   "outputs": [],
   "source": []
  },
  {
   "cell_type": "markdown",
   "metadata": {},
   "source": [
    "# stage1 & stage2 測試結果"
   ]
  },
  {
   "cell_type": "markdown",
   "metadata": {},
   "source": [
    "### stage1 分類預測結果"
   ]
  },
  {
   "cell_type": "code",
   "execution_count": null,
   "metadata": {},
   "outputs": [],
   "source": [
    "# stage1_pred_result = pd.read_pickle(\"../../classification/result/stage1_pred_result_train.pickle\")   # 這邊換stage1結果!!!!!!!!!!!!!!!!!!!!!!!!!!!!\n",
    "# stage1_pred_result = pd.read_pickle(\"../../classification/result/stage1_pred_result_validation.pickle\")   # 這邊換stage1結果!!!!!!!!!!!!!!!!!!!!!!!!!!!!\n",
    "\n",
    "\n",
    "stage1_pred_result = pd.read_pickle(\"../../classification/result/stage1_pred_result_test_20230323.pickle\")   # 這邊換stage1結果!!!!!!!!!!!!!!!!!!!!!!!!!!!!\n",
    "# stage1_pred_result = pd.read_pickle(\"../../classification/result/stage1_pred_result_test_nosmooth_20230323.pickle\")   # 這邊換stage1結果!!!!!!!!!!!!!!!!!!!!!!!!!!!!\n",
    "\n",
    "# stage1_pred_result = pd.read_pickle(\"../../classification/result/stage1_pred_result_test.pickle\")   # 這邊換stage1結果!!!!!!!!!!!!!!!!!!!!!!!!!!!!\n",
    "# stage1_pred_result = pd.read_pickle(\"../../classification/result/stage1_pred_result_test_nosmooth.pickle\")   # 這邊換stage1結果!!!!!!!!!!!!!!!!!!!!!!!!!!!!\n"
   ]
  },
  {
   "cell_type": "code",
   "execution_count": null,
   "metadata": {},
   "outputs": [],
   "source": [
    "filter1 = stage1_pred_result['test_true']!=0 \n",
    "filter2 = stage1_pred_result['stage1_test_pred']!=0\n",
    "stage1_pred_result_all = stage1_pred_result[(filter1 | filter2)]\n",
    "print(stage1_pred_result_all.shape)\n",
    "stage1_pred_result_all.head(2)"
   ]
  },
  {
   "cell_type": "code",
   "execution_count": null,
   "metadata": {},
   "outputs": [],
   "source": [
    "'''這6個(FP)score，不能是0，因為FP要用到score，所以要預測bbox & score'''\n",
    "\n",
    "filter3 = stage1_pred_result['test_true']==0 \n",
    "filter4 = stage1_pred_result['stage1_test_pred']==1\n",
    "fp_temp_df = stage1_pred_result[(filter3 & filter4)]\n",
    "\n",
    "row_, col_ = fp_temp_df.shape\n",
    "print(\"這{}個(FP)score，不能是0，因為FP要用到score，所以要預測bbox & score\".format(row_))\n",
    "\n",
    "pred_bboxes_names_  = []\n",
    "pred_bboxes_scores_ = []\n",
    "pred_bboxes_list_   = []\n",
    "for r in range(row_):\n",
    "    test_img_name = fp_temp_df.iloc[r:r+1]['test_name'].values[0]\n",
    "    print(test_img_name)\n",
    "    \n",
    "    test_img_path = \"../../classification/dataset_smooth_186video_20230323/test/0/\" + test_img_name               # !!!!!!!!!!!!!!!!!!!!!!!!!!!!!!!!!!\n",
    "    # test_img_path = \"../../classification/dataset_186video_20230323/test/0/\" + test_img_name\n",
    "    # test_img_path = \"../../classification/dataset_22video_20221031/test/0/\" + test_img_name                     # !!!!!!!!!!!!!!!!!!!!!!!!!!!!!!!!!!!\n",
    "    \n",
    "    output_img, detections = model.predict(img_path=test_img_path, \n",
    "                                           random_color=False, # 框顏色\n",
    "                                           plot_img=False, # 顯示出框選圖片\n",
    "                                           show_text=True, # 框上面加上類別文字\n",
    "                                           box_num=1,      # 顯示框的數量\n",
    "                                           return_output=True)\n",
    "    \n",
    "    pred_box_num = len(detections['score'])  \n",
    "               \n",
    "    if pred_box_num > 0:       # 有預測出box\n",
    "        score = detections[0:1]['score'].to_numpy()[0]\n",
    "        pred_bboxes_names_.append(test_img_name)\n",
    "        pred_bboxes_scores_.append(score)\n",
    "        pred_bboxes_list_.append(tuple(detections[0:1][['x1','y1','x2','y2']].to_numpy()[0]))\n",
    "\n",
    "    else:\n",
    "        pred_bboxes_names_.append(test_img_name)\n",
    "        pred_bboxes_scores_.append(0.0)\n",
    "        pred_bboxes_list_.append('NO')\n",
    "        print('沒有預測出來有box(label)')"
   ]
  },
  {
   "cell_type": "code",
   "execution_count": null,
   "metadata": {},
   "outputs": [],
   "source": [
    "FP_df = pd.DataFrame({\"test_name\":pred_bboxes_names_, \n",
    "                      \"pred_bbox\":pred_bboxes_list_,\n",
    "                      \"score\":pred_bboxes_scores_}\n",
    "                      )\n",
    "pred_bboxes = pd.concat([pred_bboxes,FP_df],axis=0,ignore_index=True)\n",
    "pred_bboxes"
   ]
  },
  {
   "cell_type": "code",
   "execution_count": null,
   "metadata": {},
   "outputs": [],
   "source": []
  },
  {
   "cell_type": "code",
   "execution_count": null,
   "metadata": {},
   "outputs": [],
   "source": [
    "# Left join \n",
    "result_table_all              = stage1_pred_result_all.merge(pred_bboxes, on=['test_name'], how='left').merge(true_bboxes, on=['test_name'], how='left')\n",
    "result_table_all['true_bbox'] = result_table_all.apply(lambda x: 'NO' if (x.test_true==0 and x.stage1_test_pred==1) else x.true_bbox, axis=1)     # FP\n",
    "result_table_all['pred_bbox'] = result_table_all.apply(lambda x: 'NO' if (x.test_true==1 and x.stage1_test_pred==0) else x.pred_bbox, axis=1)     # FN\n",
    "result_table_all.shape\n"
   ]
  },
  {
   "cell_type": "code",
   "execution_count": null,
   "metadata": {},
   "outputs": [],
   "source": [
    "row, col = result_table_all.shape\n",
    "iou_thresholds = np.arange(0.5, 1.0, 0.05)      \n",
    "\n",
    "precisions, recalls, f1s = [], [], []\n",
    "y_trues  = []\n",
    "y_scores = []\n",
    "for iou_threshold in iou_thresholds:\n",
    "    y_true   = []                # 0:無壺腹乳頭 1:有壺腹乳頭\n",
    "    y_score  = []                # confidence分數\n",
    "    for r in range(row):         # row: 列數\n",
    "        test_img_name = result_table_all.iloc[r:r+1]['test_name'][r]\n",
    "        true_bbox     = result_table_all.iloc[r:r+1]['true_bbox'][r]\n",
    "        pred_bbox     = result_table_all.iloc[r:r+1]['pred_bbox'][r]\n",
    "        score         = result_table_all.iloc[r:r+1]['score'][r]\n",
    "\n",
    "        # print(true_bbox, pred_bbox)\n",
    "        if true_bbox != 'NO' and pred_bbox != 'NO':\n",
    "            ciou = get_iou(true_bbox, pred_bbox)           # 找出真實box和預測box的iou\n",
    "            \n",
    "            # ciou = calculate_ciou(true_bbox, pred_bbox)      # 找出真實box和預測box的ciou\n",
    "            \n",
    "            if ciou >= iou_threshold:   # 如果>=iou，才是有預測到，TP會增加\n",
    "                y_true.append(1)\n",
    "                y_score.append(score)   # TP\n",
    "            else:\n",
    "                y_true.append(0)\n",
    "                y_score.append(score)   # FP\n",
    "        elif true_bbox != 'NO' and pred_bbox == 'NO':\n",
    "            y_true.append(1)\n",
    "            y_score.append(0)       # FN\n",
    "        elif true_bbox == 'NO' and pred_bbox != 'NO':\n",
    "            y_true.append(0)\n",
    "            y_score.append(score)       # FP\n",
    "\n",
    "    y_trues.append(y_true)\n",
    "    y_scores.append(y_score)\n",
    "\n",
    "plt_precision_recall_curve_2(iou_thresholds, y_trues, y_scores)     # 畫PR curve"
   ]
  },
  {
   "cell_type": "code",
   "execution_count": null,
   "metadata": {},
   "outputs": [],
   "source": [
    "result_table_all"
   ]
  },
  {
   "cell_type": "code",
   "execution_count": null,
   "metadata": {},
   "outputs": [],
   "source": [
    "# result_table_all.to_csv(\"../result_df/test_stage1Andstage2_result_smooth_20230331.csv\", index=False)\n",
    "# result_table_all.to_csv(\"../result_df/test_stage1Andstage2_result_20230331.csv\", index=False)"
   ]
  },
  {
   "cell_type": "code",
   "execution_count": null,
   "metadata": {},
   "outputs": [],
   "source": []
  },
  {
   "cell_type": "code",
   "execution_count": null,
   "metadata": {},
   "outputs": [],
   "source": []
  },
  {
   "cell_type": "code",
   "execution_count": null,
   "metadata": {},
   "outputs": [],
   "source": []
  }
 ],
 "metadata": {
  "kernelspec": {
   "display_name": "base",
   "language": "python",
   "name": "python3"
  },
  "language_info": {
   "codemirror_mode": {
    "name": "ipython",
    "version": 3
   },
   "file_extension": ".py",
   "mimetype": "text/x-python",
   "name": "python",
   "nbconvert_exporter": "python",
   "pygments_lexer": "ipython3",
   "version": "3.9.13"
  },
  "orig_nbformat": 4,
  "vscode": {
   "interpreter": {
    "hash": "1448b48b023bcc9c3d4a79e814720a10ca6d4244f75e0f7ce4af58f96ba2b7d3"
   }
  }
 },
 "nbformat": 4,
 "nbformat_minor": 2
}
