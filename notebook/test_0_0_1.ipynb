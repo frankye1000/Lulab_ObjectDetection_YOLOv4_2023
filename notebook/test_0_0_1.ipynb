{
 "cells": [
  {
   "cell_type": "markdown",
   "metadata": {},
   "source": [
    "# CIoU & IoU 比較 \n",
    "# 實驗 train_vali_test:0_0_1\n",
    "#### PR curve"
   ]
  },
  {
   "cell_type": "code",
   "execution_count": 2,
   "metadata": {},
   "outputs": [],
   "source": [
    "import sys\n",
    "sys.path.append(\"..\")\n",
    "\n",
    "import pandas as pd\n",
    "from models import Yolov4\n",
    "from tensorflow import keras\n",
    "from config import yolo_config\n",
    "from iou import get_iou, calculate_ciou\n",
    "from utils import DataGenerator, read_annotation_lines\n",
    "\n",
    "import numpy as np\n",
    "from glob import glob\n",
    "from tqdm.notebook import tqdm\n",
    "\n",
    "import seaborn as sns\n",
    "from turtle import color\n",
    "from matplotlib import style\n",
    "import matplotlib.pylab as pl\n",
    "import matplotlib.pyplot as plt\n",
    "\n",
    "from sklearn.metrics import precision_recall_curve\n",
    "from sklearn.metrics import average_precision_score\n",
    "from sklearn.metrics import PrecisionRecallDisplay\n",
    "from sklearn.metrics import confusion_matrix\n",
    "from sklearn.metrics import ConfusionMatrixDisplay\n",
    "\n",
    "import math\n",
    "import cv2 as cv\n",
    "import xml.etree.ElementTree as ET\n",
    "\n",
    "import os\n",
    "# 使用第二張 GPU 卡\n",
    "os.environ[\"CUDA_VISIBLE_DEVICES\"] = \"1\""
   ]
  },
  {
   "cell_type": "markdown",
   "metadata": {},
   "source": [
    "# 載入模型"
   ]
  },
  {
   "cell_type": "code",
   "execution_count": 3,
   "metadata": {},
   "outputs": [],
   "source": [
    "# yolo_config['score_threshold']=0.7\n",
    "# print(yolo_config)"
   ]
  },
  {
   "cell_type": "code",
   "execution_count": null,
   "metadata": {},
   "outputs": [],
   "source": [
    "import warnings\n",
    "warnings.filterwarnings('ignore')\n",
    "class_name_path = '../class_names/classes.txt'\n",
    "model = Yolov4(weight_path=None, class_name_path=class_name_path, config=yolo_config)\n",
    "model.load_weights(path=\"../model/202208/20220822_sopbox_0.weights\")"
   ]
  },
  {
   "cell_type": "markdown",
   "metadata": {},
   "source": [
    "# 影片"
   ]
  },
  {
   "cell_type": "code",
   "execution_count": null,
   "metadata": {},
   "outputs": [],
   "source": [
    "# test_dir = 'test_i'\n",
    "# test_img_paths = glob(\"../test_img/{}/*.png\".format(test_dir))\n",
    "# test_img_paths[0].split('\\\\')[1]\n",
    "\n",
    "\n",
    "# '''\n",
    "# output_img: image array\n",
    "# detections: DataFram of box(x1,y1,x2,y2)\n",
    "# '''\n",
    "# pred_box_num = 0  # 有預測框的圖像數量\n",
    "# for test_img_path in tqdm(test_img_paths):\n",
    "#     test_img_no = test_img_path.split('\\\\')[1]\n",
    "#     output_img, detections = model.predict(img_path=test_img_path, \n",
    "#                          random_color=False, # 框顏色\n",
    "#                          plot_img=False, # 顯示出框選圖片\n",
    "#                          show_text=True, # 框上面加上類別文字\n",
    "#                          box_num=1,      # 顯示框的數量\n",
    "#                          return_output=True)\n",
    "#     if len(detections) == 1:\n",
    "#         pred_box_num += 1\n",
    "#     plt.imsave('../result_img/{}/test_{}'.format('test_i_big_box',test_img_no),output_img)\n",
    "\n",
    "# print('有預測框的圖像數量=', pred_box_num)"
   ]
  },
  {
   "cell_type": "markdown",
   "metadata": {},
   "source": [
    "# 每一個test 真實box數值"
   ]
  },
  {
   "cell_type": "code",
   "execution_count": null,
   "metadata": {},
   "outputs": [],
   "source": [
    "true_box_PATH = '../test_img/txt/20220806_anno_test_lines_0.txt'       # 這邊要修改train/test 的路徑!!!!!!!!\n",
    "# true_box_PATH = '../dataset/txt/20220822_anno_train_lines_0.txt'\n",
    "# true_box_PATH = '../dataset/txt/20220822_anno_val_lines_0.txt'\n",
    "\n",
    "true_bboxes = {}\n",
    "with open(true_box_PATH) as f:\n",
    "    for line in f.readlines():\n",
    "        true_bboxes[line.split(' ')[0]] = tuple([int(i) for i in line.split(' ')[1].split(',')[:4]])\n",
    "\n",
    "print('數量= ', len(true_bboxes))"
   ]
  },
  {
   "cell_type": "markdown",
   "metadata": {},
   "source": [
    "# 將沒有壺腹乳頭補充進true_bbox dictionary"
   ]
  },
  {
   "cell_type": "code",
   "execution_count": null,
   "metadata": {},
   "outputs": [],
   "source": [
    "img_paths = glob(\"../test_img/20220806_test_img_sopbox_1/*.png\")\n",
    "img_names = []\n",
    "for img_path in img_paths:\n",
    "    img_name = img_path.split('\\\\')[1]\n",
    "    img_names.append(img_name)\n",
    "\n",
    "\n",
    "# 將沒有壺腹乳頭補充進true_bbox dictionary\n",
    "for img_name in img_names:\n",
    "    if img_name not in true_bboxes:\n",
    "        true_bboxes[img_name]='nan'\n",
    "\n",
    "print('測試影像數量= ',len(true_bboxes))"
   ]
  },
  {
   "cell_type": "code",
   "execution_count": null,
   "metadata": {},
   "outputs": [],
   "source": []
  },
  {
   "cell_type": "markdown",
   "metadata": {},
   "source": [
    "# 每一個預測的box數值"
   ]
  },
  {
   "cell_type": "code",
   "execution_count": null,
   "metadata": {},
   "outputs": [],
   "source": [
    "train = ['a', 'b', 'c', 'e', 'f','g', 'j']\n",
    "val   = ['d', 'i']\n",
    "test  = ['h', 'z']\n",
    "\n",
    "PATH = '../test_img/20220806_test_img_sopbox_1/'\n",
    "# PATH = '../dataset/20220822_train_vali_img_sopbox_0/'                        # 這邊要修改train/test 的路徑!!!!!!!!\n",
    "\n",
    "pred_bboxes = []\n",
    "for test_img_name in true_bboxes:#glob(os.path.join(PATH, '*.png')):\n",
    "    test_img_path = PATH+test_img_name\n",
    "    output_img, detections = model.predict(img_path=test_img_path, \n",
    "                                        random_color=False, # 框顏色\n",
    "                                        plot_img=False, # 顯示出框選圖片\n",
    "                                        show_text=True, # 框上面加上類別文字\n",
    "                                        box_num=1,      # 顯示框的數量\n",
    "                                        return_output=True)\n",
    "    \n",
    "    limit = 1#len(detections['score'])                            # 這邊要修改無限制 / 限制數量1個  !!!!!!!!!!!\n",
    "    pred_box_num = len(detections['score'])  \n",
    "    print(\"pred_box_num= \",pred_box_num)                    \n",
    "    if pred_box_num > 0:       # 有預測出box\n",
    "        for i in range(limit):\n",
    "            score = detections[i:i+1]['score'].to_numpy()[0]\n",
    "            print(\"score= \",score)\n",
    "            if score>=0.5:                                        # 這邊放寬score限制，看混淆矩陣狀況 !!!!!!!!!!! \n",
    "                pred_bboxes.append([test_img_name,score,tuple(detections[i:i+1][['x1','y1','x2','y2']].to_numpy()[0])])\n",
    "            else:\n",
    "                pred_bboxes.append([test_img_name, score, 'nan'])\n",
    "    else:\n",
    "        pred_bboxes.append([test_img_name, 0, 'nan'])\n",
    "        print('沒有預測出來有box(label)')"
   ]
  },
  {
   "cell_type": "code",
   "execution_count": null,
   "metadata": {},
   "outputs": [],
   "source": [
    "print(len(pred_bboxes))\n",
    "pred_bboxes[0]"
   ]
  },
  {
   "cell_type": "code",
   "execution_count": null,
   "metadata": {},
   "outputs": [],
   "source": []
  },
  {
   "cell_type": "code",
   "execution_count": null,
   "metadata": {},
   "outputs": [],
   "source": []
  },
  {
   "cell_type": "markdown",
   "metadata": {},
   "source": [
    "# 真實、預測 框框 繪出"
   ]
  },
  {
   "cell_type": "code",
   "execution_count": null,
   "metadata": {},
   "outputs": [],
   "source": [
    "# def draw_rectangle(img, true_bbox, pred_bbox):\n",
    "#     True_bbox = true_bbox\n",
    "#     Pred_bbox = pred_bbox\n",
    "    \n",
    "#     # 如果True_bbox(Pred_bbox)框沒有預測出來，就採用Pred_bbox(True_bbox)框\n",
    "#     if True_bbox=='nan' and Pred_bbox!='nan':\n",
    "#         cv.rectangle(img, (Pred_bbox[0], Pred_bbox[1]), (Pred_bbox[2], Pred_bbox[3]), (0, 0, 255), 2)  # Pred_bbox\n",
    "#         return img\n",
    "#     elif Pred_bbox=='nan' and True_bbox!='nan':\n",
    "#         cv.rectangle(img, (True_bbox[0], True_bbox[1]), (True_bbox[2], True_bbox[3]), (255, 0, 0), 2)  # True_bbox\n",
    "#         return img\n",
    "#     # 如果都沒有預測出來，就回傳'nan'\n",
    "#     elif True_bbox=='nan' and Pred_bbox=='nan':\n",
    "#         return img\n",
    "#     else:\n",
    "#         cv.rectangle(img, (Pred_bbox[0], Pred_bbox[1]), (Pred_bbox[2], Pred_bbox[3]), (0, 0, 255), 2)  # Pred_bbox\n",
    "#         cv.rectangle(img, (True_bbox[0], True_bbox[1]), (True_bbox[2], True_bbox[3]), (255, 0, 0), 2)  # True_bbox\n",
    "#         # 印出ciou\n",
    "#         ciou = calculate_ciou(True_bbox, Pred_bbox)\n",
    "#         iou  = get_iou(True_bbox, Pred_bbox)\n",
    "#         print('iou= ', round(iou,2), ', ciou= ', round(ciou,2))\n",
    "        \n",
    "#         return img"
   ]
  },
  {
   "cell_type": "code",
   "execution_count": null,
   "metadata": {},
   "outputs": [],
   "source": [
    "# for p in pred_bboxes:\n",
    "#     img_name  = p[0]\n",
    "#     path      = PATH + img_name\n",
    "#     img_array = cv.imread(path)\n",
    "    \n",
    "#     pred_bbox = p[2]\n",
    "#     img       = draw_rectangle(img_array, true_bboxes[img_name], pred_bbox)\n",
    "\n",
    "#     print(\"img_name= \", img_name)\n",
    "#     plt.imshow(cv.cvtColor(img, cv.COLOR_BGR2RGB))\n",
    "#     plt.show()\n",
    "#     print('----------------------------------------------------------')"
   ]
  },
  {
   "cell_type": "code",
   "execution_count": null,
   "metadata": {},
   "outputs": [],
   "source": []
  },
  {
   "cell_type": "markdown",
   "metadata": {},
   "source": [
    "# 計算iou\n",
    "參數:\n",
    "\n",
    "iou_threshold = 0.7    \"iou大於0.7才是有框選到\""
   ]
  },
  {
   "cell_type": "code",
   "execution_count": null,
   "metadata": {},
   "outputs": [],
   "source": [
    "def valid(TP, FN, FP, TN):\n",
    "    \n",
    "    precision = 0 if (TP+FP)==0 else TP/(TP+FP)\n",
    "    recall    = 0 if (TP+FN)==0 else TP/(TP+FN)\n",
    "    f1        = 0 if (precision+recall)==0 else 2*precision*recall/(precision+recall)\n",
    "\n",
    "    print('precision={:.2f}, recall={:.2f}, f1={:.2f}'.format(precision, recall, f1))\n",
    "    print(TP,\"|\",FN,\"\\n\"\n",
    "          ,FP,\"|\",TN)\n",
    "\n",
    "    return precision, recall, f1"
   ]
  },
  {
   "cell_type": "code",
   "execution_count": null,
   "metadata": {},
   "outputs": [],
   "source": [
    "def plt_precision_recall_curve_1(y_true, y_scores):\n",
    "    precision, recall, thresholds = precision_recall_curve(y_true, y_scores)\n",
    "    average_precision             = average_precision_score(y_true, y_scores)\n",
    "    # 用套件畫\n",
    "    # disp = PrecisionRecallDisplay(precision=precision, recall=recall, average_precision=average_precision)\n",
    "    # disp.plot()\n",
    "    # plt.ylim([0.0, 1.05])\n",
    "    # plt.xlim([0.0, 1.0])\n",
    "    # plt.show()\n",
    "\n",
    "    # 自己畫\n",
    "    plt.plot(recall, precision, 'b-')   \n",
    "    plt.ylim([0.0, 1.05])\n",
    "    plt.xlim([0.0, 1.0])  \n",
    "    plt.xlabel('recall')\n",
    "    plt.ylabel('precision')\n",
    "    plt.title('precision_recall_curve')\n",
    "    plt.legend(['AP={}'.format(round(average_precision,2))])\n",
    "    plt.show()\n",
    "\n",
    "    # print('precision = ', precision)\n",
    "    # print('recall = ', recall)\n",
    "    # print('thresholds = ',thresholds)\n",
    "    print('AP={:.2f}'.format(average_precision))"
   ]
  },
  {
   "cell_type": "code",
   "execution_count": null,
   "metadata": {},
   "outputs": [],
   "source": [
    "def plt_heatmap(con_ma):\n",
    "    '''\n",
    "    con_ma:[[TP,FN],[FP,TN]]\n",
    "    '''\n",
    "    sns.set()\n",
    "    f,ax=plt.subplots()\n",
    "    sns.heatmap(con_ma, annot=True, ax=ax, fmt='d', cmap='YlGnBu', vmax=200, vmin=0) # 畫熱力圖\n",
    "    ax.set_title('confusion matrix') # 標題\n",
    "    ax.set_xlabel('predict')         # x軸\n",
    "    ax.set_ylabel('true')            # y軸\n",
    "    ax.xaxis.set_ticklabels(['Papilla', 'No Papilla'])\n",
    "    ax.yaxis.set_ticklabels(['Papilla', 'No Papilla'])\n",
    "    plt.show()"
   ]
  },
  {
   "cell_type": "markdown",
   "metadata": {},
   "source": [
    "### 測試集結果"
   ]
  },
  {
   "cell_type": "code",
   "execution_count": null,
   "metadata": {},
   "outputs": [],
   "source": [
    "iou_thresholds = np.arange(0.5, 0.6, 0.1)      # 固定ciou_threshold=0.5\n",
    "# test_img_names = true_bbox.keys()\n",
    "precisions, recalls, f1s = [], [], []\n",
    "for iou_threshold in iou_thresholds:\n",
    "    TP,FP,FN,TN = 0,0,0,0\n",
    "    y_true   = []                # 0:無壺腹乳頭 1:有壺腹乳頭\n",
    "    y_score = []                # confidence分數\n",
    "    for p in pred_bboxes:        # p=['g_000026.png',0.856, (99, 0, 672, 670)]\n",
    "        test_img_name  = p[0]\n",
    "        score          = p[1]       \n",
    "        pred_bbox      = p[2]\n",
    "\n",
    "        if true_bboxes[test_img_name] != 'nan' and pred_bbox != 'nan':\n",
    "            # ciou = get_iou(true_bbox[test_img_name], pred_bbox[test_img_name])           # 找出真實box和預測box的iou\n",
    "            ciou = calculate_ciou(true_bboxes[test_img_name], pred_bbox)                     # 找出真實box和預測box的ciou\n",
    "            \n",
    "            if ciou >= iou_threshold:   # 如果>=iou，才是有預測到，TP會增加\n",
    "                y_true.append(1)\n",
    "                y_score.append(score)\n",
    "                TP += 1\n",
    "            else:\n",
    "                y_true.append(0)\n",
    "                y_score.append(score)\n",
    "                FP += 1                 # 如果<iou，FP也會增加\n",
    "        elif true_bboxes[test_img_name] != 'nan' and pred_bbox == 'nan':\n",
    "            y_true.append(1)\n",
    "            y_score.append(0)\n",
    "            FN += 1\n",
    "        elif true_bboxes[test_img_name] == 'nan' and pred_bbox != 'nan':\n",
    "            y_true.append(0)\n",
    "            y_score.append(score)\n",
    "            FP += 1\n",
    "        else:\n",
    "            # y_true.append(0)\n",
    "            # y_scores.append(0)\n",
    "            TN += 1\n",
    "    \n",
    "    \n",
    "    con_ma = [[TP, FN],[FP, 0]]\n",
    "    print('TN= ',TN)\n",
    "    plt_heatmap(con_ma)                               # 畫熱力圖\n",
    "    plt_precision_recall_curve_1(y_true, y_score)     # 畫PR curve\n",
    "    precision, recall, f1 = valid(TP, FN, FP, 0)      # P R f1 資訊\n",
    "    print('ciou_threshold={}'.format(iou_threshold))\n",
    "    print(\"------------------------------------------------------------------------------------\")\n",
    "    precisions.append(precision)\n",
    "    recalls.append(recall)\n",
    "    f1s.append(f1)"
   ]
  },
  {
   "cell_type": "code",
   "execution_count": null,
   "metadata": {},
   "outputs": [],
   "source": []
  },
  {
   "cell_type": "code",
   "execution_count": null,
   "metadata": {},
   "outputs": [],
   "source": [
    "def plt_precision_recall_curve_2(iou_thresholds, y_trues, y_scores):\n",
    "    n      = len(y_trues)\n",
    "    colors = pl.cm.jet(np.linspace(0,1,n))\n",
    "    plt.ylim([0.0, 1.05])\n",
    "    plt.xlim([0.0, 1.0])  \n",
    "    plt.xlabel('recall')\n",
    "    plt.ylabel('precision')\n",
    "    plt.title('precision_recall_curve')\n",
    "\n",
    "    \n",
    "    for i in range(n):\n",
    "        iou_threshold = round(iou_thresholds[i],2)\n",
    "        y_true        = y_trues[i]\n",
    "        y_score       = y_scores[i]\n",
    "        precision, recall, thresholds = precision_recall_curve(y_true, y_score)\n",
    "        average_precision             = round(average_precision_score(y_true, y_score),2)\n",
    "        \n",
    "        # 自己畫\n",
    "        plt.plot(recall, precision, color=colors[i], label = \"CIoU={} => AP={}\".format(iou_threshold, average_precision))   \n",
    "        \n",
    "        # print('precision = ', precision)\n",
    "        # print('recall = ', recall)\n",
    "        # print('thresholds = ',thresholds)\n",
    "        # print('AP={:.2f}'.format(average_precision))\n",
    "    plt.legend(loc='upper left',bbox_to_anchor=(0.0, -0.3))\n",
    "    plt.show()"
   ]
  },
  {
   "cell_type": "code",
   "execution_count": null,
   "metadata": {},
   "outputs": [],
   "source": [
    "iou_thresholds = np.arange(0.1, 0.8, 0.1)      # 固定ciou_threshold=0.5\n",
    "\n",
    "precisions, recalls, f1s = [], [], []\n",
    "y_trues  = []\n",
    "y_scores = []\n",
    "for iou_threshold in iou_thresholds:\n",
    "    y_true   = []                # 0:無壺腹乳頭 1:有壺腹乳頭\n",
    "    y_score  = []                # confidence分數\n",
    "    for p in pred_bboxes:        # p=['g_000026.png',0.856, (99, 0, 672, 670)]\n",
    "        test_img_name  = p[0]\n",
    "        score          = p[1]       \n",
    "        pred_bbox      = p[2]\n",
    "\n",
    "        if true_bboxes[test_img_name] != 'nan' and pred_bbox != 'nan':\n",
    "            # ciou = get_iou(true_bbox[test_img_name], pred_bbox[test_img_name])           # 找出真實box和預測box的iou\n",
    "            ciou = calculate_ciou(true_bboxes[test_img_name], pred_bbox)                     # 找出真實box和預測box的ciou\n",
    "            \n",
    "            if ciou >= iou_threshold:   # 如果>=iou，才是有預測到，TP會增加\n",
    "                y_true.append(1)\n",
    "                y_score.append(score)\n",
    "            else:\n",
    "                y_true.append(0)\n",
    "                y_score.append(score)\n",
    "        elif true_bboxes[test_img_name] != 'nan' and pred_bbox == 'nan':\n",
    "            y_true.append(1)\n",
    "            y_score.append(0)\n",
    "        elif true_bboxes[test_img_name] == 'nan' and pred_bbox != 'nan':\n",
    "            y_true.append(0)\n",
    "            y_score.append(score)\n",
    "\n",
    "    \n",
    "    y_trues.append(y_true)\n",
    "    y_scores.append(y_score)\n",
    "\n",
    "plt_precision_recall_curve_2(iou_thresholds, y_trues, y_scores)     # 畫PR curve"
   ]
  },
  {
   "cell_type": "code",
   "execution_count": null,
   "metadata": {},
   "outputs": [],
   "source": []
  }
 ],
 "metadata": {
  "interpreter": {
   "hash": "3d0b3230cba0d6cbfd99760ee6674b1181db07b2579171d1aa41779f5a406caf"
  },
  "kernelspec": {
   "display_name": "Python 3.9.7 ('frank_env')",
   "language": "python",
   "name": "python3"
  },
  "language_info": {
   "codemirror_mode": {
    "name": "ipython",
    "version": 3
   },
   "file_extension": ".py",
   "mimetype": "text/x-python",
   "name": "python",
   "nbconvert_exporter": "python",
   "pygments_lexer": "ipython3",
   "version": "3.9.7"
  },
  "orig_nbformat": 4
 },
 "nbformat": 4,
 "nbformat_minor": 2
}
