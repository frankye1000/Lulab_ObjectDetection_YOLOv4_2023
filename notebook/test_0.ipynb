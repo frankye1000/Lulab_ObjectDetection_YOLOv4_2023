{
 "cells": [
  {
   "cell_type": "code",
   "execution_count": 1,
   "metadata": {},
   "outputs": [],
   "source": [
    "import sys\n",
    "sys.path.append(\"..\")\n",
    "\n",
    "import pandas as pd\n",
    "from models import Yolov4\n",
    "from tensorflow import keras\n",
    "from config import yolo_config\n",
    "from utils import DataGenerator, read_annotation_lines\n",
    "\n",
    "import numpy as np\n",
    "from glob import glob\n",
    "from tqdm.notebook import tqdm\n",
    "\n",
    "import matplotlib.pyplot as plt\n",
    "from sklearn.metrics import precision_recall_curve\n",
    "from sklearn.metrics import average_precision_score\n",
    "from sklearn.metrics import PrecisionRecallDisplay\n",
    "\n",
    "import math\n",
    "import torch\n",
    "import xml.etree.ElementTree as ET\n",
    "import os\n",
    "\n",
    "# 使用第二張 GPU 卡\n",
    "os.environ[\"CUDA_VISIBLE_DEVICES\"] = \"1\""
   ]
  },
  {
   "cell_type": "code",
   "execution_count": 2,
   "metadata": {},
   "outputs": [],
   "source": [
    "def get_iou(bbox_ai, bbox_gt):\n",
    "    iou_x = max(bbox_ai[0], bbox_gt[0]) # x\n",
    "    iou_y = max(bbox_ai[1], bbox_gt[1]) # y\n",
    "    iou_w = min(bbox_ai[2]+bbox_ai[0], bbox_gt[2]+bbox_gt[0]) - iou_x # w\n",
    "    iou_w = max(iou_w, 0)\n",
    "    # print(f'{iou_w=}')\n",
    "    iou_h = min(bbox_ai[3]+bbox_ai[1], bbox_gt[3]+bbox_gt[1]) - iou_y # h\n",
    "    iou_h = max(iou_h, 0)\n",
    "    # print(f'{iou_h=}')\n",
    "\n",
    "    iou_area = iou_w * iou_h\n",
    "    # print(f'{iou_area=}')\n",
    "    all_area = bbox_ai[2]*bbox_ai[3] + bbox_gt[2]*bbox_gt[3] - iou_area\n",
    "    # print(f'{all_area=}')\n",
    "\n",
    "    if all_area == 0:  # 有可能雙方皆沒有重疊，或是一開始就沒有label\n",
    "        return 0\n",
    "    return max(iou_area/all_area, 0)"
   ]
  },
  {
   "cell_type": "code",
   "execution_count": 3,
   "metadata": {},
   "outputs": [],
   "source": [
    "def calculate_ciou(box_1, box_2):\n",
    "    \"\"\"\n",
    "    calculate ciou\n",
    "    :param box_1: (x0, y0, x1, y1)\n",
    "    :param box_2: (x0, y0, x1, y1)\n",
    "    :return: value of ciou\n",
    "    \"\"\"\n",
    "    # perfect\n",
    "    if box_1==box_2:  \n",
    "        return 1.0\n",
    "\n",
    "    # calculate area of each box\n",
    "    width_1 = box_1[2] - box_1[0]\n",
    "    height_1 = box_1[3] - box_1[1]\n",
    "    area_1 = width_1 * height_1\n",
    "\n",
    "    width_2 = box_2[2] - box_2[0]\n",
    "    height_2 = box_2[3] - box_2[1]\n",
    "    area_2 = width_2 * height_2\n",
    "\n",
    "    # calculate center point of each box\n",
    "    center_x1 = (box_1[2] - box_1[0]) / 2\n",
    "    center_y1 = (box_1[3] - box_1[1]) / 2\n",
    "    center_x2 = (box_2[2] - box_2[0]) / 2\n",
    "    center_y2 = (box_2[3] - box_2[1]) / 2\n",
    "\n",
    "    # calculate square of center point distance\n",
    "    p2 = (center_x2 - center_x1) ** 2 + (center_y2 - center_y1) ** 2\n",
    "\n",
    "    # calculate square of the diagonal length\n",
    "    width_c = max(box_1[2], box_2[2]) - min(box_1[0], box_2[0])\n",
    "    height_c = max(box_1[3], box_2[3]) - min(box_1[1], box_2[1])\n",
    "    c2 = width_c ** 2 + height_c ** 2\n",
    "\n",
    "    # find the edge of intersect box\n",
    "    left = max(box_1[0], box_2[0])\n",
    "    top = max(box_1[1], box_2[1])\n",
    "    bottom = min(box_1[3], box_2[3])\n",
    "    right = min(box_1[2], box_2[2])\n",
    "\n",
    "    # calculate the intersect area\n",
    "    area_intersection = (right - left) * (bottom - top)\n",
    "\n",
    "    # calculate the union area\n",
    "    area_union = area_1 + area_2 - area_intersection\n",
    "\n",
    "    # calculate iou\n",
    "    iou = float(area_intersection) / area_union\n",
    "\n",
    "    # calculate v\n",
    "    arctan = math.atan(float(width_2) / height_2) - math.atan(float(width_1) / height_1)\n",
    "    v = (4.0 / math.pi ** 2) * (arctan ** 2)\n",
    "\n",
    "    # calculate alpha\n",
    "    alpha = float(v) / (1 - iou + v)\n",
    "\n",
    "    # calculate ciou(iou - p2 / c2 - alpha * v)\n",
    "    ciou = iou - float(p2) / c2 - alpha * v\n",
    "\n",
    "    return ciou"
   ]
  },
  {
   "cell_type": "code",
   "execution_count": 4,
   "metadata": {},
   "outputs": [],
   "source": [
    "def plt_precision_recall_curve(y_true, y_scores):\n",
    "    precision, recall, thresholds = precision_recall_curve(y_true, y_scores)\n",
    "    average_precision             = average_precision_score(y_true, y_scores)\n",
    "\n",
    "    disp = PrecisionRecallDisplay(precision=precision, recall=recall, average_precision=average_precision)\n",
    "    disp.plot()\n",
    "    plt.ylim([0.0, 1.05])\n",
    "    plt.xlim([0.0, 1.0])\n",
    "    plt.show()\n",
    "    # print('recall = ', recall)\n",
    "    # print('thresholds = ', thresholds)\n",
    "    print('AP={:.2f}'.format(average_precision))"
   ]
  },
  {
   "cell_type": "markdown",
   "metadata": {},
   "source": [
    "# 載入模型"
   ]
  },
  {
   "cell_type": "code",
   "execution_count": 5,
   "metadata": {},
   "outputs": [],
   "source": [
    "# yolo_config['score_threshold']=0.7\n",
    "# print(yolo_config)"
   ]
  },
  {
   "cell_type": "code",
   "execution_count": 6,
   "metadata": {},
   "outputs": [
    {
     "name": "stdout",
     "output_type": "stream",
     "text": [
      "nms iou: 0.2 score: 0.2\n"
     ]
    }
   ],
   "source": [
    "import warnings\n",
    "warnings.filterwarnings('ignore')\n",
    "class_name_path = '../class_names/classes.txt'\n",
    "model = Yolov4(weight_path=None, class_name_path=class_name_path, config=yolo_config)\n",
    "model.load_weights(path=\"../model/20220722_sopbox.weights\")"
   ]
  },
  {
   "cell_type": "markdown",
   "metadata": {},
   "source": [
    "# 影片"
   ]
  },
  {
   "cell_type": "code",
   "execution_count": 7,
   "metadata": {},
   "outputs": [],
   "source": [
    "# test_dir = 'test_i'\n",
    "# test_img_paths = glob(\"../test_img/{}/*.png\".format(test_dir))\n",
    "# test_img_paths[0].split('\\\\')[1]\n",
    "\n",
    "\n",
    "# '''\n",
    "# output_img: image array\n",
    "# detections: DataFram of box(x1,y1,x2,y2)\n",
    "# '''\n",
    "# pred_box_num = 0  # 有預測框的圖像數量\n",
    "# for test_img_path in tqdm(test_img_paths):\n",
    "#     test_img_no = test_img_path.split('\\\\')[1]\n",
    "#     output_img, detections = model.predict(img_path=test_img_path, \n",
    "#                          random_color=False, # 框顏色\n",
    "#                          plot_img=False, # 顯示出框選圖片\n",
    "#                          show_text=True, # 框上面加上類別文字\n",
    "#                          box_num=1,      # 顯示框的數量\n",
    "#                          return_output=True)\n",
    "#     if len(detections) == 1:\n",
    "#         pred_box_num += 1\n",
    "#     plt.imsave('../result_img/{}/test_{}'.format('test_i_big_box',test_img_no),output_img)\n",
    "\n",
    "# print('有預測框的圖像數量=', pred_box_num)"
   ]
  },
  {
   "cell_type": "markdown",
   "metadata": {},
   "source": [
    "# 每一個test 真實box數值"
   ]
  },
  {
   "cell_type": "code",
   "execution_count": 8,
   "metadata": {},
   "outputs": [],
   "source": [
    "true_box_PATH = '../test_img/txt/anno_test_lines_0.txt'\n",
    "true_bbox = {}\n",
    "with open(true_box_PATH) as f:\n",
    "    for line in f.readlines():\n",
    "        true_bbox[line.split(' ')[0]] = tuple([int(i) for i in line.split(' ')[1].split(',')[:4]])"
   ]
  },
  {
   "cell_type": "markdown",
   "metadata": {},
   "source": [
    "# 每一個預測的box數值"
   ]
  },
  {
   "cell_type": "code",
   "execution_count": 9,
   "metadata": {},
   "outputs": [
    {
     "name": "stdout",
     "output_type": "stream",
     "text": [
      "# of bboxes: 1\n",
      "# of bboxes: 3\n",
      "# of bboxes: 1\n",
      "# of bboxes: 2\n",
      "# of bboxes: 3\n",
      "# of bboxes: 2\n",
      "# of bboxes: 1\n",
      "# of bboxes: 1\n",
      "# of bboxes: 1\n",
      "# of bboxes: 1\n",
      "# of bboxes: 2\n",
      "# of bboxes: 1\n",
      "# of bboxes: 1\n",
      "# of bboxes: 1\n",
      "# of bboxes: 2\n",
      "# of bboxes: 1\n",
      "# of bboxes: 2\n",
      "# of bboxes: 2\n",
      "# of bboxes: 2\n",
      "# of bboxes: 1\n",
      "# of bboxes: 1\n",
      "# of bboxes: 1\n",
      "# of bboxes: 2\n",
      "# of bboxes: 2\n",
      "# of bboxes: 2\n",
      "# of bboxes: 2\n",
      "# of bboxes: 2\n",
      "# of bboxes: 2\n",
      "# of bboxes: 2\n",
      "# of bboxes: 1\n",
      "# of bboxes: 2\n",
      "# of bboxes: 2\n",
      "# of bboxes: 1\n",
      "# of bboxes: 1\n",
      "# of bboxes: 1\n",
      "# of bboxes: 3\n",
      "# of bboxes: 1\n",
      "# of bboxes: 2\n",
      "# of bboxes: 1\n",
      "# of bboxes: 1\n",
      "# of bboxes: 1\n",
      "# of bboxes: 2\n",
      "# of bboxes: 2\n",
      "# of bboxes: 2\n",
      "# of bboxes: 1\n",
      "# of bboxes: 2\n",
      "# of bboxes: 2\n",
      "# of bboxes: 2\n",
      "# of bboxes: 2\n",
      "# of bboxes: 2\n",
      "# of bboxes: 2\n",
      "# of bboxes: 2\n",
      "# of bboxes: 2\n",
      "# of bboxes: 1\n",
      "# of bboxes: 2\n",
      "# of bboxes: 2\n",
      "# of bboxes: 1\n",
      "# of bboxes: 1\n",
      "# of bboxes: 1\n",
      "# of bboxes: 1\n",
      "# of bboxes: 1\n",
      "# of bboxes: 1\n"
     ]
    }
   ],
   "source": [
    "PATH = '../test_img/test_img_sopbox_0/'\n",
    "pred_bbox = {}\n",
    "for test_img_path in glob(os.path.join(PATH, '*.png')):\n",
    "    test_img_name = test_img_path.split('\\\\')[1]\n",
    "    output_img, detections = model.predict(img_path=test_img_path, \n",
    "                         random_color=False, # 框顏色\n",
    "                         plot_img=False, # 顯示出框選圖片\n",
    "                         show_text=True, # 框上面加上類別文字\n",
    "                         box_num=1,      # 顯示框的數量\n",
    "                         return_output=True)\n",
    "\n",
    "    pred_box_num = len(detections['score'])\n",
    "    if pred_box_num > 0:   # 有預測出box\n",
    "        score = detections['score'].to_numpy()[0]\n",
    "        if score > 0.5:    # 大於score就box\n",
    "            pred_bbox[test_img_name] = tuple(detections[['x1','y1','x2','y2']].to_numpy()[0])\n",
    "        else:              # 小於score就不box\n",
    "            pred_bbox[test_img_name] = 'nan'\n",
    "            \n",
    "    else:\n",
    "        print('沒有預測出來有box(label)')\n",
    "        pred_bbox[test_img_name] = 'nan' "
   ]
  },
  {
   "cell_type": "code",
   "execution_count": 10,
   "metadata": {},
   "outputs": [
    {
     "data": {
      "text/plain": [
       "62"
      ]
     },
     "execution_count": 10,
     "metadata": {},
     "output_type": "execute_result"
    }
   ],
   "source": [
    "len(pred_bbox)"
   ]
  },
  {
   "cell_type": "code",
   "execution_count": 11,
   "metadata": {},
   "outputs": [
    {
     "data": {
      "text/plain": [
       "62"
      ]
     },
     "execution_count": 11,
     "metadata": {},
     "output_type": "execute_result"
    }
   ],
   "source": [
    "len(true_bbox)"
   ]
  },
  {
   "cell_type": "markdown",
   "metadata": {},
   "source": [
    "# 計算iou\n",
    "參數:\n",
    "\n",
    "iou_threshold = 0.7    \"iou大於0.7才是有框選到\""
   ]
  },
  {
   "cell_type": "code",
   "execution_count": 12,
   "metadata": {},
   "outputs": [],
   "source": [
    "def valid(TP, FN, FP, TN):\n",
    "    \n",
    "    precision = 0 if (TP+FP)==0 else TP/(TP+FP)\n",
    "    recall    = 0 if (TP+FN)==0 else TP/(TP+FN)\n",
    "    f1        = 0 if (precision+recall)==0 else 2*precision*recall/(precision+recall)\n",
    "\n",
    "    print('precision={:.2f}, recall={:.2f}, f1={:.2f}'.format(precision, recall, f1))\n",
    "    print(TP,\"|\",FN,\"\\n\"\n",
    "          ,FP,\"|\",TN)\n",
    "\n",
    "    return precision, recall, f1"
   ]
  },
  {
   "cell_type": "code",
   "execution_count": 13,
   "metadata": {},
   "outputs": [
    {
     "data": {
      "image/png": "[encoded data removed]",
      "text/plain": [
       "<Figure size 432x288 with 1 Axes>"
      ]
     },
     "metadata": {
      "needs_background": "light"
     },
     "output_type": "display_data"
    },
    {
     "name": "stdout",
     "output_type": "stream",
     "text": [
      "AP=1.00\n",
      "precision=1.00, recall=0.69, f1=0.82\n",
      "43 | 19 \n",
      " 0 | 0\n",
      "iou_threshold=0.1\n",
      "------------------------------------------------------------------------------------\n"
     ]
    },
    {
     "data": {
      "image/png": "[encoded data removed]",
      "text/plain": [
       "<Figure size 432x288 with 1 Axes>"
      ]
     },
     "metadata": {
      "needs_background": "light"
     },
     "output_type": "display_data"
    },
    {
     "name": "stdout",
     "output_type": "stream",
     "text": [
      "AP=1.00\n",
      "precision=1.00, recall=0.55, f1=0.71\n",
      "34 | 28 \n",
      " 0 | 0\n",
      "iou_threshold=0.2\n",
      "------------------------------------------------------------------------------------\n"
     ]
    },
    {
     "data": {
      "image/png": "[encoded data removed]",
      "text/plain": [
       "<Figure size 432x288 with 1 Axes>"
      ]
     },
     "metadata": {
      "needs_background": "light"
     },
     "output_type": "display_data"
    },
    {
     "name": "stdout",
     "output_type": "stream",
     "text": [
      "AP=1.00\n",
      "precision=1.00, recall=0.45, f1=0.62\n",
      "28 | 34 \n",
      " 0 | 0\n",
      "iou_threshold=0.30000000000000004\n",
      "------------------------------------------------------------------------------------\n"
     ]
    },
    {
     "data": {
      "image/png": "[encoded data removed]",
      "text/plain": [
       "<Figure size 432x288 with 1 Axes>"
      ]
     },
     "metadata": {
      "needs_background": "light"
     },
     "output_type": "display_data"
    },
    {
     "name": "stdout",
     "output_type": "stream",
     "text": [
      "AP=1.00\n",
      "precision=1.00, recall=0.31, f1=0.47\n",
      "19 | 43 \n",
      " 0 | 0\n",
      "iou_threshold=0.4\n",
      "------------------------------------------------------------------------------------\n"
     ]
    },
    {
     "data": {
      "image/png": "[encoded data removed]",
      "text/plain": [
       "<Figure size 432x288 with 1 Axes>"
      ]
     },
     "metadata": {
      "needs_background": "light"
     },
     "output_type": "display_data"
    },
    {
     "name": "stdout",
     "output_type": "stream",
     "text": [
      "AP=1.00\n",
      "precision=1.00, recall=0.15, f1=0.25\n",
      "9 | 53 \n",
      " 0 | 0\n",
      "iou_threshold=0.5\n",
      "------------------------------------------------------------------------------------\n"
     ]
    },
    {
     "data": {
      "image/png": "[encoded data removed]",
      "text/plain": [
       "<Figure size 432x288 with 1 Axes>"
      ]
     },
     "metadata": {
      "needs_background": "light"
     },
     "output_type": "display_data"
    },
    {
     "name": "stdout",
     "output_type": "stream",
     "text": [
      "AP=1.00\n",
      "precision=1.00, recall=0.05, f1=0.09\n",
      "3 | 59 \n",
      " 0 | 0\n",
      "iou_threshold=0.6\n",
      "------------------------------------------------------------------------------------\n"
     ]
    },
    {
     "data": {
      "image/png": "[encoded data removed]",
      "text/plain": [
       "<Figure size 432x288 with 1 Axes>"
      ]
     },
     "metadata": {
      "needs_background": "light"
     },
     "output_type": "display_data"
    },
    {
     "name": "stdout",
     "output_type": "stream",
     "text": [
      "AP=1.00\n",
      "precision=1.00, recall=0.03, f1=0.06\n",
      "2 | 60 \n",
      " 0 | 0\n",
      "iou_threshold=0.7000000000000001\n",
      "------------------------------------------------------------------------------------\n"
     ]
    },
    {
     "data": {
      "image/png": "[encoded data removed]",
      "text/plain": [
       "<Figure size 432x288 with 1 Axes>"
      ]
     },
     "metadata": {
      "needs_background": "light"
     },
     "output_type": "display_data"
    },
    {
     "name": "stdout",
     "output_type": "stream",
     "text": [
      "AP=1.00\n",
      "precision=1.00, recall=0.02, f1=0.03\n",
      "1 | 61 \n",
      " 0 | 0\n",
      "iou_threshold=0.8\n",
      "------------------------------------------------------------------------------------\n"
     ]
    }
   ],
   "source": [
    "iou_thresholds = np.arange(0.1, 0.9, 0.1)\n",
    "test_img_names = true_bbox.keys()\n",
    "precisions, recalls, f1s = [], [], []\n",
    "for iou_threshold in iou_thresholds:\n",
    "    TP,FP,FN,TN = 0,0,0,0\n",
    "    y_true   = []  # 0:無壺腹乳頭 1:有壺腹乳頭\n",
    "    y_scores = []  # ciou分數\n",
    "    for test_img_name in test_img_names:\n",
    "        if true_bbox[test_img_name] != 'nan' and pred_bbox[test_img_name] != 'nan':\n",
    "            ciou = calculate_ciou(true_bbox[test_img_name], pred_bbox[test_img_name])  # 找出真實box和預測box的iou\n",
    "            \n",
    "            if ciou>=iou_threshold:   # 如果>=iou，才是有預測到，TP會增加\n",
    "                y_true.append(1)\n",
    "                y_scores.append(ciou)\n",
    "                TP += 1\n",
    "            else:\n",
    "                y_true.append(1)\n",
    "                y_scores.append(0)\n",
    "                FN += 1               # 如果<iou，FN也會增加\n",
    "        elif true_bbox[test_img_name] != 'nan' and pred_bbox[test_img_name] == 'nan':\n",
    "            y_true.append(1)\n",
    "            y_scores.append(0)\n",
    "            FN += 1\n",
    "        elif true_bbox[test_img_name] == 'nan' and pred_bbox[test_img_name] != 'nan':\n",
    "            y_true.append(0)\n",
    "            y_scores.append(1)\n",
    "            FP += 1\n",
    "        else:\n",
    "            y_true.append(0)\n",
    "            y_scores.append(0)\n",
    "            TN += 1\n",
    "\n",
    "    \n",
    "    plt_precision_recall_curve(y_true, y_scores)\n",
    "    precision, recall, f1 = valid(TP, FN, FP, TN)\n",
    "    print('iou_threshold={}'.format(iou_threshold))\n",
    "    print(\"------------------------------------------------------------------------------------\")\n",
    "    precisions.append(precision)\n",
    "    recalls.append(recall)\n",
    "    f1s.append(f1)"
   ]
  },
  {
   "cell_type": "markdown",
   "metadata": {},
   "source": [
    "# 劃出圖"
   ]
  },
  {
   "cell_type": "code",
   "execution_count": 14,
   "metadata": {},
   "outputs": [
    {
     "data": {
      "image/png": "[encoded data removed]",
      "text/plain": [
       "<Figure size 432x288 with 1 Axes>"
      ]
     },
     "metadata": {
      "needs_background": "light"
     },
     "output_type": "display_data"
    }
   ],
   "source": [
    "x  = iou_thresholds\n",
    "y1 = precisions\n",
    "y2 = recalls\n",
    "y3 = f1s\n",
    "\n",
    "plt.plot(x, y1, 'r--*')\n",
    "plt.xlabel('iou_threshold')   \n",
    "# plt.ylabel('accuracy')  \n",
    "plt.plot(x, y2, 'b--x')     \n",
    "plt.plot(x, y3, 'g--.')     \n",
    "plt.legend(['precision','recall','f1'])\n",
    "plt.show()"
   ]
  },
  {
   "cell_type": "code",
   "execution_count": null,
   "metadata": {},
   "outputs": [],
   "source": []
  }
 ],
 "metadata": {
  "interpreter": {
   "hash": "3d0b3230cba0d6cbfd99760ee6674b1181db07b2579171d1aa41779f5a406caf"
  },
  "kernelspec": {
   "display_name": "Python 3.9.7 ('frank_env')",
   "language": "python",
   "name": "python3"
  },
  "language_info": {
   "codemirror_mode": {
    "name": "ipython",
    "version": 3
   },
   "file_extension": ".py",
   "mimetype": "text/x-python",
   "name": "python",
   "nbconvert_exporter": "python",
   "pygments_lexer": "ipython3",
   "version": "3.9.7"
  },
  "orig_nbformat": 4
 },
 "nbformat": 4,
 "nbformat_minor": 2
}
