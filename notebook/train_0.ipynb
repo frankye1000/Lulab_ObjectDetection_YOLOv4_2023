{
 "cells": [
  {
   "cell_type": "code",
   "execution_count": 1,
   "metadata": {},
   "outputs": [],
   "source": [
    "import sys\n",
    "sys.path.append(\"..\")\n",
    "\n",
    "from models import Yolov4\n",
    "from tensorflow import keras\n",
    "from config import yolo_config    # 要記得改!!!!!!\n",
    "from utils import DataGenerator, read_annotation_lines\n",
    "\n",
    "import pickle\n",
    "from glob import glob\n",
    "from tqdm.notebook import tqdm\n",
    "import matplotlib.pyplot as plt\n",
    "\n",
    "import os\n",
    "# 使用第一張 GPU 卡\n",
    "os.environ[\"CUDA_VISIBLE_DEVICES\"] = \"1\""
   ]
  },
  {
   "cell_type": "code",
   "execution_count": 2,
   "metadata": {},
   "outputs": [],
   "source": [
    "# import random\n",
    "# seed = 500\n",
    "# tf.random.set_seed(500)\n",
    "# np.random.seed(seed)\n",
    "# random.seed(seed)"
   ]
  },
  {
   "cell_type": "code",
   "execution_count": 3,
   "metadata": {},
   "outputs": [],
   "source": [
    "#1102是沒有10%背\n",
    "#1104是有10%背景\n",
    "train_lines = read_annotation_lines('../dataset/txt/20221102_anno_train_lines_0.txt')   \n",
    "val_lines   = read_annotation_lines('../dataset/txt/20221102_anno_val_lines_0.txt')"
   ]
  },
  {
   "cell_type": "code",
   "execution_count": 4,
   "metadata": {},
   "outputs": [
    {
     "name": "stderr",
     "output_type": "stream",
     "text": [
      "2023-02-15 09:03:50.080060: I tensorflow/stream_executor/cuda/cuda_gpu_executor.cc:975] successful NUMA node read from SysFS had negative value (-1), but there must be at least one NUMA node, so returning NUMA node zero\n",
      "2023-02-15 09:03:50.085602: I tensorflow/stream_executor/cuda/cuda_gpu_executor.cc:975] successful NUMA node read from SysFS had negative value (-1), but there must be at least one NUMA node, so returning NUMA node zero\n",
      "2023-02-15 09:03:50.086165: I tensorflow/stream_executor/cuda/cuda_gpu_executor.cc:975] successful NUMA node read from SysFS had negative value (-1), but there must be at least one NUMA node, so returning NUMA node zero\n",
      "2023-02-15 09:03:50.086927: I tensorflow/core/platform/cpu_feature_guard.cc:193] This TensorFlow binary is optimized with oneAPI Deep Neural Network Library (oneDNN) to use the following CPU instructions in performance-critical operations:  AVX2 FMA\n",
      "To enable them in other operations, rebuild TensorFlow with the appropriate compiler flags.\n",
      "2023-02-15 09:03:50.087675: I tensorflow/stream_executor/cuda/cuda_gpu_executor.cc:975] successful NUMA node read from SysFS had negative value (-1), but there must be at least one NUMA node, so returning NUMA node zero\n",
      "2023-02-15 09:03:50.088492: I tensorflow/stream_executor/cuda/cuda_gpu_executor.cc:975] successful NUMA node read from SysFS had negative value (-1), but there must be at least one NUMA node, so returning NUMA node zero\n",
      "2023-02-15 09:03:50.089062: I tensorflow/stream_executor/cuda/cuda_gpu_executor.cc:975] successful NUMA node read from SysFS had negative value (-1), but there must be at least one NUMA node, so returning NUMA node zero\n",
      "2023-02-15 09:03:50.488936: I tensorflow/stream_executor/cuda/cuda_gpu_executor.cc:975] successful NUMA node read from SysFS had negative value (-1), but there must be at least one NUMA node, so returning NUMA node zero\n",
      "2023-02-15 09:03:50.489361: I tensorflow/stream_executor/cuda/cuda_gpu_executor.cc:975] successful NUMA node read from SysFS had negative value (-1), but there must be at least one NUMA node, so returning NUMA node zero\n",
      "2023-02-15 09:03:50.489727: I tensorflow/stream_executor/cuda/cuda_gpu_executor.cc:975] successful NUMA node read from SysFS had negative value (-1), but there must be at least one NUMA node, so returning NUMA node zero\n",
      "2023-02-15 09:03:50.490065: I tensorflow/core/common_runtime/gpu/gpu_device.cc:1532] Created device /job:localhost/replica:0/task:0/device:GPU:0 with 10410 MB memory:  -> device: 0, name: NVIDIA GeForce GTX 1080 Ti, pci bus id: 0000:02:00.0, compute capability: 6.1\n"
     ]
    },
    {
     "name": "stdout",
     "output_type": "stream",
     "text": [
      "nms iou: 0.0 score: 0.0\n"
     ]
    },
    {
     "name": "stderr",
     "output_type": "stream",
     "text": [
      "/home/user/anaconda3/lib/python3.9/site-packages/keras/optimizers/optimizer_v2/adam.py:110: UserWarning: The `lr` argument is deprecated, use `learning_rate` instead.\n",
      "  super(Adam, self).__init__(name, **kwargs)\n"
     ]
    }
   ],
   "source": [
    "FOLDER_PATH     = '../dataset/img/20230103_train_vali_img_nosmooth'         # image位置\n",
    "class_name_path = '../class_names/classes.txt'                              # class位置\n",
    "data_gen_train  = DataGenerator(train_lines, class_name_path, FOLDER_PATH)  \n",
    "data_gen_vali   = DataGenerator(val_lines, class_name_path, FOLDER_PATH)\n",
    "\n",
    "model = Yolov4(weight_path=None, class_name_path=class_name_path)"
   ]
  },
  {
   "cell_type": "code",
   "execution_count": 5,
   "metadata": {},
   "outputs": [
    {
     "name": "stdout",
     "output_type": "stream",
     "text": [
      "訓練集數量=  381 驗證集數量=  192\n"
     ]
    }
   ],
   "source": [
    "print('訓練集數量= ', len(train_lines),'驗證集數量= ',len(val_lines))"
   ]
  },
  {
   "cell_type": "markdown",
   "metadata": {},
   "source": [
    "# 訓練自己的模型"
   ]
  },
  {
   "cell_type": "code",
   "execution_count": 6,
   "metadata": {},
   "outputs": [
    {
     "name": "stdout",
     "output_type": "stream",
     "text": [
      "Epoch 1/100\n"
     ]
    },
    {
     "name": "stderr",
     "output_type": "stream",
     "text": [
      "2023-01-03 14:39:46.961910: I tensorflow/stream_executor/cuda/cuda_dnn.cc:384] Loaded cuDNN version 8101\n",
      "2023-01-03 14:39:49.188719: W tensorflow/core/common_runtime/bfc_allocator.cc:290] Allocator (GPU_0_bfc) ran out of memory trying to allocate 1.11GiB with freed_by_count=0. The caller indicates that this is not a failure, but this may mean that there could be performance gains if more memory were available.\n",
      "2023-01-03 14:39:49.188756: W tensorflow/core/common_runtime/bfc_allocator.cc:290] Allocator (GPU_0_bfc) ran out of memory trying to allocate 177.50MiB with freed_by_count=0. The caller indicates that this is not a failure, but this may mean that there could be performance gains if more memory were available.\n",
      "2023-01-03 14:39:49.200938: W tensorflow/core/common_runtime/bfc_allocator.cc:290] Allocator (GPU_0_bfc) ran out of memory trying to allocate 2.19GiB with freed_by_count=0. The caller indicates that this is not a failure, but this may mean that there could be performance gains if more memory were available.\n",
      "2023-01-03 14:39:49.235409: W tensorflow/core/common_runtime/bfc_allocator.cc:290] Allocator (GPU_0_bfc) ran out of memory trying to allocate 1.15GiB with freed_by_count=0. The caller indicates that this is not a failure, but this may mean that there could be performance gains if more memory were available.\n"
     ]
    },
    {
     "name": "stdout",
     "output_type": "stream",
     "text": [
      "48/48 [==============================] - 39s 549ms/step - loss: 14283.4805 - val_loss: 17399.0879\n",
      "Epoch 2/100\n",
      "48/48 [==============================] - 23s 469ms/step - loss: 348.2373 - val_loss: 3056.0793\n",
      "Epoch 3/100\n",
      "48/48 [==============================] - 23s 471ms/step - loss: 247.0997 - val_loss: 1157.4971\n",
      "Epoch 4/100\n",
      "48/48 [==============================] - 23s 480ms/step - loss: 201.2520 - val_loss: 617.6611\n",
      "Epoch 5/100\n",
      "48/48 [==============================] - 52s 1s/step - loss: 173.1214 - val_loss: 429.3842\n",
      "Epoch 6/100\n",
      "48/48 [==============================] - 22s 460ms/step - loss: 154.4578 - val_loss: 300.3488\n",
      "Epoch 7/100\n",
      "48/48 [==============================] - 22s 461ms/step - loss: 139.5603 - val_loss: 250.2725\n",
      "Epoch 8/100\n",
      "48/48 [==============================] - 22s 463ms/step - loss: 132.9188 - val_loss: 197.7897\n",
      "Epoch 9/100\n",
      "48/48 [==============================] - 22s 463ms/step - loss: 127.7503 - val_loss: 165.7481\n",
      "Epoch 10/100\n",
      "48/48 [==============================] - 20s 413ms/step - loss: 120.8125 - val_loss: 176.4665\n",
      "Epoch 11/100\n",
      "48/48 [==============================] - 22s 467ms/step - loss: 115.5361 - val_loss: 122.2911\n",
      "Epoch 12/100\n",
      "48/48 [==============================] - 20s 413ms/step - loss: 116.8211 - val_loss: 128.0168\n",
      "Epoch 13/100\n",
      "48/48 [==============================] - 20s 413ms/step - loss: 106.1124 - val_loss: 223.7825\n",
      "Epoch 14/100\n",
      "48/48 [==============================] - 20s 414ms/step - loss: 108.2462 - val_loss: 192.3347\n",
      "Epoch 15/100\n",
      "48/48 [==============================] - 20s 415ms/step - loss: 105.0388 - val_loss: 145.1558\n",
      "Epoch 16/100\n",
      "48/48 [==============================] - 22s 463ms/step - loss: 100.9042 - val_loss: 117.1340\n",
      "Epoch 17/100\n",
      "48/48 [==============================] - 20s 414ms/step - loss: 96.7229 - val_loss: 169.7812\n",
      "Epoch 18/100\n",
      "48/48 [==============================] - 20s 415ms/step - loss: 90.8673 - val_loss: 155.7206\n",
      "Epoch 19/100\n",
      "48/48 [==============================] - 22s 467ms/step - loss: 86.9178 - val_loss: 115.2899\n",
      "Epoch 20/100\n",
      "48/48 [==============================] - 20s 416ms/step - loss: 82.9214 - val_loss: 127.2652\n",
      "Epoch 21/100\n",
      "48/48 [==============================] - 20s 415ms/step - loss: 84.3454 - val_loss: 204.8428\n",
      "Epoch 22/100\n",
      "48/48 [==============================] - 20s 416ms/step - loss: 81.4924 - val_loss: 247.1448\n",
      "Epoch 23/100\n",
      "48/48 [==============================] - 20s 415ms/step - loss: 75.7373 - val_loss: 122.4538\n",
      "Epoch 24/100\n",
      "48/48 [==============================] - 20s 415ms/step - loss: 72.1370 - val_loss: 146.6489\n",
      "Epoch 25/100\n",
      "48/48 [==============================] - 20s 415ms/step - loss: 70.1366 - val_loss: 399.9094\n",
      "Epoch 26/100\n",
      "48/48 [==============================] - 20s 415ms/step - loss: 71.1939 - val_loss: 176.1124\n",
      "Epoch 27/100\n",
      "48/48 [==============================] - 20s 413ms/step - loss: 64.5963 - val_loss: 134.6025\n",
      "Epoch 28/100\n",
      "48/48 [==============================] - 20s 416ms/step - loss: 57.4123 - val_loss: 171.2191\n",
      "Epoch 29/100\n",
      "48/48 [==============================] - 20s 414ms/step - loss: 62.7022 - val_loss: 171.7099\n",
      "Epoch 30/100\n",
      "48/48 [==============================] - 22s 467ms/step - loss: 57.1810 - val_loss: 106.4571\n",
      "Epoch 31/100\n",
      "48/48 [==============================] - 20s 415ms/step - loss: 60.2916 - val_loss: 203.9970\n",
      "Epoch 32/100\n",
      "48/48 [==============================] - 20s 415ms/step - loss: 58.3609 - val_loss: 402.0755\n",
      "Epoch 33/100\n",
      "48/48 [==============================] - 20s 417ms/step - loss: 56.7117 - val_loss: 134.6876\n",
      "Epoch 34/100\n",
      "48/48 [==============================] - 20s 415ms/step - loss: 51.7298 - val_loss: 162.4808\n",
      "Epoch 35/100\n",
      "48/48 [==============================] - 20s 414ms/step - loss: 53.0636 - val_loss: 173.4105\n",
      "Epoch 36/100\n",
      "48/48 [==============================] - 20s 414ms/step - loss: 45.3716 - val_loss: 140.0703\n",
      "Epoch 37/100\n",
      "48/48 [==============================] - 20s 416ms/step - loss: 43.3659 - val_loss: 148.0072\n",
      "Epoch 38/100\n",
      "48/48 [==============================] - 20s 415ms/step - loss: 45.8801 - val_loss: 175.6489\n",
      "Epoch 39/100\n",
      "48/48 [==============================] - 20s 414ms/step - loss: 40.5701 - val_loss: 139.2761\n",
      "Epoch 40/100\n",
      "48/48 [==============================] - 20s 414ms/step - loss: 37.9780 - val_loss: 176.4191\n",
      "Epoch 41/100\n",
      "48/48 [==============================] - 20s 416ms/step - loss: 40.3434 - val_loss: 208.4805\n",
      "Epoch 42/100\n",
      "48/48 [==============================] - 20s 420ms/step - loss: 38.6774 - val_loss: 184.6041\n",
      "Epoch 43/100\n",
      "48/48 [==============================] - 20s 417ms/step - loss: 46.4955 - val_loss: 285.1384\n",
      "Epoch 44/100\n",
      "48/48 [==============================] - 20s 415ms/step - loss: 30.7478 - val_loss: 128.3154\n",
      "Epoch 45/100\n",
      "48/48 [==============================] - 20s 416ms/step - loss: 28.0404 - val_loss: 147.3809\n",
      "Epoch 46/100\n",
      "48/48 [==============================] - 20s 414ms/step - loss: 32.8281 - val_loss: 231.4212\n",
      "Epoch 47/100\n",
      "48/48 [==============================] - 20s 416ms/step - loss: 30.4319 - val_loss: 172.8533\n",
      "Epoch 48/100\n",
      "48/48 [==============================] - 20s 415ms/step - loss: 28.0616 - val_loss: 218.4678\n",
      "Epoch 49/100\n",
      "48/48 [==============================] - 20s 414ms/step - loss: 49.1754 - val_loss: 294.5167\n",
      "Epoch 50/100\n",
      "48/48 [==============================] - 20s 417ms/step - loss: 33.8886 - val_loss: 162.6425\n",
      "Epoch 51/100\n",
      "48/48 [==============================] - 20s 415ms/step - loss: 34.8621 - val_loss: 208.9157\n",
      "Epoch 52/100\n",
      "48/48 [==============================] - 20s 414ms/step - loss: 27.1661 - val_loss: 236.3264\n",
      "Epoch 53/100\n",
      "48/48 [==============================] - 20s 415ms/step - loss: 24.6560 - val_loss: 232.1550\n",
      "Epoch 54/100\n",
      "48/48 [==============================] - 20s 416ms/step - loss: 28.1524 - val_loss: 192.8236\n",
      "Epoch 55/100\n",
      "48/48 [==============================] - 20s 415ms/step - loss: 58.4656 - val_loss: 428.8951\n",
      "Epoch 56/100\n",
      "48/48 [==============================] - 20s 416ms/step - loss: 37.7565 - val_loss: 193.5437\n",
      "Epoch 57/100\n",
      "48/48 [==============================] - 20s 417ms/step - loss: 34.7518 - val_loss: 275.1689\n",
      "Epoch 58/100\n",
      "48/48 [==============================] - 20s 414ms/step - loss: 67.7432 - val_loss: nan\n",
      "Epoch 59/100\n",
      "48/48 [==============================] - 20s 415ms/step - loss: 52.7880 - val_loss: 327.9084\n",
      "Epoch 60/100\n",
      "48/48 [==============================] - 20s 415ms/step - loss: 44.0899 - val_loss: 234.1207\n",
      "Epoch 61/100\n",
      "48/48 [==============================] - 20s 416ms/step - loss: 36.3379 - val_loss: 170.7378\n",
      "Epoch 62/100\n",
      "48/48 [==============================] - 20s 416ms/step - loss: 29.5664 - val_loss: 247.8184\n",
      "Epoch 63/100\n",
      "48/48 [==============================] - 20s 418ms/step - loss: 30.1210 - val_loss: 168.2715\n",
      "Epoch 64/100\n",
      "48/48 [==============================] - 20s 417ms/step - loss: 28.6565 - val_loss: 179.0009\n",
      "Epoch 65/100\n",
      "48/48 [==============================] - 20s 413ms/step - loss: 24.1127 - val_loss: 225.0605\n",
      "Epoch 66/100\n",
      "48/48 [==============================] - 20s 413ms/step - loss: 23.4159 - val_loss: 200.9350\n",
      "Epoch 67/100\n",
      "48/48 [==============================] - 20s 415ms/step - loss: 20.7976 - val_loss: 180.8110\n",
      "Epoch 68/100\n",
      "48/48 [==============================] - 20s 414ms/step - loss: 14.4880 - val_loss: 183.8668\n",
      "Epoch 69/100\n",
      "48/48 [==============================] - 20s 414ms/step - loss: 14.0222 - val_loss: 214.3676\n",
      "Epoch 70/100\n",
      "48/48 [==============================] - 20s 416ms/step - loss: 21.4588 - val_loss: 288.0365\n",
      "Epoch 71/100\n",
      "48/48 [==============================] - 20s 414ms/step - loss: 18.3050 - val_loss: 300.9806\n",
      "Epoch 72/100\n",
      "48/48 [==============================] - 20s 414ms/step - loss: 16.2347 - val_loss: 281.1004\n",
      "Epoch 73/100\n",
      "48/48 [==============================] - 20s 414ms/step - loss: 16.9428 - val_loss: 252.1326\n",
      "Epoch 74/100\n",
      "48/48 [==============================] - 20s 414ms/step - loss: 14.5945 - val_loss: 274.9023\n",
      "Epoch 75/100\n",
      "48/48 [==============================] - 20s 414ms/step - loss: 19.6381 - val_loss: 243.6279\n",
      "Epoch 76/100\n",
      "48/48 [==============================] - 20s 415ms/step - loss: 17.1582 - val_loss: 270.9213\n",
      "Epoch 77/100\n",
      "48/48 [==============================] - 20s 415ms/step - loss: 11.8635 - val_loss: 312.6625\n",
      "Epoch 78/100\n",
      "48/48 [==============================] - 20s 414ms/step - loss: 11.6789 - val_loss: 285.9765\n",
      "Epoch 79/100\n",
      "48/48 [==============================] - 20s 418ms/step - loss: 11.4538 - val_loss: 395.0107\n",
      "Epoch 80/100\n",
      "48/48 [==============================] - 20s 414ms/step - loss: 13.4888 - val_loss: 296.3958\n",
      "Epoch 81/100\n",
      "48/48 [==============================] - 20s 415ms/step - loss: 10.6489 - val_loss: 246.1019\n",
      "Epoch 82/100\n",
      "48/48 [==============================] - 20s 414ms/step - loss: 9.2196 - val_loss: 332.7939\n",
      "Epoch 83/100\n",
      "48/48 [==============================] - 20s 417ms/step - loss: 9.2396 - val_loss: 270.6176\n",
      "Epoch 84/100\n",
      "48/48 [==============================] - 20s 414ms/step - loss: 12.5918 - val_loss: 285.0569\n",
      "Epoch 85/100\n",
      "48/48 [==============================] - 20s 414ms/step - loss: 8.8437 - val_loss: 262.1435\n",
      "Epoch 86/100\n",
      "48/48 [==============================] - 20s 415ms/step - loss: 8.4919 - val_loss: 275.5006\n",
      "Epoch 87/100\n",
      "48/48 [==============================] - 20s 416ms/step - loss: 14.1422 - val_loss: 378.5697\n",
      "Epoch 88/100\n",
      "48/48 [==============================] - 20s 416ms/step - loss: 7.8091 - val_loss: 299.4837\n",
      "Epoch 89/100\n",
      "48/48 [==============================] - 20s 415ms/step - loss: 5.6684 - val_loss: 321.2079\n",
      "Epoch 90/100\n",
      "48/48 [==============================] - 20s 415ms/step - loss: 6.4783 - val_loss: 367.6065\n",
      "Epoch 91/100\n",
      "48/48 [==============================] - 20s 414ms/step - loss: 9.4373 - val_loss: 398.0224\n",
      "Epoch 92/100\n",
      "48/48 [==============================] - 20s 415ms/step - loss: 8.1790 - val_loss: 442.3202\n",
      "Epoch 93/100\n",
      "48/48 [==============================] - 20s 413ms/step - loss: 7.5789 - val_loss: 394.8772\n",
      "Epoch 94/100\n",
      "48/48 [==============================] - 20s 414ms/step - loss: 23.7172 - val_loss: 248.6775\n",
      "Epoch 95/100\n",
      "48/48 [==============================] - 20s 413ms/step - loss: 24.2461 - val_loss: 220.5075\n",
      "Epoch 96/100\n",
      "48/48 [==============================] - 20s 414ms/step - loss: 10.5371 - val_loss: 326.2429\n",
      "Epoch 97/100\n",
      "48/48 [==============================] - 20s 415ms/step - loss: 6.9803 - val_loss: 329.9513\n",
      "Epoch 98/100\n",
      "48/48 [==============================] - 20s 414ms/step - loss: 6.0320 - val_loss: 348.6891\n",
      "Epoch 99/100\n",
      "48/48 [==============================] - 20s 414ms/step - loss: 13.0790 - val_loss: 335.6966\n",
      "Epoch 100/100\n",
      "48/48 [==============================] - 20s 414ms/step - loss: 73.1400 - val_loss: nan\n"
     ]
    }
   ],
   "source": [
    "# class LossHistory(keras.callbacks.Callback):\n",
    "#     def on_train_begin(self, logs={}):\n",
    "#         self.losses = []\n",
    "        \n",
    "#     def on_batch_end(self, batch, logs={}):\n",
    "#         self.losses.append(logs.get('loss'))\n",
    "\n",
    "# history = LossHistory()\n",
    "''''''''''''''''''''''''''''''''''''''\n",
    "day = '20230103'\n",
    "checkpoint_filepath = '../model/202301/{}_nosmooth.weights'.format(day)\n",
    "val_loss_checkpoint_callback = keras.callbacks.ModelCheckpoint(\n",
    "    filepath=checkpoint_filepath,\n",
    "    save_weights_only=True,\n",
    "    monitor='val_loss',\n",
    "    mode='min',\n",
    "    save_best_only=True)\n",
    "\n",
    "## TODO:\n",
    "val_mAP_checkpoint_callback = keras.callbacks.ModelCheckpoint(\n",
    "    filepath=checkpoint_filepath,\n",
    "    # save_weights_only=True,\n",
    "    monitor='auc',\n",
    "    mode='max',\n",
    "    save_best_only=True\n",
    "    )\n",
    "\n",
    "\n",
    "callbacks = [val_loss_checkpoint_callback, \n",
    "            #  val_mAP_checkpoint_callback\n",
    "            ]\n",
    "            \n",
    "epochs    = 100\n",
    "his = model.fit(train_data_gen=data_gen_train, \n",
    "                initial_epoch = 0,\n",
    "                epochs       = epochs, \n",
    "                val_data_gen = data_gen_vali,\n",
    "                callbacks    = callbacks,\n",
    "          )"
   ]
  },
  {
   "cell_type": "markdown",
   "metadata": {},
   "source": [
    "# 畫圖"
   ]
  },
  {
   "cell_type": "code",
   "execution_count": 7,
   "metadata": {},
   "outputs": [],
   "source": [
    "loss     = his.history['loss']\n",
    "val_loss = his.history['val_loss']"
   ]
  },
  {
   "cell_type": "code",
   "execution_count": 8,
   "metadata": {},
   "outputs": [
    {
     "data": {
      "image/png": "[encoded data removed]",
      "text/plain": [
       "<Figure size 2400x400 with 1 Axes>"
      ]
     },
     "metadata": {},
     "output_type": "display_data"
    }
   ],
   "source": [
    "x = [i for i in range(1, epochs+1)]\n",
    "\n",
    "min_valloss_x = val_loss.index(min(val_loss)) + 1\n",
    "min_valloss_y = min(val_loss)\n",
    "\n",
    "plt.figure(figsize=(24,4))\n",
    "plt.plot(x, loss, 'r')     \n",
    "plt.plot(x, val_loss, 'b')     # red dotted line (no marker)\n",
    "\n",
    "plt.plot(min_valloss_x, min_valloss_y, 'd', color='g')\n",
    "plt.text(min_valloss_x, min_valloss_y, \"({},{})\".format(min_valloss_x,round(min_valloss_y,1)), ha='left',va='top',fontsize=20)\n",
    "\n",
    "plt.legend(['loss','val_loss'])\n",
    "plt.ylim((0, 1000))\n",
    "plt.xlabel('epoch')\n",
    "plt.ylabel('loss')\n",
    "plt.title('loss')\n",
    "plt.savefig('../model/202301/{}_loss.png'.format(day),\n",
    "            bbox_inches='tight',\n",
    "            pad_inches=1,\n",
    "            transparent=False)\n",
    "plt.show()"
   ]
  },
  {
   "cell_type": "code",
   "execution_count": 9,
   "metadata": {},
   "outputs": [],
   "source": [
    "with open('../model/202301/{}_val_loss.list'.format(day),'wb') as f:\n",
    "    pickle.dump(val_loss,f) "
   ]
  },
  {
   "cell_type": "code",
   "execution_count": 10,
   "metadata": {},
   "outputs": [],
   "source": [
    "with open('../model/202301/{}_loss.list'.format(day),'wb') as f:\n",
    "    pickle.dump(loss,f) "
   ]
  },
  {
   "cell_type": "code",
   "execution_count": 11,
   "metadata": {},
   "outputs": [
    {
     "name": "stderr",
     "output_type": "stream",
     "text": [
      "WARNING:absl:Found untraced functions such as _jit_compiled_convolution_op, _jit_compiled_convolution_op, _jit_compiled_convolution_op, _jit_compiled_convolution_op, _jit_compiled_convolution_op while saving (showing 5 of 110). These functions will not be directly callable after loading.\n"
     ]
    },
    {
     "name": "stdout",
     "output_type": "stream",
     "text": [
      "INFO:tensorflow:Assets written to: ram://4c8090fc-f775-4825-a0f9-e4a10347e0ee/assets\n"
     ]
    },
    {
     "name": "stderr",
     "output_type": "stream",
     "text": [
      "INFO:tensorflow:Assets written to: ram://4c8090fc-f775-4825-a0f9-e4a10347e0ee/assets\n"
     ]
    }
   ],
   "source": [
    "with open('../model/202301/{}_loss.his'.format(day),'wb') as f:\n",
    "    pickle.dump(his,f) "
   ]
  },
  {
   "cell_type": "code",
   "execution_count": null,
   "metadata": {},
   "outputs": [],
   "source": []
  },
  {
   "cell_type": "code",
   "execution_count": null,
   "metadata": {},
   "outputs": [],
   "source": []
  }
 ],
 "metadata": {
  "colab": {
   "authorship_tag": "ABX9TyOi+1wkzoRXzgNQN7U2NBPg",
   "default_view": {},
   "name": "Untitled",
   "provenance": [],
   "views": {}
  },
  "kernelspec": {
   "display_name": "base",
   "language": "python",
   "name": "python3"
  },
  "language_info": {
   "codemirror_mode": {
    "name": "ipython",
    "version": 3
   },
   "file_extension": ".py",
   "mimetype": "text/x-python",
   "name": "python",
   "nbconvert_exporter": "python",
   "pygments_lexer": "ipython3",
   "version": "3.9.13"
  },
  "vscode": {
   "interpreter": {
    "hash": "1448b48b023bcc9c3d4a79e814720a10ca6d4244f75e0f7ce4af58f96ba2b7d3"
   }
  }
 },
 "nbformat": 4,
 "nbformat_minor": 4
}
