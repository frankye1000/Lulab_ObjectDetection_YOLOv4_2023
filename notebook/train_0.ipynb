{
 "cells": [
  {
   "cell_type": "code",
   "execution_count": null,
   "metadata": {},
   "outputs": [],
   "source": [
    "import sys\n",
    "sys.path.append(\"..\")\n",
    "\n",
    "from models import Yolov4\n",
    "from tensorflow import keras\n",
    "from config import yolo_config    # 要記得改!!!!!!\n",
    "from utils import DataGenerator, read_annotation_lines\n",
    "\n",
    "import pickle\n",
    "from glob import glob\n",
    "from tqdm.notebook import tqdm\n",
    "import matplotlib.pyplot as plt\n",
    "\n",
    "import os\n",
    "# 使用第一張 GPU 卡\n",
    "os.environ[\"CUDA_VISIBLE_DEVICES\"] = \"1\""
   ]
  },
  {
   "cell_type": "code",
   "execution_count": null,
   "metadata": {},
   "outputs": [],
   "source": [
    "# import random\n",
    "# seed = 500\n",
    "# tf.random.set_seed(500)\n",
    "# np.random.seed(seed)\n",
    "# random.seed(seed)"
   ]
  },
  {
   "cell_type": "code",
   "execution_count": null,
   "metadata": {},
   "outputs": [],
   "source": [
    "#22 1102是沒有10%背\n",
    "#22 1104是有10%背景\n",
    "\n",
    "#186 0330是沒有10%背\n",
    "#186 0331是有10%背景\n",
    "train_lines = read_annotation_lines('../dataset/txt/20230331_anno_train_lines_0.txt')   \n",
    "val_lines   = read_annotation_lines('../dataset/txt/20230331_anno_val_lines_0.txt')"
   ]
  },
  {
   "cell_type": "code",
   "execution_count": null,
   "metadata": {},
   "outputs": [],
   "source": [
    "FOLDER_PATH     = '../dataset/img/20230331_train_vali_img_sopbox_0'         # image位置\n",
    "class_name_path = '../class_names/classes.txt'                              # class位置\n",
    "data_gen_train  = DataGenerator(train_lines, class_name_path, FOLDER_PATH)  \n",
    "data_gen_vali   = DataGenerator(val_lines, class_name_path, FOLDER_PATH)\n",
    "\n",
    "model = Yolov4(weight_path=None, class_name_path=class_name_path)"
   ]
  },
  {
   "cell_type": "code",
   "execution_count": null,
   "metadata": {},
   "outputs": [],
   "source": [
    "print('訓練集數量= ', len(train_lines),'驗證集數量= ',len(val_lines))"
   ]
  },
  {
   "cell_type": "markdown",
   "metadata": {},
   "source": [
    "# 訓練自己的模型"
   ]
  },
  {
   "cell_type": "code",
   "execution_count": null,
   "metadata": {},
   "outputs": [],
   "source": [
    "# class LossHistory(keras.callbacks.Callback):\n",
    "#     def on_train_begin(self, logs={}):\n",
    "#         self.losses = []\n",
    "        \n",
    "#     def on_batch_end(self, batch, logs={}):\n",
    "#         self.losses.append(logs.get('loss'))\n",
    "\n",
    "# history = LossHistory()\n",
    "''''''''''''''''''''''''''''''''''''''\n",
    "day = '20230404'\n",
    "checkpoint_filepath = '../model/202303/{}_sopbox_0.weights'.format(day)\n",
    "val_loss_checkpoint_callback = keras.callbacks.ModelCheckpoint(\n",
    "    filepath=checkpoint_filepath,\n",
    "    save_weights_only=True,\n",
    "    monitor='val_loss',\n",
    "    mode='min',\n",
    "    save_best_only=True)\n",
    "\n",
    "## TODO:\n",
    "val_mAP_checkpoint_callback = keras.callbacks.ModelCheckpoint(\n",
    "    filepath=checkpoint_filepath,\n",
    "    # save_weights_only=True,\n",
    "    monitor='auc',\n",
    "    mode='max',\n",
    "    save_best_only=True\n",
    "    )\n",
    "\n",
    "\n",
    "callbacks = [val_loss_checkpoint_callback, \n",
    "            #  val_mAP_checkpoint_callback\n",
    "            ]\n",
    "            \n",
    "epochs    = 5\n",
    "his = model.fit(train_data_gen=data_gen_train, \n",
    "                initial_epoch = 0,\n",
    "                epochs       = epochs, \n",
    "                val_data_gen = data_gen_vali,\n",
    "                callbacks    = callbacks,\n",
    "          )"
   ]
  },
  {
   "cell_type": "markdown",
   "metadata": {},
   "source": [
    "# 畫圖"
   ]
  },
  {
   "cell_type": "code",
   "execution_count": null,
   "metadata": {},
   "outputs": [],
   "source": [
    "loss     = his.history['loss']\n",
    "val_loss = his.history['val_loss']"
   ]
  },
  {
   "cell_type": "code",
   "execution_count": null,
   "metadata": {},
   "outputs": [],
   "source": [
    "x = [i for i in range(1, epochs+1)]\n",
    "\n",
    "min_valloss_x = val_loss.index(min(val_loss)) + 1\n",
    "min_valloss_y = min(val_loss)\n",
    "\n",
    "plt.figure(figsize=(24,4))\n",
    "plt.plot(x, loss, 'r')     \n",
    "plt.plot(x, val_loss, 'b')     # red dotted line (no marker)\n",
    "\n",
    "plt.plot(min_valloss_x, min_valloss_y, 'd', color='g')\n",
    "plt.text(min_valloss_x, min_valloss_y, \"({},{})\".format(min_valloss_x,round(min_valloss_y,1)), ha='left',va='top',fontsize=20)\n",
    "\n",
    "plt.legend(['loss','val_loss'])\n",
    "plt.ylim((0, 1000))\n",
    "plt.xlabel('epoch')\n",
    "plt.ylabel('loss')\n",
    "plt.title('loss')\n",
    "plt.savefig('../model/202302/{}_loss.png'.format(day),\n",
    "            bbox_inches='tight',\n",
    "            pad_inches=1,\n",
    "            transparent=False)\n",
    "plt.show()"
   ]
  },
  {
   "cell_type": "code",
   "execution_count": null,
   "metadata": {},
   "outputs": [],
   "source": [
    "with open('../model/202303/{}_val_loss.list'.format(day),'wb') as f:\n",
    "    pickle.dump(val_loss,f) "
   ]
  },
  {
   "cell_type": "code",
   "execution_count": null,
   "metadata": {},
   "outputs": [],
   "source": [
    "with open('../model/202303/{}_loss.list'.format(day),'wb') as f:\n",
    "    pickle.dump(loss,f) "
   ]
  },
  {
   "cell_type": "code",
   "execution_count": null,
   "metadata": {},
   "outputs": [],
   "source": [
    "with open('../model/202303/{}_loss.his'.format(day),'wb') as f:\n",
    "    pickle.dump(his,f) "
   ]
  },
  {
   "cell_type": "code",
   "execution_count": null,
   "metadata": {},
   "outputs": [],
   "source": []
  },
  {
   "cell_type": "code",
   "execution_count": null,
   "metadata": {},
   "outputs": [],
   "source": []
  }
 ],
 "metadata": {
  "colab": {
   "authorship_tag": "ABX9TyOi+1wkzoRXzgNQN7U2NBPg",
   "default_view": {},
   "name": "Untitled",
   "provenance": [],
   "views": {}
  },
  "kernelspec": {
   "display_name": "base",
   "language": "python",
   "name": "python3"
  },
  "language_info": {
   "codemirror_mode": {
    "name": "ipython",
    "version": 3
   },
   "file_extension": ".py",
   "mimetype": "text/x-python",
   "name": "python",
   "nbconvert_exporter": "python",
   "pygments_lexer": "ipython3",
   "version": "3.9.13"
  },
  "vscode": {
   "interpreter": {
    "hash": "1448b48b023bcc9c3d4a79e814720a10ca6d4244f75e0f7ce4af58f96ba2b7d3"
   }
  }
 },
 "nbformat": 4,
 "nbformat_minor": 4
}
