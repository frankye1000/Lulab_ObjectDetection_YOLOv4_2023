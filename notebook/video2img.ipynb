{
 "cells": [
  {
   "cell_type": "code",
   "execution_count": 2,
   "metadata": {},
   "outputs": [],
   "source": [
    "import cv2 as cv\n",
    "import numpy as np\n",
    "from matplotlib import pyplot as plt"
   ]
  },
  {
   "cell_type": "code",
   "execution_count": 4,
   "metadata": {},
   "outputs": [
    {
     "name": "stdout",
     "output_type": "stream",
     "text": [
      "43771 30.0 1459.0333333333333\n"
     ]
    }
   ],
   "source": [
    "path = \"../../../video/ERCP_video/video/q.mp4\"\n",
    "cap = cv.VideoCapture(path)\n",
    "\n",
    "total_frames = int(cap.get(cv.CAP_PROP_FRAME_COUNT))\n",
    "fps          = cap.get(cv.CAP_PROP_FPS)\n",
    "duration     = total_frames / fps\n",
    "print(total_frames, fps, duration)\n",
    "\n",
    "\n",
    "# start time\n",
    "min  = 0\n",
    "sec  = 0\n",
    "msec = 0\n",
    "starttime = min*60*1000 + sec*1000 + msec\n",
    "\n",
    "# end time\n",
    "min  = 1\n",
    "sec  = 25\n",
    "msec = 0\n",
    "endtime = min*60*1000 + sec*1000 + msec\n",
    "\n",
    "# interval(sec)\n",
    "interval = int((endtime-starttime)/1000)\n",
    "\n",
    "\n",
    "while cap.isOpened():\n",
    "    for i in range(1,interval+1):                                  # 間隔單位:秒\n",
    "        cap.set(cv.CAP_PROP_POS_MSEC, starttime + 1000*i)        # 設定影片開始時間 & 截圖間隔時間 \n",
    "        success, image = cap.read()\n",
    "        cv.imwrite('../../img/temp_raw_1s/q--{}.png'.format(i+70), image)\n",
    "    break\n",
    "cap.release()"
   ]
  },
  {
   "cell_type": "code",
   "execution_count": null,
   "metadata": {},
   "outputs": [],
   "source": []
  }
 ],
 "metadata": {
  "kernelspec": {
   "display_name": "Python 3.8.15 ('frank_env')",
   "language": "python",
   "name": "python3"
  },
  "language_info": {
   "codemirror_mode": {
    "name": "ipython",
    "version": 3
   },
   "file_extension": ".py",
   "mimetype": "text/x-python",
   "name": "python",
   "nbconvert_exporter": "python",
   "pygments_lexer": "ipython3",
   "version": "3.8.15 (default, Nov  4 2022, 20:59:55) \n[GCC 11.2.0]"
  },
  "orig_nbformat": 4,
  "vscode": {
   "interpreter": {
    "hash": "186928b476312faa2886f88cba9898be6397e6ee33a644c7aadc123a329b2f69"
   }
  }
 },
 "nbformat": 4,
 "nbformat_minor": 2
}
