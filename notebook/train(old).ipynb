{
 "cells": [
  {
   "cell_type": "code",
   "execution_count": null,
   "metadata": {},
   "outputs": [],
   "source": [
    "import sys\n",
    "sys.path.append(\"..\")\n",
    "\n",
    "from models import Yolov4\n",
    "from tensorflow import keras\n",
    "from config import yolo_config\n",
    "from utils import DataGenerator, read_annotation_lines\n",
    "\n",
    "from glob import glob\n",
    "from tqdm.notebook import tqdm\n",
    "import matplotlib.pyplot as plt\n",
    "\n",
    "import os\n",
    "# 使用第二張 GPU 卡\n",
    "os.environ[\"CUDA_VISIBLE_DEVICES\"] = \"1\""
   ]
  },
  {
   "cell_type": "code",
   "execution_count": null,
   "metadata": {},
   "outputs": [],
   "source": [
    "train_lines, val_lines = read_annotation_lines('../dataset/txt/anno_bigbox.txt', test_size=0.1)\n",
    "FOLDER_PATH     = '../dataset/img_bigbox' \n",
    "class_name_path = '../class_names/classes.txt'\n",
    "data_gen_train  = DataGenerator(train_lines, class_name_path, FOLDER_PATH)\n",
    "data_gen_val    = DataGenerator(val_lines, class_name_path, FOLDER_PATH)\n",
    "\n",
    "model = Yolov4(weight_path=None, class_name_path=class_name_path)"
   ]
  },
  {
   "cell_type": "code",
   "execution_count": null,
   "metadata": {},
   "outputs": [],
   "source": []
  },
  {
   "cell_type": "markdown",
   "metadata": {},
   "source": [
    "# 訓練自己的模型"
   ]
  },
  {
   "cell_type": "code",
   "execution_count": null,
   "metadata": {},
   "outputs": [],
   "source": [
    "# class LossHistory(keras.callbacks.Callback):\n",
    "#     def on_train_begin(self, logs={}):\n",
    "#         self.losses = []\n",
    "        \n",
    "#     def on_batch_end(self, batch, logs={}):\n",
    "#         self.losses.append(logs.get('loss'))\n",
    "\n",
    "# history = LossHistory()\n",
    "''''''''''''''''''''''''''''''''''''''\n",
    "checkpoint_filepath = '../model/20220704_big.weights'\n",
    "model_checkpoint_callback = keras.callbacks.ModelCheckpoint(\n",
    "    filepath=checkpoint_filepath,\n",
    "    save_weights_only=True,\n",
    "    monitor='val_loss',\n",
    "    mode='min',\n",
    "    save_best_only=True)\n",
    "\n",
    "\n",
    "\n",
    "epochs  = 1000\n",
    "his = model.fit(data_gen_train, \n",
    "          initial_epoch=0,\n",
    "          epochs=epochs, \n",
    "          val_data_gen=data_gen_val,\n",
    "          callbacks=[model_checkpoint_callback],\n",
    "          )"
   ]
  },
  {
   "cell_type": "code",
   "execution_count": null,
   "metadata": {},
   "outputs": [],
   "source": [
    "x = [i for i in range(1, epochs+1)]\n",
    "loss     = his.history['loss']\n",
    "val_loss = his.history['val_loss']\n",
    "\n",
    "plt.plot(x, loss, 'r')     \n",
    "plt.plot(x, val_loss, 'b')     # red dotted line (no marker)\n",
    "plt.legend(['loss','val_loss'])\n",
    "plt.xlabel('epoch')\n",
    "plt.ylabel('loss')\n",
    "plt.title(r'loss')\n",
    "plt.show()"
   ]
  },
  {
   "cell_type": "code",
   "execution_count": null,
   "metadata": {},
   "outputs": [],
   "source": []
  }
 ],
 "metadata": {
  "colab": {
   "authorship_tag": "ABX9TyOi+1wkzoRXzgNQN7U2NBPg",
   "default_view": {},
   "name": "Untitled",
   "provenance": [],
   "views": {}
  },
  "interpreter": {
   "hash": "3d0b3230cba0d6cbfd99760ee6674b1181db07b2579171d1aa41779f5a406caf"
  },
  "kernelspec": {
   "display_name": "Python 3.9.7 ('frank_env')",
   "language": "python",
   "name": "python3"
  },
  "language_info": {
   "codemirror_mode": {
    "name": "ipython",
    "version": 3
   },
   "file_extension": ".py",
   "mimetype": "text/x-python",
   "name": "python",
   "nbconvert_exporter": "python",
   "pygments_lexer": "ipython3",
   "version": "3.9.7"
  }
 },
 "nbformat": 4,
 "nbformat_minor": 4
}
