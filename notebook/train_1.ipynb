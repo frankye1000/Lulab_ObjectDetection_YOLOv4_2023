{
 "cells": [
  {
   "cell_type": "code",
   "execution_count": 1,
   "metadata": {},
   "outputs": [],
   "source": [
    "import sys\n",
    "sys.path.append(\"..\")\n",
    "\n",
    "from models import Yolov4\n",
    "from tensorflow import keras\n",
    "from config import yolo_config    # 要記得改!!!!!!\n",
    "from utils import DataGenerator, read_annotation_lines\n",
    "\n",
    "import pickle\n",
    "from glob import glob\n",
    "from tqdm.notebook import tqdm\n",
    "import matplotlib.pyplot as plt\n",
    "\n",
    "import os\n",
    "# 使用第一張 GPU 卡\n",
    "os.environ[\"CUDA_VISIBLE_DEVICES\"] = \"1\""
   ]
  },
  {
   "cell_type": "code",
   "execution_count": 2,
   "metadata": {},
   "outputs": [],
   "source": [
    "# import random\n",
    "# seed = 500\n",
    "# tf.random.set_seed(500)\n",
    "# np.random.seed(seed)\n",
    "# random.seed(seed)"
   ]
  },
  {
   "cell_type": "code",
   "execution_count": 3,
   "metadata": {},
   "outputs": [],
   "source": [
    "#1102是沒有10%背\n",
    "#1104是有10%背景\n",
    "train_lines = read_annotation_lines('../dataset/txt/20221104_anno_train_lines_0.txt')   \n",
    "val_lines   = read_annotation_lines('../dataset/txt/20221104_anno_val_lines_0.txt')"
   ]
  },
  {
   "cell_type": "code",
   "execution_count": 7,
   "metadata": {},
   "outputs": [
    {
     "name": "stdout",
     "output_type": "stream",
     "text": [
      "nms iou: 0.6 score: 0.6\n"
     ]
    }
   ],
   "source": [
    "FOLDER_PATH     = '../dataset/img/20230104_train_vali_img_nosmooth_haveBG'         # image位置\n",
    "class_name_path = '../class_names/classes.txt'                              # class位置\n",
    "data_gen_train  = DataGenerator(train_lines, class_name_path, FOLDER_PATH)  \n",
    "data_gen_vali   = DataGenerator(val_lines, class_name_path, FOLDER_PATH)\n",
    "\n",
    "model = Yolov4(weight_path=None, class_name_path=class_name_path)"
   ]
  },
  {
   "cell_type": "code",
   "execution_count": 8,
   "metadata": {},
   "outputs": [
    {
     "name": "stdout",
     "output_type": "stream",
     "text": [
      "訓練集數量=  422 驗證集數量=  192\n"
     ]
    }
   ],
   "source": [
    "print('訓練集數量= ', len(train_lines),'驗證集數量= ',len(val_lines))"
   ]
  },
  {
   "cell_type": "markdown",
   "metadata": {},
   "source": [
    "# 訓練自己的模型"
   ]
  },
  {
   "cell_type": "code",
   "execution_count": 9,
   "metadata": {},
   "outputs": [
    {
     "name": "stdout",
     "output_type": "stream",
     "text": [
      "Epoch 1/100\n"
     ]
    },
    {
     "name": "stderr",
     "output_type": "stream",
     "text": [
      "2023-01-03 15:19:23.175610: I tensorflow/stream_executor/cuda/cuda_dnn.cc:384] Loaded cuDNN version 8101\n",
      "2023-01-03 15:19:24.245726: W tensorflow/core/common_runtime/bfc_allocator.cc:290] Allocator (GPU_0_bfc) ran out of memory trying to allocate 2.19GiB with freed_by_count=0. The caller indicates that this is not a failure, but this may mean that there could be performance gains if more memory were available.\n"
     ]
    },
    {
     "name": "stdout",
     "output_type": "stream",
     "text": [
      "53/53 [==============================] - 37s 494ms/step - loss: 13093.1611 - val_loss: 24607.7441\n",
      "Epoch 2/100\n",
      "53/53 [==============================] - 24s 455ms/step - loss: 319.1387 - val_loss: 5208.7202\n",
      "Epoch 3/100\n",
      "53/53 [==============================] - 24s 449ms/step - loss: 232.7547 - val_loss: 1978.8346\n",
      "Epoch 4/100\n",
      "53/53 [==============================] - 24s 452ms/step - loss: 188.6609 - val_loss: 927.0858\n",
      "Epoch 5/100\n",
      "53/53 [==============================] - 24s 451ms/step - loss: 165.5403 - val_loss: 859.6635\n",
      "Epoch 6/100\n",
      "53/53 [==============================] - 24s 451ms/step - loss: 148.8112 - val_loss: 466.7723\n",
      "Epoch 7/100\n",
      "53/53 [==============================] - 24s 449ms/step - loss: 133.5535 - val_loss: 250.4920\n",
      "Epoch 8/100\n",
      "53/53 [==============================] - 24s 446ms/step - loss: 126.3062 - val_loss: 208.3264\n",
      "Epoch 9/100\n",
      "53/53 [==============================] - 22s 406ms/step - loss: 120.0243 - val_loss: 210.6705\n",
      "Epoch 10/100\n",
      "53/53 [==============================] - 24s 455ms/step - loss: 115.3602 - val_loss: 169.2755\n",
      "Epoch 11/100\n",
      "53/53 [==============================] - 24s 456ms/step - loss: 110.1227 - val_loss: 131.6671\n",
      "Epoch 12/100\n",
      "53/53 [==============================] - 22s 408ms/step - loss: 106.7872 - val_loss: 170.1919\n",
      "Epoch 13/100\n",
      "53/53 [==============================] - 22s 409ms/step - loss: 102.3652 - val_loss: 244.2914\n",
      "Epoch 14/100\n",
      "53/53 [==============================] - 24s 455ms/step - loss: 99.0664 - val_loss: 127.0576\n",
      "Epoch 15/100\n",
      "53/53 [==============================] - 22s 408ms/step - loss: 99.8164 - val_loss: 171.8031\n",
      "Epoch 16/100\n",
      "53/53 [==============================] - 22s 407ms/step - loss: 90.9984 - val_loss: 131.3892\n",
      "Epoch 17/100\n",
      "53/53 [==============================] - 24s 451ms/step - loss: 89.2311 - val_loss: 123.4419\n",
      "Epoch 18/100\n",
      "53/53 [==============================] - 22s 407ms/step - loss: 81.7754 - val_loss: 125.1612\n",
      "Epoch 19/100\n",
      "53/53 [==============================] - 24s 447ms/step - loss: 79.5540 - val_loss: 99.5092\n",
      "Epoch 20/100\n",
      "53/53 [==============================] - 22s 409ms/step - loss: 74.7640 - val_loss: 174.7256\n",
      "Epoch 21/100\n",
      "53/53 [==============================] - 22s 407ms/step - loss: 75.5763 - val_loss: 164.9185\n",
      "Epoch 22/100\n",
      "53/53 [==============================] - 22s 406ms/step - loss: 68.2629 - val_loss: 138.1647\n",
      "Epoch 23/100\n",
      "53/53 [==============================] - 22s 406ms/step - loss: 69.0049 - val_loss: 119.6641\n",
      "Epoch 24/100\n",
      "53/53 [==============================] - 22s 406ms/step - loss: 67.3452 - val_loss: 264.7589\n",
      "Epoch 25/100\n",
      "53/53 [==============================] - 22s 410ms/step - loss: 66.7311 - val_loss: 173.3383\n",
      "Epoch 26/100\n",
      "53/53 [==============================] - 22s 410ms/step - loss: 61.8618 - val_loss: 145.5975\n",
      "Epoch 27/100\n",
      "53/53 [==============================] - 22s 407ms/step - loss: 56.2963 - val_loss: 135.5062\n",
      "Epoch 28/100\n",
      "53/53 [==============================] - 22s 408ms/step - loss: 54.6540 - val_loss: 141.7425\n",
      "Epoch 29/100\n",
      "53/53 [==============================] - 22s 411ms/step - loss: 51.6841 - val_loss: 174.3480\n",
      "Epoch 30/100\n",
      "53/53 [==============================] - 22s 406ms/step - loss: 49.4962 - val_loss: 200.4429\n",
      "Epoch 31/100\n",
      "53/53 [==============================] - 22s 407ms/step - loss: 53.9887 - val_loss: 186.1171\n",
      "Epoch 32/100\n",
      "53/53 [==============================] - 22s 407ms/step - loss: 65.5831 - val_loss: 685.0801\n",
      "Epoch 33/100\n",
      "53/53 [==============================] - 22s 406ms/step - loss: 54.6125 - val_loss: 729.4131\n",
      "Epoch 34/100\n",
      "53/53 [==============================] - 22s 408ms/step - loss: 51.6170 - val_loss: nan\n",
      "Epoch 35/100\n",
      "53/53 [==============================] - 22s 407ms/step - loss: 47.1847 - val_loss: 222.1384\n",
      "Epoch 36/100\n",
      "53/53 [==============================] - 22s 406ms/step - loss: 46.4191 - val_loss: 128.9824\n",
      "Epoch 37/100\n",
      "53/53 [==============================] - 22s 421ms/step - loss: 43.0996 - val_loss: 390.7685\n",
      "Epoch 38/100\n",
      "53/53 [==============================] - 22s 410ms/step - loss: 43.1811 - val_loss: 180.3829\n",
      "Epoch 39/100\n",
      "53/53 [==============================] - 22s 408ms/step - loss: 42.3322 - val_loss: 107.8597\n",
      "Epoch 40/100\n",
      "53/53 [==============================] - 22s 409ms/step - loss: 41.4382 - val_loss: 158.0207\n",
      "Epoch 41/100\n",
      "53/53 [==============================] - 22s 406ms/step - loss: 37.4144 - val_loss: 217.8801\n",
      "Epoch 42/100\n",
      "53/53 [==============================] - 22s 408ms/step - loss: 36.2542 - val_loss: 182.8136\n",
      "Epoch 43/100\n",
      "53/53 [==============================] - 22s 408ms/step - loss: 33.8067 - val_loss: 142.7210\n",
      "Epoch 44/100\n",
      "53/53 [==============================] - 22s 406ms/step - loss: 34.2950 - val_loss: 165.8004\n",
      "Epoch 45/100\n",
      "53/53 [==============================] - 22s 406ms/step - loss: 29.4613 - val_loss: 110.7831\n",
      "Epoch 46/100\n",
      "53/53 [==============================] - 22s 409ms/step - loss: 31.3908 - val_loss: 129.6492\n",
      "Epoch 47/100\n",
      "53/53 [==============================] - 22s 406ms/step - loss: 28.6940 - val_loss: 209.8303\n",
      "Epoch 48/100\n",
      "53/53 [==============================] - 22s 408ms/step - loss: 26.2101 - val_loss: 162.8380\n",
      "Epoch 49/100\n",
      "53/53 [==============================] - 22s 407ms/step - loss: 32.8220 - val_loss: 216.0048\n",
      "Epoch 50/100\n",
      "53/53 [==============================] - 22s 407ms/step - loss: 26.8999 - val_loss: 226.4874\n",
      "Epoch 51/100\n",
      "53/53 [==============================] - 22s 408ms/step - loss: 23.6745 - val_loss: 211.9872\n",
      "Epoch 52/100\n",
      "53/53 [==============================] - 22s 408ms/step - loss: 24.3211 - val_loss: 333.1021\n",
      "Epoch 53/100\n",
      "53/53 [==============================] - 22s 406ms/step - loss: 25.4627 - val_loss: 263.9773\n",
      "Epoch 54/100\n",
      "53/53 [==============================] - 22s 409ms/step - loss: 25.6626 - val_loss: 188.4304\n",
      "Epoch 55/100\n",
      "53/53 [==============================] - 22s 409ms/step - loss: 16.7894 - val_loss: 193.5144\n",
      "Epoch 56/100\n",
      "53/53 [==============================] - 22s 408ms/step - loss: 20.9617 - val_loss: 212.0172\n",
      "Epoch 57/100\n",
      "53/53 [==============================] - 22s 406ms/step - loss: 32.2262 - val_loss: 309.6851\n",
      "Epoch 58/100\n",
      "53/53 [==============================] - 22s 407ms/step - loss: 23.0323 - val_loss: 324.0692\n",
      "Epoch 59/100\n",
      "53/53 [==============================] - 22s 408ms/step - loss: 20.7397 - val_loss: 128.6770\n",
      "Epoch 60/100\n",
      "53/53 [==============================] - 22s 407ms/step - loss: 18.1615 - val_loss: 259.5845\n",
      "Epoch 61/100\n",
      "53/53 [==============================] - 22s 408ms/step - loss: 22.7391 - val_loss: 214.5377\n",
      "Epoch 62/100\n",
      "53/53 [==============================] - 22s 407ms/step - loss: 15.3167 - val_loss: 167.5989\n",
      "Epoch 63/100\n",
      "53/53 [==============================] - 22s 407ms/step - loss: 15.9914 - val_loss: 226.3405\n",
      "Epoch 64/100\n",
      "53/53 [==============================] - 22s 407ms/step - loss: 18.8425 - val_loss: 207.8577\n",
      "Epoch 65/100\n",
      "53/53 [==============================] - 22s 408ms/step - loss: 12.9116 - val_loss: 255.0509\n",
      "Epoch 66/100\n",
      "53/53 [==============================] - 22s 407ms/step - loss: 10.8232 - val_loss: 216.8046\n",
      "Epoch 67/100\n",
      "53/53 [==============================] - 22s 407ms/step - loss: 16.9837 - val_loss: 249.6288\n",
      "Epoch 68/100\n",
      "53/53 [==============================] - 22s 408ms/step - loss: 21.2327 - val_loss: 191.8950\n",
      "Epoch 69/100\n",
      "53/53 [==============================] - 22s 406ms/step - loss: 16.5233 - val_loss: 274.6225\n",
      "Epoch 70/100\n",
      "53/53 [==============================] - 22s 407ms/step - loss: 17.2248 - val_loss: 297.0230\n",
      "Epoch 71/100\n",
      "53/53 [==============================] - 22s 406ms/step - loss: 13.0225 - val_loss: 251.6772\n",
      "Epoch 72/100\n",
      "53/53 [==============================] - 22s 406ms/step - loss: 13.7532 - val_loss: 291.7504\n",
      "Epoch 73/100\n",
      "53/53 [==============================] - 22s 407ms/step - loss: 10.3100 - val_loss: 280.9598\n",
      "Epoch 74/100\n",
      "53/53 [==============================] - 22s 408ms/step - loss: 24.8213 - val_loss: 320.6956\n",
      "Epoch 75/100\n",
      "53/53 [==============================] - 22s 408ms/step - loss: 17.0858 - val_loss: 273.6805\n",
      "Epoch 76/100\n",
      "53/53 [==============================] - 22s 408ms/step - loss: 9.4817 - val_loss: 330.5306\n",
      "Epoch 77/100\n",
      "53/53 [==============================] - 22s 412ms/step - loss: 16.4249 - val_loss: 162.1087\n",
      "Epoch 78/100\n",
      "53/53 [==============================] - 22s 408ms/step - loss: 12.9829 - val_loss: 228.4943\n",
      "Epoch 79/100\n",
      "53/53 [==============================] - 22s 408ms/step - loss: 7.8211 - val_loss: 293.2193\n",
      "Epoch 80/100\n",
      "53/53 [==============================] - 22s 407ms/step - loss: 8.7194 - val_loss: 209.9125\n",
      "Epoch 81/100\n",
      "53/53 [==============================] - 22s 409ms/step - loss: 11.6711 - val_loss: 245.3882\n",
      "Epoch 82/100\n",
      "53/53 [==============================] - 22s 406ms/step - loss: 9.1507 - val_loss: 243.1454\n",
      "Epoch 83/100\n",
      "53/53 [==============================] - 22s 408ms/step - loss: 9.6090 - val_loss: 303.5170\n",
      "Epoch 84/100\n",
      "53/53 [==============================] - 22s 407ms/step - loss: 13.7138 - val_loss: 284.8069\n",
      "Epoch 85/100\n",
      "53/53 [==============================] - 22s 405ms/step - loss: 8.5243 - val_loss: 319.2211\n",
      "Epoch 86/100\n",
      "53/53 [==============================] - 22s 411ms/step - loss: 7.1647 - val_loss: 212.6001\n",
      "Epoch 87/100\n",
      "53/53 [==============================] - 22s 410ms/step - loss: 7.6973 - val_loss: 288.9117\n",
      "Epoch 88/100\n",
      "53/53 [==============================] - 22s 406ms/step - loss: 8.1683 - val_loss: 275.0350\n",
      "Epoch 89/100\n",
      "53/53 [==============================] - 22s 408ms/step - loss: 13.6276 - val_loss: 384.5079\n",
      "Epoch 90/100\n",
      "53/53 [==============================] - 22s 412ms/step - loss: 17.5166 - val_loss: 316.5488\n",
      "Epoch 91/100\n",
      "53/53 [==============================] - 22s 406ms/step - loss: 8.3680 - val_loss: 217.3312\n",
      "Epoch 92/100\n",
      "53/53 [==============================] - 22s 407ms/step - loss: 4.7783 - val_loss: 251.3481\n",
      "Epoch 93/100\n",
      "53/53 [==============================] - 22s 407ms/step - loss: 7.0240 - val_loss: 301.1509\n",
      "Epoch 94/100\n",
      "53/53 [==============================] - 22s 406ms/step - loss: 11.7498 - val_loss: 236.7455\n",
      "Epoch 95/100\n",
      "53/53 [==============================] - 22s 407ms/step - loss: 10.9670 - val_loss: 387.3825\n",
      "Epoch 96/100\n",
      "53/53 [==============================] - 22s 410ms/step - loss: 9.2779 - val_loss: 378.7026\n",
      "Epoch 97/100\n",
      "53/53 [==============================] - 22s 407ms/step - loss: 9.7132 - val_loss: 343.6844\n",
      "Epoch 98/100\n",
      "53/53 [==============================] - 22s 407ms/step - loss: 7.6422 - val_loss: 336.3660\n",
      "Epoch 99/100\n",
      "53/53 [==============================] - 22s 407ms/step - loss: 7.6494 - val_loss: 281.9671\n",
      "Epoch 100/100\n",
      "53/53 [==============================] - 22s 408ms/step - loss: 9.5171 - val_loss: 274.0036\n"
     ]
    }
   ],
   "source": [
    "# class LossHistory(keras.callbacks.Callback):\n",
    "#     def on_train_begin(self, logs={}):\n",
    "#         self.losses = []\n",
    "        \n",
    "#     def on_batch_end(self, batch, logs={}):\n",
    "#         self.losses.append(logs.get('loss'))\n",
    "\n",
    "# history = LossHistory()\n",
    "''''''''''''''''''''''''''''''''''''''\n",
    "day = '20230104'\n",
    "checkpoint_filepath = '../model/202301/{}_nosmooth.weights'.format(day)\n",
    "val_loss_checkpoint_callback = keras.callbacks.ModelCheckpoint(\n",
    "    filepath=checkpoint_filepath,\n",
    "    save_weights_only=True,\n",
    "    monitor='val_loss',\n",
    "    mode='min',\n",
    "    save_best_only=True)\n",
    "\n",
    "## TODO:\n",
    "val_mAP_checkpoint_callback = keras.callbacks.ModelCheckpoint(\n",
    "    filepath=checkpoint_filepath,\n",
    "    # save_weights_only=True,\n",
    "    monitor='auc',\n",
    "    mode='max',\n",
    "    save_best_only=True\n",
    "    )\n",
    "\n",
    "\n",
    "callbacks = [val_loss_checkpoint_callback, \n",
    "            #  val_mAP_checkpoint_callback\n",
    "            ]\n",
    "            \n",
    "epochs    = 100\n",
    "his = model.fit(train_data_gen=data_gen_train, \n",
    "                initial_epoch = 0,\n",
    "                epochs       = epochs, \n",
    "                val_data_gen = data_gen_vali,\n",
    "                callbacks    = callbacks,\n",
    "          )"
   ]
  },
  {
   "cell_type": "markdown",
   "metadata": {},
   "source": [
    "# 畫圖"
   ]
  },
  {
   "cell_type": "code",
   "execution_count": 10,
   "metadata": {},
   "outputs": [],
   "source": [
    "loss     = his.history['loss']\n",
    "val_loss = his.history['val_loss']"
   ]
  },
  {
   "cell_type": "code",
   "execution_count": 11,
   "metadata": {},
   "outputs": [
    {
     "data": {
      "image/png": "[encoded data removed]",
      "text/plain": [
       "<Figure size 2400x400 with 1 Axes>"
      ]
     },
     "metadata": {},
     "output_type": "display_data"
    }
   ],
   "source": [
    "x = [i for i in range(1, epochs+1)]\n",
    "\n",
    "min_valloss_x = val_loss.index(min(val_loss)) + 1\n",
    "min_valloss_y = min(val_loss)\n",
    "\n",
    "plt.figure(figsize=(24,4))\n",
    "plt.plot(x, loss, 'r')     \n",
    "plt.plot(x, val_loss, 'b')     # red dotted line (no marker)\n",
    "\n",
    "plt.plot(min_valloss_x, min_valloss_y, 'd', color='g')\n",
    "plt.text(min_valloss_x, min_valloss_y, \"({},{})\".format(min_valloss_x,round(min_valloss_y,1)), ha='left',va='top',fontsize=20)\n",
    "\n",
    "plt.legend(['loss','val_loss'])\n",
    "plt.ylim((0, 1000))\n",
    "plt.xlabel('epoch')\n",
    "plt.ylabel('loss')\n",
    "plt.title('loss')\n",
    "plt.savefig('../model/202301/{}_loss.png'.format(day),\n",
    "            bbox_inches='tight',\n",
    "            pad_inches=1,\n",
    "            transparent=False)\n",
    "plt.show()"
   ]
  },
  {
   "cell_type": "code",
   "execution_count": 12,
   "metadata": {},
   "outputs": [],
   "source": [
    "with open('../model/202301/{}_val_loss.list'.format(day),'wb') as f:\n",
    "    pickle.dump(val_loss,f) "
   ]
  },
  {
   "cell_type": "code",
   "execution_count": 13,
   "metadata": {},
   "outputs": [],
   "source": [
    "with open('../model/202301/{}_loss.list'.format(day),'wb') as f:\n",
    "    pickle.dump(loss,f) "
   ]
  },
  {
   "cell_type": "code",
   "execution_count": 14,
   "metadata": {},
   "outputs": [
    {
     "name": "stderr",
     "output_type": "stream",
     "text": [
      "WARNING:absl:Found untraced functions such as _jit_compiled_convolution_op, _jit_compiled_convolution_op, _jit_compiled_convolution_op, _jit_compiled_convolution_op, _jit_compiled_convolution_op while saving (showing 5 of 110). These functions will not be directly callable after loading.\n"
     ]
    },
    {
     "name": "stdout",
     "output_type": "stream",
     "text": [
      "INFO:tensorflow:Assets written to: ram://717406e6-549d-4ce2-a5c3-43dd270b6e65/assets\n"
     ]
    },
    {
     "name": "stderr",
     "output_type": "stream",
     "text": [
      "INFO:tensorflow:Assets written to: ram://717406e6-549d-4ce2-a5c3-43dd270b6e65/assets\n"
     ]
    }
   ],
   "source": [
    "with open('../model/202301/{}_loss.his'.format(day),'wb') as f:\n",
    "    pickle.dump(his,f) "
   ]
  },
  {
   "cell_type": "code",
   "execution_count": null,
   "metadata": {},
   "outputs": [],
   "source": []
  }
 ],
 "metadata": {
  "colab": {
   "authorship_tag": "ABX9TyOi+1wkzoRXzgNQN7U2NBPg",
   "default_view": {},
   "name": "Untitled",
   "provenance": [],
   "views": {}
  },
  "kernelspec": {
   "display_name": "myenv",
   "language": "python",
   "name": "python3"
  },
  "language_info": {
   "codemirror_mode": {
    "name": "ipython",
    "version": 3
   },
   "file_extension": ".py",
   "mimetype": "text/x-python",
   "name": "python",
   "nbconvert_exporter": "python",
   "pygments_lexer": "ipython3",
   "version": "3.9.15 (main, Nov  4 2022, 16:13:54) \n[GCC 11.2.0]"
  },
  "vscode": {
   "interpreter": {
    "hash": "e60de47cb3857121f9ee587fa65ec3e886692403f703077c3e6fd7aef069122f"
   }
  }
 },
 "nbformat": 4,
 "nbformat_minor": 4
}
